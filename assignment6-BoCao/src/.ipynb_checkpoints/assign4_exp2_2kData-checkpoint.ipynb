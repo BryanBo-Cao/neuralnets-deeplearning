{
 "cells": [
  {
   "cell_type": "code",
   "execution_count": 1,
   "metadata": {
    "collapsed": true
   },
   "outputs": [],
   "source": [
    "'''\n",
    "Author: Bryan Bo Cao\n",
    "Email: boca7588@colorado.edu or bo.cao-1@colorado.edu\n",
    "Github Repo: https://github.com/BryanBo-Cao/neuralnets-deeplearning\n",
    "Reference:\n",
    "    \"3_mnist_from_scratch from\", \"docker run -it -p 8888:8888 gcr.io/tensorflow/tensorflow\"\n",
    "    https://github.com/michael-iuzzolino/CIFAR_reader\n",
    "'''\n",
    "from __future__ import print_function\n",
    "\n",
    "import tensorflow as tf\n",
    "import numpy as np\n",
    "import random\n",
    "import copy\n",
    "import matplotlib.pyplot as plt\n",
    "from importlib import import_module\n",
    "from CIFAR_reader import CIFAR_reader"
   ]
  },
  {
   "cell_type": "code",
   "execution_count": 2,
   "metadata": {},
   "outputs": [
    {
     "name": "stdout",
     "output_type": "stream",
     "text": [
      "Checking for CIFAR data...\n",
      "Extracting Data...\n",
      "Unpacking data...\n",
      "Loading training batch 1 of 5...\n",
      "Loading training batch 2 of 5...\n",
      "Loading training batch 3 of 5...\n",
      "Loading training batch 4 of 5...\n",
      "Loading training batch 5 of 5...\n",
      "Loading testing batch 1 of 1...\n"
     ]
    }
   ],
   "source": [
    "cifar = CIFAR_reader(one_hot=True, verbose=True, img_size=32, num_classes=10, augment=False)"
   ]
  },
  {
   "cell_type": "code",
   "execution_count": 3,
   "metadata": {},
   "outputs": [
    {
     "name": "stdout",
     "output_type": "stream",
     "text": [
      "N_TRAIN_IMAGE,  2000\n"
     ]
    }
   ],
   "source": [
    "#due the to time I have to train the data, I only deal with 2k train data and test data\n",
    "IMAGE_SIZE = 32\n",
    "PIXEL_DEPTH = 255\n",
    "BATCH_SIZE = 128\n",
    "N_CHANNELS = 3\n",
    "N_LABELS = 10\n",
    "SEED = 32\n",
    "\n",
    "training_data = cifar.train\n",
    "training_labels = cifar.labels\n",
    "train_data = training_data['data']\n",
    "train_data = train_data[:2000]\n",
    "train_labels = training_data['labels']\n",
    "train_labels = train_labels[:2000]\n",
    "\n",
    "testing_data = cifar.test\n",
    "test_data = testing_data['data']\n",
    "test_data = test_data[:2000]\n",
    "test_data = np.float32(test_data)\n",
    "test_labels = testing_data['labels']\n",
    "test_labels = test_labels[:2000]\n",
    "test_labels = np.float32(test_labels)\n",
    "\n",
    "# convert train and test data values from [0, 255] to [-0.5, 0.5]\n",
    "N_TRAIN_IMAGE = len(train_data)\n",
    "train_data = (train_data - (PIXEL_DEPTH / 2.0)) / PIXEL_DEPTH\n",
    "train_data = train_data.reshape(N_TRAIN_IMAGE, IMAGE_SIZE, IMAGE_SIZE, 3)\n",
    "print('N_TRAIN_IMAGE, ', N_TRAIN_IMAGE)\n",
    "\n",
    "N_TEST_IMAGE = len(test_data)\n",
    "test_data = (test_data - (PIXEL_DEPTH / 2.0)) / PIXEL_DEPTH\n",
    "test_data = test_data.reshape(N_TEST_IMAGE, IMAGE_SIZE, IMAGE_SIZE, 3)\n",
    "\n",
    "#print(\"train_data[0]:\", train_data[0])\n",
    "#print(\"test_data[0]:\", test_data[0])\n",
    "\n",
    "all_train_data = train_data\n",
    "all_train_labels = train_labels"
   ]
  },
  {
   "cell_type": "code",
   "execution_count": 4,
   "metadata": {},
   "outputs": [
    {
     "data": {
      "image/png": "[encoded data removed]",
      "text/plain": [
       "<matplotlib.figure.Figure at 0x118104ed0>"
      ]
     },
     "metadata": {},
     "output_type": "display_data"
    }
   ],
   "source": [
    "cifar.preview_data(data_set=\"training\")"
   ]
  },
  {
   "cell_type": "code",
   "execution_count": 5,
   "metadata": {},
   "outputs": [
    {
     "name": "stdout",
     "output_type": "stream",
     "text": [
      "(2000, 32, 32, 3)\n",
      "(2000, 10)\n",
      "(2000, 32, 32, 3)\n",
      "(2000, 10)\n"
     ]
    }
   ],
   "source": [
    "print (train_data.shape)\n",
    "print (train_labels.shape)\n",
    "print (test_data.shape)\n",
    "print (test_labels.shape)"
   ]
  },
  {
   "cell_type": "code",
   "execution_count": 6,
   "metadata": {},
   "outputs": [
    {
     "name": "stdout",
     "output_type": "stream",
     "text": [
      "validation_data[0][0][0]: \t [-0.26862746 -0.25686276 -0.25294119]\n",
      "validation_data[0][0][1]: \t [-0.33137256 -0.31960785 -0.32352942]\n",
      "train_data[0][0][0]: \t [-0.40196079 -0.35490197 -0.47647059]\n",
      "train_data[0][0][1]: \t [-0.4254902  -0.38235295 -0.48431373]\n",
      "train_data.shape\t (1600, 32, 32, 3)\n",
      "validation_data.shape\t (400, 32, 32, 3)\n",
      "train_data size:\t 1600\n",
      "validation_data size:\t 400\n"
     ]
    }
   ],
   "source": [
    "# 5-fold cross validation\n",
    "VALIDATION_SIZE = len(all_train_data) / 5\n",
    "VALIDATION_OFFSET = 0\n",
    "\n",
    "validation_data = all_train_data[VALIDATION_OFFSET : VALIDATION_OFFSET + VALIDATION_SIZE, :, :, :]\n",
    "validation_data = np.float32(validation_data)\n",
    "validation_labels = all_train_labels[VALIDATION_OFFSET : VALIDATION_OFFSET + VALIDATION_SIZE]\n",
    "validation_size = len(validation_data)\n",
    "\n",
    "train_data = np.append(all_train_data[ : VALIDATION_OFFSET, :, :, :], \n",
    "                       all_train_data[VALIDATION_OFFSET + VALIDATION_SIZE : , :, :, :], axis = 0)\n",
    "train_data = np.float32(train_data)\n",
    "train_labels = all_train_labels[VALIDATION_SIZE:]\n",
    "train_size = len(train_data)\n",
    "\n",
    "# to verify validation and train data are splitted properly\n",
    "print('validation_data[0][0][0]: \\t', validation_data[0][0][0])\n",
    "print('validation_data[0][0][1]: \\t', validation_data[0][0][1])\n",
    "print('train_data[0][0][0]: \\t', train_data[0][0][0])\n",
    "print('train_data[0][0][1]: \\t', train_data[0][0][1])\n",
    "\n",
    "print('train_data.shape\\t', train_data.shape)\n",
    "print('validation_data.shape\\t', validation_data.shape)\n",
    "print('train_data size:\\t', train_size)\n",
    "print('validation_data size:\\t', validation_size)\n",
    "#print('validation_data:', validation_data)\n",
    "#print('validation_labels: ', validation_labels)"
   ]
  },
  {
   "cell_type": "code",
   "execution_count": 7,
   "metadata": {},
   "outputs": [
    {
     "name": "stdout",
     "output_type": "stream",
     "text": [
      "train_all_data_labels0:  [[ 0.  0.  1. ...,  0.  0.  0.]\n",
      " [ 1.  0.  0. ...,  0.  0.  0.]\n",
      " [ 0.  0.  1. ...,  0.  0.  0.]\n",
      " ..., \n",
      " [ 0.  0.  0. ...,  1.  0.  0.]\n",
      " [ 0.  0.  0. ...,  0.  0.  0.]\n",
      " [ 1.  0.  0. ...,  0.  0.  0.]]\n",
      "train_all_data_labels3:  []\n"
     ]
    }
   ],
   "source": [
    "TRAIN_ALL_DATA_OFFSET = 0\n",
    "TRAIN_ALL_DATA_SIZE = 2000\n",
    "train_all_data_labels0 = train_labels[TRAIN_ALL_DATA_OFFSET : TRAIN_ALL_DATA_OFFSET + TRAIN_ALL_DATA_SIZE]\n",
    "TRAIN_ALL_DATA_OFFSET += TRAIN_ALL_DATA_SIZE\n",
    "train_all_data_labels1 = train_labels[TRAIN_ALL_DATA_OFFSET : TRAIN_ALL_DATA_OFFSET + TRAIN_ALL_DATA_SIZE]\n",
    "TRAIN_ALL_DATA_OFFSET += TRAIN_ALL_DATA_SIZE\n",
    "train_all_data_labels2 = train_labels[TRAIN_ALL_DATA_OFFSET : TRAIN_ALL_DATA_OFFSET + TRAIN_ALL_DATA_SIZE]\n",
    "TRAIN_ALL_DATA_OFFSET += TRAIN_ALL_DATA_SIZE\n",
    "train_all_data_labels3 = train_labels[TRAIN_ALL_DATA_OFFSET : TRAIN_ALL_DATA_OFFSET + TRAIN_ALL_DATA_SIZE]\n",
    "print(\"train_all_data_labels0: \", train_all_data_labels0)\n",
    "print(\"train_all_data_labels3: \", train_all_data_labels3)"
   ]
  },
  {
   "cell_type": "code",
   "execution_count": 8,
   "metadata": {},
   "outputs": [
    {
     "name": "stdout",
     "output_type": "stream",
     "text": [
      "Variables Initialized\n"
     ]
    }
   ],
   "source": [
    "import tensorflow as tf\n",
    "\n",
    "train_data_node = tf.placeholder(\n",
    "  tf.float32,\n",
    "  shape=(BATCH_SIZE, IMAGE_SIZE, IMAGE_SIZE, N_CHANNELS))\n",
    "train_labels_node = tf.placeholder(tf.float32,\n",
    "                                   shape=(BATCH_SIZE, N_LABELS))\n",
    "\n",
    "TRAIN_ALL_DATA_OFFSET = 0\n",
    "TRAIN_ALL_DATA_SIZE = 2000\n",
    "train_all_data_node0 = tf.constant(train_data[TRAIN_ALL_DATA_OFFSET: TRAIN_ALL_DATA_OFFSET + TRAIN_ALL_DATA_SIZE])\n",
    "TRAIN_ALL_DATA_OFFSET += TRAIN_ALL_DATA_SIZE\n",
    "train_all_data_node1 = tf.constant(train_data[TRAIN_ALL_DATA_OFFSET: TRAIN_ALL_DATA_OFFSET + TRAIN_ALL_DATA_SIZE])\n",
    "TRAIN_ALL_DATA_OFFSET += TRAIN_ALL_DATA_SIZE\n",
    "train_all_data_node2 = tf.constant(train_data[TRAIN_ALL_DATA_OFFSET: TRAIN_ALL_DATA_OFFSET + TRAIN_ALL_DATA_SIZE])\n",
    "TRAIN_ALL_DATA_OFFSET += TRAIN_ALL_DATA_SIZE\n",
    "train_all_data_node3 = tf.constant(train_data[TRAIN_ALL_DATA_OFFSET: TRAIN_ALL_DATA_OFFSET + TRAIN_ALL_DATA_SIZE])\n",
    "\n",
    "validation_data_node = tf.constant(validation_data)\n",
    "test_data_node = tf.constant(test_data)\n",
    "\n",
    "conv1_weights = tf.Variable(\n",
    "  tf.truncated_normal([10, 10, N_CHANNELS, 32],  # 10x10 kernel, depth 32.\n",
    "                      stddev=0.1,\n",
    "                      seed=SEED))\n",
    "conv1_biases = tf.Variable(tf.zeros([32]))\n",
    "conv2_weights = tf.Variable(\n",
    "  tf.truncated_normal([10, 10, 32, 64],\n",
    "                      stddev=0.1,\n",
    "                      seed=SEED))\n",
    "conv2_biases = tf.Variable(tf.constant(0.1, shape=[64]))\n",
    "fc1_weights = tf.Variable(  # fully connected, depth 512.\n",
    "  tf.truncated_normal([IMAGE_SIZE // 4 * IMAGE_SIZE // 4 * 64, 512],\n",
    "                      stddev=0.1,\n",
    "                      seed=SEED))\n",
    "fc1_biases = tf.Variable(tf.constant(0.1, shape=[512]))\n",
    "fc2_weights = tf.Variable(\n",
    "  tf.truncated_normal([512, N_LABELS],\n",
    "                      stddev=0.1,\n",
    "                      seed=SEED))\n",
    "fc2_biases = tf.Variable(tf.constant(0.1, shape=[N_LABELS]))\n",
    "\n",
    "print('Variables Initialized')"
   ]
  },
  {
   "cell_type": "code",
   "execution_count": 9,
   "metadata": {},
   "outputs": [
    {
     "name": "stdout",
     "output_type": "stream",
     "text": [
      "Model defined\n"
     ]
    }
   ],
   "source": [
    "def model(data, train=False):\n",
    "\n",
    "    ### group layer1\n",
    "    conv = tf.nn.conv2d(data,\n",
    "                        conv1_weights,\n",
    "                        strides=[1, 1, 1, 1], #[image index, y, x, depth]\n",
    "                        padding='SAME')\n",
    "\n",
    "    relu = tf.nn.relu(tf.nn.bias_add(conv, conv1_biases))\n",
    "    pool = tf.nn.max_pool(relu,\n",
    "                          ksize=[1, 4, 4, 1],\n",
    "                          strides=[1, 2, 2, 1],\n",
    "                          padding='SAME')\n",
    "    \n",
    "    ### group layer2\n",
    "    conv = tf.nn.conv2d(pool,\n",
    "                        conv2_weights,\n",
    "                        strides=[1, 1, 1, 1],\n",
    "                        padding='SAME')\n",
    "    relu = tf.nn.relu(tf.nn.bias_add(conv, conv2_biases))\n",
    "    pool = tf.nn.max_pool(relu,\n",
    "                          ksize=[1, 2, 2, 1],\n",
    "                          strides=[1, 2, 2, 1],\n",
    "                          padding='SAME')\n",
    "\n",
    "    # Fully connected layers\n",
    "    pool_shape = pool.get_shape().as_list()\n",
    "    reshape = tf.reshape(\n",
    "        pool,\n",
    "        [pool_shape[0], pool_shape[1] * pool_shape[2] * pool_shape[3]])\n",
    "  \n",
    "    # Fully connected layer. Note that the \n",
    "    # '+' operation automatically broadcasts the biases.\n",
    "    hidden = tf.nn.relu(tf.matmul(reshape, fc1_weights) + fc1_biases)\n",
    "    return tf.matmul(hidden, fc2_weights) + fc2_biases\n",
    "\n",
    "print('Model defined')"
   ]
  },
  {
   "cell_type": "code",
   "execution_count": 10,
   "metadata": {},
   "outputs": [
    {
     "name": "stdout",
     "output_type": "stream",
     "text": [
      "Training computation: logits + cross-entropy loss done\n"
     ]
    }
   ],
   "source": [
    "# Training computation: logits + cross-entropy loss.\n",
    "logits = model(train_data_node, True)\n",
    "\n",
    "loss = tf.reduce_mean(tf.nn.softmax_cross_entropy_with_logits(\n",
    "  labels=train_labels_node, logits=logits))\n",
    "\n",
    "# L2 regularization for the fully connected parameters.\n",
    "regularizers = (tf.nn.l2_loss(fc1_weights) + tf.nn.l2_loss(fc1_biases) +\n",
    "                tf.nn.l2_loss(fc2_weights) + tf.nn.l2_loss(fc2_biases))\n",
    "loss += 5e-4 * regularizers\n",
    "\n",
    "batch = tf.Variable(0)\n",
    "# Decay once per epoch, using an exponential schedule starting at 0.01.\n",
    "'''\n",
    "learning_rate = tf.train.exponential_decay(\n",
    "  0.01,                # Base learning rate.\n",
    "  batch * BATCH_SIZE,  # Current index into the dataset.\n",
    "  train_size,          # Decay step.\n",
    "  0.95,                # Decay rate.\n",
    "  staircase=True)\n",
    "'''\n",
    "learning_rate = tf.constant(0.01)\n",
    "\n",
    "optimizer = tf.train.MomentumOptimizer(learning_rate,\n",
    "                                       0.9).minimize(loss,\n",
    "                                                     global_step=batch)\n",
    "\n",
    "train_prediction = tf.nn.softmax(logits)\n",
    "\n",
    "# compute only by {eval()} method.\n",
    "train_all_data_prediction0 = tf.nn.softmax(model(train_all_data_node0))\n",
    "train_all_data_prediction1 = tf.nn.softmax(model(train_all_data_node1))\n",
    "train_all_data_prediction2 = tf.nn.softmax(model(train_all_data_node2))\n",
    "train_all_data_prediction3 = tf.nn.softmax(model(train_all_data_node3))\n",
    "\n",
    "validation_prediction = tf.nn.softmax(model(validation_data_node))\n",
    "test_prediction = tf.nn.softmax(model(test_data_node))\n",
    "\n",
    "print('Training computation: logits + cross-entropy loss done')"
   ]
  },
  {
   "cell_type": "code",
   "execution_count": 11,
   "metadata": {
    "collapsed": true
   },
   "outputs": [],
   "source": [
    "sess = tf.InteractiveSession()\n",
    "sess.as_default()\n",
    "tf.global_variables_initializer().run()"
   ]
  },
  {
   "cell_type": "code",
   "execution_count": 12,
   "metadata": {},
   "outputs": [
    {
     "name": "stdout",
     "output_type": "stream",
     "text": [
      "(128, 32, 32, 3)\n",
      "(128, 10)\n",
      "Run graph done.\n"
     ]
    }
   ],
   "source": [
    "batch_data = train_data[:BATCH_SIZE, :, :, :]\n",
    "batch_labels = train_labels[:BATCH_SIZE]\n",
    "\n",
    "# batch data\n",
    "feed_dict = {train_data_node: batch_data,\n",
    "             train_labels_node: batch_labels}\n",
    "\n",
    "# Run the graph and fetch some of the nodes.\n",
    "_, l, lr, predictions = sess.run(\n",
    "  [optimizer, loss, learning_rate, train_prediction],\n",
    "  feed_dict=feed_dict)\n",
    "\n",
    "print(batch_data.shape)\n",
    "print(batch_labels.shape)\n",
    "print('Run graph done.')"
   ]
  },
  {
   "cell_type": "code",
   "execution_count": 13,
   "metadata": {},
   "outputs": [
    {
     "name": "stdout",
     "output_type": "stream",
     "text": [
      "[  4.40808279e-13   4.11043573e-07   1.74971494e-14   3.45441319e-12\n",
      "   1.75790320e-11   9.99998450e-01   5.73996509e-17   1.06348909e-06\n",
      "   3.80866300e-16   1.22411109e-07]\n"
     ]
    }
   ],
   "source": [
    "print(predictions[0])"
   ]
  },
  {
   "cell_type": "code",
   "execution_count": 14,
   "metadata": {},
   "outputs": [
    {
     "name": "stdout",
     "output_type": "stream",
     "text": [
      "First prediction 5\n",
      "(128, 10)\n",
      "All predictions [5 7 7 5 5 5 7 7 5 5 5 5 9 1 5 0 5 1 5 5 5 7 5 5 7 5 5 5 5 5 7 5 5 5 5 5 0\n",
      " 7 5 5 5 7 5 5 5 5 5 5 5 7 7 7 5 7 5 5 5 5 5 5 7 7 5 7 5 7 5 5 5 5 7 5 5 7\n",
      " 5 5 7 5 5 5 5 5 7 7 7 5 7 7 7 5 7 5 7 5 0 5 5 5 5 5 5 5 5 5 5 5 5 1 5 5 5\n",
      " 5 5 5 5 5 9 5 7 7 5 5 5 5 5 5 7 5]\n"
     ]
    }
   ],
   "source": [
    "# The highest probability in the first entry.\n",
    "print('First prediction', np.argmax(predictions[0]))\n",
    "print(predictions.shape)\n",
    "print('All predictions', np.argmax(predictions, 1))"
   ]
  },
  {
   "cell_type": "code",
   "execution_count": 15,
   "metadata": {},
   "outputs": [
    {
     "name": "stdout",
     "output_type": "stream",
     "text": [
      "Batch labels [2 0 2 2 0 0 9 0 9 6 8 2 7 7 4 0 3 0 8 9 4 2 7 2 5 2 5 1 9 4 8 5 1 7 4 4 0\n",
      " 6 9 0 7 8 8 9 9 3 3 4 0 4 5 6 6 0 1 0 8 0 4 8 8 1 5 2 6 8 1 0 0 7 7 5 9 6\n",
      " 2 8 3 4 7 3 9 0 1 2 4 8 1 8 6 4 4 5 7 1 3 9 8 0 1 7 5 8 2 8 0 4 1 8 9 8 2\n",
      " 9 9 2 7 5 7 3 8 8 4 4 2 7 1 6 4 0]\n"
     ]
    }
   ],
   "source": [
    "print('Batch labels', np.argmax(batch_labels, 1))"
   ]
  },
  {
   "cell_type": "code",
   "execution_count": null,
   "metadata": {},
   "outputs": [
    {
     "name": "stdout",
     "output_type": "stream",
     "text": [
      "get_accuracy() defined\n",
      "get_all_train_data_accuracy() defined\n"
     ]
    }
   ],
   "source": [
    "def get_accuracy(predictions, labels):\n",
    "    correct = np.sum(np.argmax(predictions, 1) == np.argmax(labels, 1))\n",
    "    total = predictions.shape[0]\n",
    "\n",
    "    accuracy = float(correct) / float(total)\n",
    "    accuracy_fig = \"\"\n",
    "    accuracy_fig = str(correct)\n",
    "    accuracy_fig += (\" of \")\n",
    "    accuracy_fig += str(total)\n",
    "    return accuracy, accuracy_fig\n",
    "\n",
    "print('get_accuracy() defined')\n",
    "\n",
    "def get_all_train_data_accuracy(\n",
    "    train_all_data_prediction0, train_all_data_labels0,\n",
    "    train_all_data_prediction1, train_all_data_labels1,\n",
    "    train_all_data_prediction2, train_all_data_labels2,\n",
    "    train_all_data_prediction3, train_all_data_labels3):\n",
    "    \n",
    "    correct0 = np.sum(np.argmax(train_all_data_prediction0, 1) == np.argmax(train_all_data_labels0, 1))\n",
    "    total0 = train_all_data_prediction0.shape[0]\n",
    "    print(\"correct0: %d, total0: %d\", (correct0, total0))\n",
    "    \n",
    "    correct1 = np.sum(np.argmax(train_all_data_prediction1, 1) == np.argmax(train_all_data_labels1, 1))\n",
    "    total1 = train_all_data_prediction1.shape[0]\n",
    "    print(\"correct1: %d, total1: %d\", (correct1, total1))\n",
    "    \n",
    "    correct2 = np.sum(np.argmax(train_all_data_prediction2, 1) == np.argmax(train_all_data_labels2, 1))\n",
    "    total2 = train_all_data_prediction2.shape[0]\n",
    "    print(\"correct2: %d, total2: %d\", (correct2, total2))\n",
    "    \n",
    "    correct3 = np.sum(np.argmax(train_all_data_prediction3, 1) == np.argmax(train_all_data_labels3, 1))\n",
    "    total3 = train_all_data_prediction3.shape[0]\n",
    "    print(\"correct3: %d, total3: %d\", (correct3, total3))\n",
    "\n",
    "    correct = correct0 + correct1 + correct2 + correct3\n",
    "    total = total0 + total1 + total2 + total3\n",
    "    accuracy = float(correct) / float(total)\n",
    "    accuracy_fig = \"\"\n",
    "    accuracy_fig = str(correct)\n",
    "    accuracy_fig += (\" of \")\n",
    "    accuracy_fig += str(total)\n",
    "    return accuracy, accuracy_fig\n",
    "\n",
    "print('get_all_train_data_accuracy() defined')"
   ]
  },
  {
   "cell_type": "code",
   "execution_count": null,
   "metadata": {},
   "outputs": [
    {
     "name": "stdout",
     "output_type": "stream",
     "text": [
      "validation_data[0][0][0]: \t [-0.26862746 -0.25686276 -0.25294119]\n",
      "validation_data[0][0][1]: \t [-0.33137256 -0.31960785 -0.32352942]\n",
      "train_data[0][0][0]: \t [-0.40196079 -0.35490197 -0.47647059]\n",
      "train_data[0][0][1]: \t [-0.4254902  -0.38235295 -0.48431373]\n",
      "train_data.shape\t (1600, 32, 32, 3)\n",
      "validation_data.shape\t (400, 32, 32, 3)\n",
      "train_data size:\t 1600\n",
      "validation_data size:\t 400\n",
      "Variables Initialized\n",
      "Training computation: logits + cross-entropy loss done\n",
      "Epoch 0 of 1, Step 0 of 1600, Fold 0 of 5\n",
      "Validation accuracy: 14.500000% (58 of 400), Mini-batch loss: 33.85691, Learning rate: 0.01000\n",
      "Epoch 0 of 1, Step 100 of 1600, Fold 0 of 5\n",
      "Validation accuracy: 31.500000% (126 of 400), Mini-batch loss: 5.94335, Learning rate: 0.01000\n"
     ]
    }
   ],
   "source": [
    "epochs = 1 # due to the hardware constraints of my MacBook, I could only finish 1 epoch training given the time I have :(\n",
    "steps = train_size\n",
    "global_train_accuracy = 0.0\n",
    "global_validation_accuracy = 0.0\n",
    "for epoch in range(epochs):\n",
    "    train_accuracy_list = []\n",
    "    validation_accuracy_list = []\n",
    "    # 5-fold cross verfication\n",
    "    folds = 5\n",
    "    for fold in range(folds):\n",
    "        #########################\n",
    "        # assign train data and validation data\n",
    "        VALIDATION_OFFSET = fold * VALIDATION_SIZE\n",
    "\n",
    "        validation_data = all_train_data[VALIDATION_OFFSET : \n",
    "                                         VALIDATION_OFFSET + VALIDATION_SIZE, :, :, :]\n",
    "        validation_data = np.float32(validation_data)\n",
    "        validation_labels = all_train_labels[VALIDATION_OFFSET : \n",
    "                                             VALIDATION_OFFSET + VALIDATION_SIZE]\n",
    "        validation_size = len(validation_data)\n",
    "\n",
    "        train_data = np.append(all_train_data[ : VALIDATION_OFFSET, :, :, :], \n",
    "                               all_train_data[VALIDATION_OFFSET + VALIDATION_SIZE : , :, :, :], axis = 0)\n",
    "        train_data = np.float32(train_data)\n",
    "        train_labels = all_train_labels[VALIDATION_SIZE:]\n",
    "        train_size = len(train_data)\n",
    "        \n",
    "        #########################\n",
    "        TRAIN_ALL_DATA_OFFSET = 0\n",
    "        TRAIN_ALL_DATA_SIZE = 2000\n",
    "        train_all_data_labels0 = train_labels[TRAIN_ALL_DATA_OFFSET : TRAIN_ALL_DATA_OFFSET + TRAIN_ALL_DATA_SIZE]\n",
    "        TRAIN_ALL_DATA_OFFSET += TRAIN_ALL_DATA_SIZE\n",
    "        train_all_data_labels1 = train_labels[TRAIN_ALL_DATA_OFFSET : TRAIN_ALL_DATA_OFFSET + TRAIN_ALL_DATA_SIZE]\n",
    "        TRAIN_ALL_DATA_OFFSET += TRAIN_ALL_DATA_SIZE\n",
    "        train_all_data_labels2 = train_labels[TRAIN_ALL_DATA_OFFSET : TRAIN_ALL_DATA_OFFSET + TRAIN_ALL_DATA_SIZE]\n",
    "        TRAIN_ALL_DATA_OFFSET += TRAIN_ALL_DATA_SIZE\n",
    "        train_all_data_labels3 = train_labels[TRAIN_ALL_DATA_OFFSET : TRAIN_ALL_DATA_OFFSET + TRAIN_ALL_DATA_SIZE]\n",
    "\n",
    "        print('validation_data[0][0][0]: \\t', validation_data[0][0][0])\n",
    "        print('validation_data[0][0][1]: \\t', validation_data[0][0][1])\n",
    "        print('train_data[0][0][0]: \\t', train_data[0][0][0])\n",
    "        print('train_data[0][0][1]: \\t', train_data[0][0][1])\n",
    "\n",
    "        print('train_data.shape\\t', train_data.shape)\n",
    "        print('validation_data.shape\\t', validation_data.shape)\n",
    "        print('train_data size:\\t', train_size)\n",
    "        print('validation_data size:\\t', validation_size)\n",
    "        \n",
    "        #########################\n",
    "        # Initialize variables\n",
    "        train_data_node = tf.placeholder(\n",
    "          tf.float32,\n",
    "          shape=(BATCH_SIZE, IMAGE_SIZE, IMAGE_SIZE, N_CHANNELS))\n",
    "        train_labels_node = tf.placeholder(tf.float32,\n",
    "                                           shape=(BATCH_SIZE, N_LABELS))\n",
    "\n",
    "        TRAIN_ALL_DATA_OFFSET = 0\n",
    "        TRAIN_ALL_DATA_SIZE = 2000\n",
    "        train_all_data_node0 = tf.constant(train_data[TRAIN_ALL_DATA_OFFSET: TRAIN_ALL_DATA_OFFSET + TRAIN_ALL_DATA_SIZE])\n",
    "        TRAIN_ALL_DATA_OFFSET += TRAIN_ALL_DATA_SIZE\n",
    "        train_all_data_node1 = tf.constant(train_data[TRAIN_ALL_DATA_OFFSET: TRAIN_ALL_DATA_OFFSET + TRAIN_ALL_DATA_SIZE])\n",
    "        TRAIN_ALL_DATA_OFFSET += TRAIN_ALL_DATA_SIZE\n",
    "        train_all_data_node2 = tf.constant(train_data[TRAIN_ALL_DATA_OFFSET: TRAIN_ALL_DATA_OFFSET + TRAIN_ALL_DATA_SIZE])\n",
    "        TRAIN_ALL_DATA_OFFSET += TRAIN_ALL_DATA_SIZE\n",
    "        train_all_data_node3 = tf.constant(train_data[TRAIN_ALL_DATA_OFFSET: TRAIN_ALL_DATA_OFFSET + TRAIN_ALL_DATA_SIZE])\n",
    "\n",
    "        validation_data_node = tf.constant(validation_data)\n",
    "        test_data_node = tf.constant(test_data)\n",
    "\n",
    "        conv1_weights = tf.Variable(\n",
    "          tf.truncated_normal([10, 10, N_CHANNELS, 32],  # 10x10 kernel, depth 32.\n",
    "                              stddev=0.1,\n",
    "                              seed=SEED))\n",
    "        conv1_biases = tf.Variable(tf.zeros([32]))\n",
    "        conv2_weights = tf.Variable(\n",
    "          tf.truncated_normal([10, 10, 32, 64],\n",
    "                              stddev=0.1,\n",
    "                              seed=SEED))\n",
    "        conv2_biases = tf.Variable(tf.constant(0.1, shape=[64]))\n",
    "        fc1_weights = tf.Variable(  # fully connected, depth 512.\n",
    "          tf.truncated_normal([IMAGE_SIZE // 4 * IMAGE_SIZE // 4 * 64, 512],\n",
    "                              stddev=0.1,\n",
    "                              seed=SEED))\n",
    "        fc1_biases = tf.Variable(tf.constant(0.1, shape=[512]))\n",
    "        fc2_weights = tf.Variable(\n",
    "          tf.truncated_normal([512, N_LABELS],\n",
    "                              stddev=0.1,\n",
    "                              seed=SEED))\n",
    "        fc2_biases = tf.Variable(tf.constant(0.1, shape=[N_LABELS]))\n",
    "\n",
    "        print('Variables Initialized')\n",
    "        \n",
    "        #########################\n",
    "        # Training computation: logits + cross-entropy loss.\n",
    "        logits = model(train_data_node, True)\n",
    "\n",
    "        loss = tf.reduce_mean(tf.nn.softmax_cross_entropy_with_logits(\n",
    "          labels=train_labels_node, logits=logits))\n",
    "\n",
    "        # L2 regularization for the fully connected parameters.\n",
    "        regularizers = (tf.nn.l2_loss(fc1_weights) + tf.nn.l2_loss(fc1_biases) +\n",
    "                        tf.nn.l2_loss(fc2_weights) + tf.nn.l2_loss(fc2_biases))\n",
    "        loss += 5e-4 * regularizers\n",
    "\n",
    "        batch = tf.Variable(0)\n",
    "        # Decay once per epoch, using an exponential schedule starting at 0.01.\n",
    "        '''\n",
    "        learning_rate = tf.train.exponential_decay(\n",
    "          0.01,                # Base learning rate.\n",
    "          batch * BATCH_SIZE,  # Current index into the dataset.\n",
    "          train_size,          # Decay step.\n",
    "          0.95,                # Decay rate.\n",
    "          staircase=True)\n",
    "        '''\n",
    "        learning_rate = tf.constant(0.01)\n",
    "\n",
    "        optimizer = tf.train.MomentumOptimizer(learning_rate,\n",
    "                                               0.9).minimize(loss,\n",
    "                                                             global_step=batch)\n",
    "\n",
    "        train_prediction = tf.nn.softmax(logits)\n",
    "\n",
    "        # compute only by {eval()} method.\n",
    "        train_all_data_prediction0 = tf.nn.softmax(model(train_all_data_node0))\n",
    "        train_all_data_prediction1 = tf.nn.softmax(model(train_all_data_node1))\n",
    "        train_all_data_prediction2 = tf.nn.softmax(model(train_all_data_node2))\n",
    "        train_all_data_prediction3 = tf.nn.softmax(model(train_all_data_node3))\n",
    "\n",
    "        validation_prediction = tf.nn.softmax(model(validation_data_node))\n",
    "        test_prediction = tf.nn.softmax(model(test_data_node))\n",
    "\n",
    "        print('Training computation: logits + cross-entropy loss done')\n",
    "        \n",
    "        ######################### One session\n",
    "        sess = tf.InteractiveSession()\n",
    "        sess.as_default()\n",
    "        tf.global_variables_initializer().run()\n",
    "        \n",
    "        batch_data = train_data[:BATCH_SIZE, :, :, :]\n",
    "        batch_labels = train_labels[:BATCH_SIZE]\n",
    "\n",
    "        # batch data\n",
    "        feed_dict = {train_data_node: batch_data,\n",
    "                     train_labels_node: batch_labels}\n",
    "\n",
    "        # Run the graph and fetch some of the nodes.\n",
    "        _, l, lr, predictions = sess.run(\n",
    "          [optimizer, loss, learning_rate, train_prediction],\n",
    "          feed_dict=feed_dict)\n",
    "        \n",
    "\n",
    "        for step in range(steps):\n",
    "            offset = (step * BATCH_SIZE) % (train_size - BATCH_SIZE)\n",
    "            batch_data = train_data[offset:(offset + BATCH_SIZE), :, :, :]\n",
    "            batch_labels = train_labels[offset:(offset + BATCH_SIZE)]\n",
    "            feed_dict = {train_data_node: batch_data, train_labels_node: batch_labels}\n",
    "            _, l, lr, predictions = sess.run([optimizer, loss, learning_rate, train_prediction], feed_dict=feed_dict)\n",
    "\n",
    "            if step % 100 == 0:\n",
    "                print('Epoch %d of %d, Step %d of %d, Fold %d of %d' % (epoch, epochs, step, steps, fold, folds))\n",
    "                validation_accuracy, validation_accuracy_fig = get_accuracy(\n",
    "                      validation_prediction.eval(), validation_labels)\n",
    "                print('Validation accuracy: %.6f%% (%s), Mini-batch loss: %.5f, Learning rate: %.5f' % \n",
    "                      (validation_accuracy * 100, validation_accuracy_fig, l, lr))\n",
    "        \n",
    "        train_accuracy, train_accuracy_fig = get_all_train_data_accuracy(\n",
    "            train_all_data_prediction0.eval(), train_all_data_labels0,\n",
    "            train_all_data_prediction1.eval(), train_all_data_labels1,\n",
    "            train_all_data_prediction2.eval(), train_all_data_labels2,\n",
    "            train_all_data_prediction3.eval(), train_all_data_labels3)\n",
    "        print('Train accuracy: %.4f%% (%s)' % (train_accuracy * 100, train_accuracy_fig))\n",
    "        train_accuracy_list.append(train_accuracy)\n",
    "        \n",
    "        validation_accuracy, validation_accuracy_fig = get_accuracy(\n",
    "            validation_prediction.eval(), validation_labels)\n",
    "        print('Validation accuracy: %.6f%% (%s), Mini-batch loss: %.5f, Learning rate: %.5f' % \n",
    "            (validation_accuracy * 100, validation_accuracy_fig, l, lr))\n",
    "        validation_accuracy_list.append(validation_accuray)\n",
    "        \n",
    "        test_accuracy, test_accuracy_fig = get_accuracy(\n",
    "            test_prediction.eval(), test_labels)\n",
    "        print('Test accuracy: %.4f%% (%s)' % (test_accuracy * 100, test_accuracy_fig))\n",
    "        \n",
    "        sess.close()\n",
    "        \n",
    "    #end of one epoch\n",
    "    global_train_accuracy = np.mean(train_accuracy_list)\n",
    "    global_validation_accuracy = np.mean(validation_accuracy_list)"
   ]
  },
  {
   "cell_type": "code",
   "execution_count": null,
   "metadata": {
    "collapsed": true
   },
   "outputs": [],
   "source": [
    "print('Train accuracy: %.4f%%' % global_train_accuracy * 100)\n",
    "print('Validation accuracy: %.4f%%' % global_validation_accuracy * 100)"
   ]
  },
  {
   "cell_type": "code",
   "execution_count": null,
   "metadata": {
    "collapsed": true
   },
   "outputs": [],
   "source": [
    "test_accuracy, test_accuracy_fig = get_accuracy(\n",
    "    test_prediction.eval(), test_labels)\n",
    "print('Test accuracy: %.4f%% (%s)' % (test_accuracy * 100, test_accuracy_fig))"
   ]
  }
 ],
 "metadata": {
  "kernelspec": {
   "display_name": "Python 2",
   "language": "python",
   "name": "python2"
  },
  "language_info": {
   "codemirror_mode": {
    "name": "ipython",
    "version": 2
   },
   "file_extension": ".py",
   "mimetype": "text/x-python",
   "name": "python",
   "nbconvert_exporter": "python",
   "pygments_lexer": "ipython2",
   "version": "2.7.13"
  }
 },
 "nbformat": 4,
 "nbformat_minor": 2
}
