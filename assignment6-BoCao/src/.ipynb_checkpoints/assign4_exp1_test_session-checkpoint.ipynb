{
 "cells": [
  {
   "cell_type": "code",
   "execution_count": 1,
   "metadata": {
    "collapsed": true
   },
   "outputs": [],
   "source": [
    "'''\n",
    "Author: Bryan Bo Cao\n",
    "Email: boca7588@colorado.edu or bo.cao-1@colorado.edu\n",
    "Github Repo: https://github.com/BryanBo-Cao/neuralnets-deeplearning\n",
    "Reference:\n",
    "    \"3_mnist_from_scratch from\", \"docker run -it -p 8888:8888 gcr.io/tensorflow/tensorflow\"\n",
    "    https://github.com/michael-iuzzolino/CIFAR_reader\n",
    "'''\n",
    "from __future__ import print_function\n",
    "\n",
    "import tensorflow as tf\n",
    "import numpy as np\n",
    "import random\n",
    "import copy\n",
    "import matplotlib.pyplot as plt\n",
    "from importlib import import_module\n",
    "from CIFAR_reader import CIFAR_reader"
   ]
  },
  {
   "cell_type": "code",
   "execution_count": 2,
   "metadata": {},
   "outputs": [
    {
     "name": "stdout",
     "output_type": "stream",
     "text": [
      "Checking for CIFAR data...\n",
      "Extracting Data...\n",
      "Unpacking data...\n",
      "Loading training batch 1 of 5...\n",
      "Loading training batch 2 of 5...\n",
      "Loading training batch 3 of 5...\n",
      "Loading training batch 4 of 5...\n",
      "Loading training batch 5 of 5...\n",
      "Loading testing batch 1 of 1...\n"
     ]
    }
   ],
   "source": [
    "cifar = CIFAR_reader(one_hot=True, verbose=True, img_size=32, num_classes=10, augment=False)"
   ]
  },
  {
   "cell_type": "code",
   "execution_count": 3,
   "metadata": {},
   "outputs": [
    {
     "name": "stdout",
     "output_type": "stream",
     "text": [
      "N_TRAIN_IMAGE,  50000\n"
     ]
    }
   ],
   "source": [
    "IMAGE_SIZE = 32\n",
    "PIXEL_DEPTH = 255\n",
    "BATCH_SIZE = 128\n",
    "N_CHANNELS = 3\n",
    "N_LABELS = 10\n",
    "SEED = 32\n",
    "\n",
    "training_data = cifar.train\n",
    "training_labels = cifar.labels\n",
    "train_data = training_data['data']\n",
    "train_labels = training_data['labels']\n",
    "\n",
    "testing_data = cifar.test\n",
    "test_data = testing_data['data']\n",
    "test_data = np.float32(test_data)\n",
    "test_labels = testing_data['labels']\n",
    "test_labels = np.float32(test_labels)\n",
    "\n",
    "# convert train and test data values from [0, 255] to [-0.5, 0.5]\n",
    "N_TRAIN_IMAGE = len(train_data)\n",
    "train_data = (train_data - (PIXEL_DEPTH / 2.0)) / PIXEL_DEPTH\n",
    "train_data = train_data.reshape(N_TRAIN_IMAGE, IMAGE_SIZE, IMAGE_SIZE, 3)\n",
    "print('N_TRAIN_IMAGE, ', N_TRAIN_IMAGE)\n",
    "\n",
    "N_TEST_IMAGE = len(test_data)\n",
    "test_data = (test_data - (PIXEL_DEPTH / 2.0)) / PIXEL_DEPTH\n",
    "test_data = test_data.reshape(N_TEST_IMAGE, IMAGE_SIZE, IMAGE_SIZE, 3)\n",
    "\n",
    "#print(\"train_data[0]:\", train_data[0])\n",
    "#print(\"test_data[0]:\", test_data[0])\n",
    "\n",
    "all_train_data = train_data\n",
    "all_train_labels = train_labels"
   ]
  },
  {
   "cell_type": "code",
   "execution_count": 4,
   "metadata": {},
   "outputs": [
    {
     "data": {
      "image/png": "[encoded data removed]",
      "text/plain": [
       "<matplotlib.figure.Figure at 0x7fe3af02d9d0>"
      ]
     },
     "metadata": {},
     "output_type": "display_data"
    }
   ],
   "source": [
    "cifar.preview_data(data_set=\"training\")"
   ]
  },
  {
   "cell_type": "code",
   "execution_count": 5,
   "metadata": {},
   "outputs": [
    {
     "name": "stdout",
     "output_type": "stream",
     "text": [
      "(50000, 32, 32, 3)\n",
      "(50000, 10)\n",
      "(10000, 32, 32, 3)\n",
      "(10000, 10)\n"
     ]
    }
   ],
   "source": [
    "print (train_data.shape)\n",
    "print (train_labels.shape)\n",
    "print (test_data.shape)\n",
    "print (test_labels.shape)"
   ]
  },
  {
   "cell_type": "code",
   "execution_count": 6,
   "metadata": {},
   "outputs": [
    {
     "name": "stdout",
     "output_type": "stream",
     "text": [
      "validation_data[0][0][0]: \t [-0.26862746 -0.25686276 -0.25294119]\n",
      "validation_data[0][0][1]: \t [-0.33137256 -0.31960785 -0.32352942]\n",
      "train_data[0][0][0]: \t [-0.36274511 -0.40196079 -0.39803922]\n",
      "train_data[0][0][1]: \t [-0.39411765 -0.41764706 -0.41764706]\n",
      "train_data.shape\t (40000, 32, 32, 3)\n",
      "validation_data.shape\t (10000, 32, 32, 3)\n",
      "train_data size:\t 40000\n",
      "validation_data size:\t 10000\n"
     ]
    }
   ],
   "source": [
    "# 5-fold cross validation\n",
    "VALIDATION_SIZE = len(all_train_data) / 5\n",
    "VALIDATION_OFFSET = 0\n",
    "\n",
    "validation_data = all_train_data[VALIDATION_OFFSET : VALIDATION_OFFSET + VALIDATION_SIZE, :, :, :]\n",
    "validation_data = np.float32(validation_data)\n",
    "validation_labels = all_train_labels[VALIDATION_OFFSET : VALIDATION_OFFSET + VALIDATION_SIZE]\n",
    "validation_size = len(validation_data)\n",
    "\n",
    "train_data = np.append(all_train_data[ : VALIDATION_OFFSET, :, :, :], \n",
    "                       all_train_data[VALIDATION_OFFSET + VALIDATION_SIZE : , :, :, :], axis = 0)\n",
    "train_data = np.float32(train_data)\n",
    "train_labels = all_train_labels[VALIDATION_SIZE:]\n",
    "train_size = len(train_data)\n",
    "\n",
    "# to verify validation and train data are splitted properly\n",
    "print('validation_data[0][0][0]: \\t', validation_data[0][0][0])\n",
    "print('validation_data[0][0][1]: \\t', validation_data[0][0][1])\n",
    "print('train_data[0][0][0]: \\t', train_data[0][0][0])\n",
    "print('train_data[0][0][1]: \\t', train_data[0][0][1])\n",
    "\n",
    "print('train_data.shape\\t', train_data.shape)\n",
    "print('validation_data.shape\\t', validation_data.shape)\n",
    "print('train_data size:\\t', train_size)\n",
    "print('validation_data size:\\t', validation_size)\n",
    "#print('validation_data:', validation_data)\n",
    "#print('validation_labels: ', validation_labels)"
   ]
  },
  {
   "cell_type": "code",
   "execution_count": 7,
   "metadata": {},
   "outputs": [
    {
     "name": "stdout",
     "output_type": "stream",
     "text": [
      "train_all_data_labels0:  [[ 0.  1.  0. ...,  0.  0.  0.]\n",
      " [ 0.  0.  0. ...,  0.  0.  0.]\n",
      " [ 0.  0.  0. ...,  0.  0.  0.]\n",
      " ..., \n",
      " [ 0.  0.  0. ...,  1.  0.  0.]\n",
      " [ 0.  0.  1. ...,  0.  0.  0.]\n",
      " [ 0.  0.  0. ...,  0.  0.  0.]]\n",
      "train_all_data_labels3:  [[ 0.  1.  0. ...,  0.  0.  0.]\n",
      " [ 0.  0.  0. ...,  0.  1.  0.]\n",
      " [ 0.  0.  0. ...,  0.  0.  0.]\n",
      " ..., \n",
      " [ 0.  0.  0. ...,  0.  0.  1.]\n",
      " [ 0.  1.  0. ...,  0.  0.  0.]\n",
      " [ 0.  1.  0. ...,  0.  0.  0.]]\n"
     ]
    }
   ],
   "source": [
    "TRAIN_ALL_DATA_OFFSET = 0\n",
    "TRAIN_ALL_DATA_SIZE = 10000\n",
    "train_all_data_labels0 = train_labels[TRAIN_ALL_DATA_OFFSET : TRAIN_ALL_DATA_OFFSET + TRAIN_ALL_DATA_SIZE]\n",
    "TRAIN_ALL_DATA_OFFSET += TRAIN_ALL_DATA_SIZE\n",
    "train_all_data_labels1 = train_labels[TRAIN_ALL_DATA_OFFSET : TRAIN_ALL_DATA_OFFSET + TRAIN_ALL_DATA_SIZE]\n",
    "TRAIN_ALL_DATA_OFFSET += TRAIN_ALL_DATA_SIZE\n",
    "train_all_data_labels2 = train_labels[TRAIN_ALL_DATA_OFFSET : TRAIN_ALL_DATA_OFFSET + TRAIN_ALL_DATA_SIZE]\n",
    "TRAIN_ALL_DATA_OFFSET += TRAIN_ALL_DATA_SIZE\n",
    "train_all_data_labels3 = train_labels[TRAIN_ALL_DATA_OFFSET : TRAIN_ALL_DATA_OFFSET + TRAIN_ALL_DATA_SIZE]\n",
    "print(\"train_all_data_labels0: \", train_all_data_labels0)\n",
    "print(\"train_all_data_labels3: \", train_all_data_labels3)"
   ]
  },
  {
   "cell_type": "code",
   "execution_count": 8,
   "metadata": {},
   "outputs": [
    {
     "name": "stdout",
     "output_type": "stream",
     "text": [
      "part3_data.shape:  (50, 32, 32, 3)\n",
      "part3_labels.shape:  (50, 10)\n"
     ]
    },
    {
     "data": {
      "image/png": "[encoded data removed]",
      "text/plain": [
       "<matplotlib.figure.Figure at 0x7fe3ac0cf750>"
      ]
     },
     "metadata": {},
     "output_type": "display_data"
    }
   ],
   "source": [
    "import assign4_part3_images_reader as img_reader\n",
    "original_part3_data = img_reader.get_data()\n",
    "part3_data = np.float32(original_part3_data)\n",
    "\n",
    "part3_data = (part3_data - (PIXEL_DEPTH / 2.0)) / PIXEL_DEPTH\n",
    "part3_data = part3_data.reshape(50, IMAGE_SIZE, IMAGE_SIZE, 3)\n",
    "\n",
    "part3_labels = img_reader.get_labels()\n",
    "print(\"part3_data.shape: \", part3_data.shape)\n",
    "#print(\"part3_data: \", part3_data)\n",
    "print(\"part3_labels.shape: \", part3_labels.shape)\n",
    "img_reader.show_image(original_part3_data, 3) #show the image with index 3"
   ]
  },
  {
   "cell_type": "code",
   "execution_count": 9,
   "metadata": {},
   "outputs": [
    {
     "name": "stdout",
     "output_type": "stream",
     "text": [
      "Variables Initialized\n"
     ]
    }
   ],
   "source": [
    "import tensorflow as tf\n",
    "\n",
    "train_data_node = tf.placeholder(\n",
    "  tf.float32,\n",
    "  shape=(BATCH_SIZE, IMAGE_SIZE, IMAGE_SIZE, N_CHANNELS))\n",
    "train_labels_node = tf.placeholder(tf.float32,\n",
    "                                   shape=(BATCH_SIZE, N_LABELS))\n",
    "\n",
    "TRAIN_ALL_DATA_OFFSET = 0\n",
    "TRAIN_ALL_DATA_SIZE = 10000\n",
    "train_all_data_node0 = tf.constant(train_data[TRAIN_ALL_DATA_OFFSET: TRAIN_ALL_DATA_OFFSET + TRAIN_ALL_DATA_SIZE])\n",
    "TRAIN_ALL_DATA_OFFSET += TRAIN_ALL_DATA_SIZE\n",
    "train_all_data_node1 = tf.constant(train_data[TRAIN_ALL_DATA_OFFSET: TRAIN_ALL_DATA_OFFSET + TRAIN_ALL_DATA_SIZE])\n",
    "TRAIN_ALL_DATA_OFFSET += TRAIN_ALL_DATA_SIZE\n",
    "train_all_data_node2 = tf.constant(train_data[TRAIN_ALL_DATA_OFFSET: TRAIN_ALL_DATA_OFFSET + TRAIN_ALL_DATA_SIZE])\n",
    "TRAIN_ALL_DATA_OFFSET += TRAIN_ALL_DATA_SIZE\n",
    "train_all_data_node3 = tf.constant(train_data[TRAIN_ALL_DATA_OFFSET: TRAIN_ALL_DATA_OFFSET + TRAIN_ALL_DATA_SIZE])\n",
    "\n",
    "validation_data_node = tf.constant(validation_data)\n",
    "test_data_node = tf.constant(test_data)\n",
    "part3_data_node = tf.constant(part3_data)\n",
    "\n",
    "conv1_weights = tf.Variable(\n",
    "  tf.truncated_normal([10, 10, N_CHANNELS, 16],  # 10x10 kernel, depth 16.\n",
    "                      stddev=0.1,\n",
    "                      seed=SEED))\n",
    "conv1_biases = tf.Variable(tf.zeros([16]))\n",
    "\n",
    "fc1_weights = tf.Variable(  # fully connected, depth N_LABELS.\n",
    "  tf.truncated_normal([IMAGE_SIZE // 4 * IMAGE_SIZE // 4 * 64, N_LABELS],\n",
    "                      stddev=0.1,\n",
    "                      seed=SEED))\n",
    "fc1_biases = tf.Variable(tf.constant(0.1, shape=[N_LABELS]))\n",
    "\n",
    "print('Variables Initialized')"
   ]
  },
  {
   "cell_type": "code",
   "execution_count": 10,
   "metadata": {},
   "outputs": [
    {
     "name": "stdout",
     "output_type": "stream",
     "text": [
      "Model defined\n"
     ]
    }
   ],
   "source": [
    "def model(data, train=False):\n",
    "\n",
    "    conv = tf.nn.conv2d(data,\n",
    "                        conv1_weights,\n",
    "                        strides=[1, 1, 1, 1], #[image index, y, x, depth]\n",
    "                        padding='SAME')\n",
    "\n",
    "    relu = tf.nn.relu(tf.nn.bias_add(conv, conv1_biases))\n",
    "\n",
    "    pool = tf.nn.max_pool(relu,\n",
    "                          ksize=[1, 4, 4, 1],\n",
    "                          strides=[1, 2, 2, 1],\n",
    "                          padding='SAME')\n",
    "\n",
    "    # Fully connected layers\n",
    "    pool_shape = pool.get_shape().as_list()\n",
    "    reshape = tf.reshape(\n",
    "        pool,\n",
    "        [pool_shape[0], pool_shape[1] * pool_shape[2] * pool_shape[3]])\n",
    "  \n",
    "    # Fully connected layer. Note that the \n",
    "    # '+' operation automatically broadcasts the biases.\n",
    "    return tf.matmul(reshape, fc1_weights) + fc1_biases\n",
    "\n",
    "print('Model defined')"
   ]
  },
  {
   "cell_type": "code",
   "execution_count": 11,
   "metadata": {},
   "outputs": [
    {
     "name": "stdout",
     "output_type": "stream",
     "text": [
      "Training computation: logits + cross-entropy loss done\n"
     ]
    }
   ],
   "source": [
    "# Training computation: logits + cross-entropy loss.\n",
    "logits = model(train_data_node, True)\n",
    "\n",
    "loss = tf.reduce_mean(tf.nn.softmax_cross_entropy_with_logits(\n",
    "  labels=train_labels_node, logits=logits))\n",
    "\n",
    "# L2 regularization for the fully connected parameters.\n",
    "regularizers = (tf.nn.l2_loss(fc1_weights) + tf.nn.l2_loss(fc1_biases))\n",
    "loss += 5e-4 * regularizers\n",
    "\n",
    "batch = tf.Variable(0)\n",
    "\n",
    "'''\n",
    "# Decay once per epoch, using an exponential schedule starting at 0.01.\n",
    "learning_rate = tf.train.exponential_decay(\n",
    "  0.01,                # Base learning rate.\n",
    "  batch * BATCH_SIZE,  # Current index into the dataset.\n",
    "  train_size,          # Decay step.\n",
    "  0.95,                # Decay rate.\n",
    "  staircase=True)\n",
    "'''\n",
    "learning_rate = tf.constant(0.01)\n",
    "\n",
    "optimizer = tf.train.MomentumOptimizer(learning_rate, 0.9).minimize(loss, global_step=batch)\n",
    "\n",
    "# Predictions for the minibatch, validation set and test set.\n",
    "train_prediction = tf.nn.softmax(logits)\n",
    "\n",
    "# compute only by {eval()} method.\n",
    "train_all_data_prediction0 = tf.nn.softmax(model(train_all_data_node0))\n",
    "train_all_data_prediction1 = tf.nn.softmax(model(train_all_data_node1))\n",
    "train_all_data_prediction2 = tf.nn.softmax(model(train_all_data_node2))\n",
    "train_all_data_prediction3 = tf.nn.softmax(model(train_all_data_node3))\n",
    "\n",
    "validation_prediction = tf.nn.softmax(model(validation_data_node))\n",
    "test_prediction = tf.nn.softmax(model(test_data_node))\n",
    "part3_prediction = tf.nn.softmax(model(part3_data_node))\n",
    "\n",
    "print('Training computation: logits + cross-entropy loss done')"
   ]
  },
  {
   "cell_type": "code",
   "execution_count": 12,
   "metadata": {
    "collapsed": true
   },
   "outputs": [],
   "source": [
    "sess = tf.InteractiveSession()\n",
    "sess.as_default()\n",
    "tf.global_variables_initializer().run()"
   ]
  },
  {
   "cell_type": "code",
   "execution_count": 13,
   "metadata": {},
   "outputs": [
    {
     "name": "stdout",
     "output_type": "stream",
     "text": [
      "(128, 32, 32, 3)\n",
      "(128, 10)\n",
      "Run graph done.\n"
     ]
    }
   ],
   "source": [
    "batch_data = train_data[:BATCH_SIZE, :, :, :]\n",
    "batch_labels = train_labels[:BATCH_SIZE]\n",
    "\n",
    "# batch data\n",
    "feed_dict = {train_data_node: batch_data,\n",
    "             train_labels_node: batch_labels}\n",
    "\n",
    "# Run the graph and fetch some of the nodes.\n",
    "_, l, lr, predictions = sess.run(\n",
    "  [optimizer, loss, learning_rate, train_prediction],\n",
    "  feed_dict=feed_dict)\n",
    "\n",
    "print(batch_data.shape)\n",
    "print(batch_labels.shape)\n",
    "print('Run graph done.')"
   ]
  },
  {
   "cell_type": "code",
   "execution_count": 14,
   "metadata": {},
   "outputs": [
    {
     "name": "stdout",
     "output_type": "stream",
     "text": [
      "[ 0.00545826  0.14673053  0.00062576  0.03628519  0.62372983  0.04597659\n",
      "  0.11217877  0.00206118  0.00350966  0.02344421]\n"
     ]
    }
   ],
   "source": [
    "print(predictions[0])"
   ]
  },
  {
   "cell_type": "code",
   "execution_count": 15,
   "metadata": {
    "collapsed": true
   },
   "outputs": [],
   "source": [
    "# reject out-of-class\n",
    "def test_part3_out_of_class(sess):\n",
    "\n",
    "    part3_predictions = sess.run(part3_prediction)\n",
    "    rejected_images_indexes = []\n",
    "    for i in range(50):\n",
    "        #Reject criterion:\n",
    "        #if the highest probability of the prediction is less than 50% and\n",
    "        #the difference between the highest and the second highest probability of the prediction is less than 0.1\n",
    "        part3_prediction_highest_probability = part3_predictions[i][np.argmax(part3_predictions[i])]\n",
    "        if part3_prediction_highest_probability < 0.5:\n",
    "            second_highest_probability = 0.0\n",
    "            for ii in range (10):\n",
    "                #calculate second_highest_probability\n",
    "                if second_highest_probability < part3_predictions[i][ii] and part3_predictions[i][ii] != part3_prediction_highest_probability:\n",
    "                    second_highest_probability = part3_predictions[i][ii]\n",
    "            if part3_prediction_highest_probability - second_highest_probability < 0.3:\n",
    "                rejected_images_indexes.append(i)\n",
    "    print (\"rejected_images_indexes: \", rejected_images_indexes)\n",
    "\n",
    "    correct_reject_count = 0\n",
    "    for index in rejected_images_indexes:\n",
    "        if np.argmax(part3_labels[index]) == 0:\n",
    "            correct_reject_count += 1\n",
    "\n",
    "    #print(\"correct_reject_count: \", correct_reject_count)\n",
    "    correct_reject_accuracy = float(correct_reject_count) / 50\n",
    "    print(\"correct_reject_accuracy: %.4f%%\" % (correct_reject_accuracy * 100))\n",
    "\n",
    "    incorrect_reject_count = 0\n",
    "    for i in range(50):\n",
    "        if np.argmax(part3_labels[i]) > 0 and (i in rejected_images_indexes):\n",
    "            incorrect_reject_count += 1\n",
    "    incorrect_reject_accuracy = float(incorrect_reject_count) / 50\n",
    "    print(\"incorrect_reject_accuracy: %.4f%%\" % (incorrect_reject_accuracy * 100))"
   ]
  },
  {
   "cell_type": "code",
   "execution_count": 16,
   "metadata": {},
   "outputs": [
    {
     "name": "stdout",
     "output_type": "stream",
     "text": [
      "First prediction 4\n",
      "(128, 10)\n",
      "All predictions [4 6 9 4 6 6 4 4 6 6 6 6 4 6 4 4 7 6 6 6 6 4 4 9 6 4 6 6 4 4 4 8 1 1 4 9 6\n",
      " 1 1 4 4 6 1 6 3 6 6 1 4 1 6 6 4 4 9 9 1 9 4 4 4 1 6 1 1 1 4 4 6 4 6 4 1 7\n",
      " 9 6 4 0 8 1 6 4 6 1 6 7 9 6 6 1 4 4 6 6 6 1 6 4 6 6 6 9 9 6 6 4 4 6 1 4 4\n",
      " 6 4 9 4 6 4 1 1 4 6 4 1 6 6 7 4 0]\n"
     ]
    }
   ],
   "source": [
    "# The highest probability in the first entry.\n",
    "print('First prediction', np.argmax(predictions[0]))\n",
    "print(predictions.shape)\n",
    "print('All predictions', np.argmax(predictions, 1))"
   ]
  },
  {
   "cell_type": "code",
   "execution_count": 17,
   "metadata": {},
   "outputs": [
    {
     "name": "stdout",
     "output_type": "stream",
     "text": [
      "Batch labels [1 6 6 8 8 3 4 6 0 6 0 3 6 6 5 4 8 3 2 6 0 3 1 4 0 6 6 2 7 6 9 0 4 5 7 1 6\n",
      " 7 9 1 7 7 8 0 3 7 4 7 3 1 0 4 6 6 1 4 9 2 6 4 5 0 4 6 0 8 3 4 8 8 3 9 5 7\n",
      " 1 9 4 7 9 1 9 7 5 2 7 3 4 8 8 2 1 5 9 2 7 8 8 6 8 8 1 3 8 8 5 4 7 1 6 6 1\n",
      " 6 1 6 7 0 4 6 9 5 8 7 1 9 0 3 3 7]\n"
     ]
    }
   ],
   "source": [
    "print('Batch labels', np.argmax(batch_labels, 1))"
   ]
  },
  {
   "cell_type": "code",
   "execution_count": null,
   "metadata": {},
   "outputs": [
    {
     "name": "stdout",
     "output_type": "stream",
     "text": [
      "get_accuracy() defined\n",
      "get_all_train_data_accuracy() defined\n"
     ]
    }
   ],
   "source": [
    "def get_accuracy(predictions, labels):\n",
    "    correct = np.sum(np.argmax(predictions, 1) == np.argmax(labels, 1))\n",
    "    total = predictions.shape[0]\n",
    "\n",
    "    accuracy = float(correct) / float(total)\n",
    "    accuracy_fig = \"\"\n",
    "    accuracy_fig = str(correct)\n",
    "    accuracy_fig += (\" of \")\n",
    "    accuracy_fig += str(total)\n",
    "    return accuracy, accuracy_fig\n",
    "\n",
    "print('get_accuracy() defined')\n",
    "\n",
    "def get_all_train_data_accuracy(\n",
    "    train_all_data_prediction0, train_all_data_labels0,\n",
    "    train_all_data_prediction1, train_all_data_labels1,\n",
    "    train_all_data_prediction2, train_all_data_labels2,\n",
    "    train_all_data_prediction3, train_all_data_labels3):\n",
    "    \n",
    "    correct0 = np.sum(np.argmax(train_all_data_prediction0, 1) == np.argmax(train_all_data_labels0, 1))\n",
    "    total0 = train_all_data_prediction0.shape[0]\n",
    "    print(\"correct0: %d, total0: %d\", (correct0, total0))\n",
    "    \n",
    "    correct1 = np.sum(np.argmax(train_all_data_prediction1, 1) == np.argmax(train_all_data_labels1, 1))\n",
    "    total1 = train_all_data_prediction1.shape[0]\n",
    "    print(\"correct1: %d, total1: %d\", (correct1, total1))\n",
    "    \n",
    "    correct2 = np.sum(np.argmax(train_all_data_prediction2, 1) == np.argmax(train_all_data_labels2, 1))\n",
    "    total2 = train_all_data_prediction2.shape[0]\n",
    "    print(\"correct2: %d, total2: %d\", (correct2, total2))\n",
    "    \n",
    "    correct3 = np.sum(np.argmax(train_all_data_prediction3, 1) == np.argmax(train_all_data_labels3, 1))\n",
    "    total3 = train_all_data_prediction3.shape[0]\n",
    "    print(\"correct3: %d, total3: %d\" % (correct3, total3))\n",
    "\n",
    "    correct = correct0 + correct1 + correct2 + correct3\n",
    "    total = total0 + total1 + total2 + total3\n",
    "    accuracy = float(correct) / float(total)\n",
    "    accuracy_fig = \"\"\n",
    "    accuracy_fig = str(correct)\n",
    "    accuracy_fig += (\" of \")\n",
    "    accuracy_fig += str(total)\n",
    "    return accuracy, accuracy_fig\n",
    "\n",
    "print('get_all_train_data_accuracy() defined')"
   ]
  },
  {
   "cell_type": "code",
   "execution_count": null,
   "metadata": {},
   "outputs": [
    {
     "name": "stdout",
     "output_type": "stream",
     "text": [
      "Variables Initialized\n",
      "Training computation: logits + cross-entropy loss done\n",
      "Epoch 0 of 1, Step 0 of 20, Fold 0 of 5\n",
      "Validation accuracy: 12.900000% (1290 of 10000), Mini-batch loss: 3.29991, Learning rate: 0.01000\n",
      "Epoch 0 of 1, Step 10 of 20, Fold 0 of 5\n",
      "Validation accuracy: 23.710000% (2371 of 10000), Mini-batch loss: 2.49887, Learning rate: 0.01000\n",
      "Validation accuracy: 26.890000% (2689 of 10000), Mini-batch loss: 2.19511, Learning rate: 0.01000\n",
      "Test accuracy: 27.6700% (2767 of 10000)\n",
      "correct0: %d, total0: %d (2780, 10000)\n",
      "correct1: %d, total1: %d (2745, 10000)\n",
      "correct2: %d, total2: %d (2788, 10000)\n",
      "correct3: 2669, total3: 10000\n",
      "Train accuracy: 27.4550% (10982 of 40000)\n",
      "rejected_images_indexes:  [0, 1, 2, 3, 5, 6, 7, 8, 11, 12, 14, 15, 17, 19, 20, 22, 23, 24, 25, 26, 29, 31, 33, 34, 35, 36, 37, 38, 42, 43, 44, 45, 46, 47, 48, 49]\n",
      "correct_reject_accuracy: 48.0000%\n",
      "incorrect_reject_accuracy: 24.0000%\n",
      "Variables Initialized\n",
      "Training computation: logits + cross-entropy loss done\n",
      "Epoch 0 of 1, Step 0 of 20, Fold 1 of 5\n",
      "Validation accuracy: 11.620000% (1162 of 10000), Mini-batch loss: 3.46490, Learning rate: 0.01000\n",
      "Epoch 0 of 1, Step 10 of 20, Fold 1 of 5\n",
      "Validation accuracy: 11.360000% (1136 of 10000), Mini-batch loss: 2.80933, Learning rate: 0.01000\n",
      "Validation accuracy: 9.660000% (966 of 10000), Mini-batch loss: 2.62113, Learning rate: 0.01000\n",
      "Test accuracy: 10.3400% (1034 of 10000)\n",
      "correct0: %d, total0: %d (1074, 10000)\n",
      "correct1: %d, total1: %d (961, 10000)\n",
      "correct2: %d, total2: %d (1045, 10000)\n",
      "correct3: 1039, total3: 10000\n",
      "Train accuracy: 10.2975% (4119 of 40000)\n",
      "rejected_images_indexes:  [1, 2, 3, 4, 5, 6, 8, 9, 10, 11, 12, 13, 14, 15, 16, 17, 18, 19, 20, 21, 22, 23, 24, 25, 27, 28, 29, 31, 32, 33, 35, 37, 38, 40, 41, 42, 43, 44, 45, 46, 47, 48, 49]\n",
      "correct_reject_accuracy: 58.0000%\n",
      "incorrect_reject_accuracy: 28.0000%\n",
      "Variables Initialized\n",
      "Training computation: logits + cross-entropy loss done\n",
      "Epoch 0 of 1, Step 0 of 20, Fold 2 of 5\n",
      "Validation accuracy: 11.780000% (1178 of 10000), Mini-batch loss: 3.46490, Learning rate: 0.01000\n",
      "Epoch 0 of 1, Step 10 of 20, Fold 2 of 5\n",
      "Validation accuracy: 12.470000% (1247 of 10000), Mini-batch loss: 2.80933, Learning rate: 0.01000\n",
      "Validation accuracy: 9.610000% (961 of 10000), Mini-batch loss: 2.62113, Learning rate: 0.01000\n",
      "Test accuracy: 10.3400% (1034 of 10000)\n",
      "correct0: %d, total0: %d (1074, 10000)\n",
      "correct1: %d, total1: %d (983, 10000)\n",
      "correct2: %d, total2: %d (1045, 10000)\n",
      "correct3: 1039, total3: 10000\n",
      "Train accuracy: 10.3525% (4141 of 40000)\n",
      "rejected_images_indexes:  [1, 2, 3, 4, 5, 6, 8, 9, 10, 11, 12, 13, 14, 15, 16, 17, 18, 19, 20, 21, 22, 23, 24, 25, 27, 28, 29, 31, 32, 33, 35, 37, 38, 40, 41, 42, 43, 44, 45, 46, 47, 48, 49]\n",
      "correct_reject_accuracy: 58.0000%\n",
      "incorrect_reject_accuracy: 28.0000%\n",
      "Variables Initialized\n",
      "Training computation: logits + cross-entropy loss done\n",
      "Epoch 0 of 1, Step 0 of 20, Fold 3 of 5\n",
      "Validation accuracy: 12.050000% (1205 of 10000), Mini-batch loss: 3.46490, Learning rate: 0.01000\n",
      "Epoch 0 of 1, Step 10 of 20, Fold 3 of 5\n",
      "Validation accuracy: 11.550000% (1155 of 10000), Mini-batch loss: 2.80933, Learning rate: 0.01000\n",
      "Validation accuracy: 10.450000% (1045 of 10000), Mini-batch loss: 2.62113, Learning rate: 0.01000\n",
      "Test accuracy: 10.3400% (1034 of 10000)\n",
      "correct0: %d, total0: %d (1074, 10000)\n",
      "correct1: %d, total1: %d (983, 10000)\n",
      "correct2: %d, total2: %d (993, 10000)\n",
      "correct3: 1039, total3: 10000\n",
      "Train accuracy: 10.2225% (4089 of 40000)\n",
      "rejected_images_indexes:  [1, 2, 3, 4, 5, 6, 8, 9, 10, 11, 12, 13, 14, 15, 16, 17, 18, 19, 20, 21, 22, 23, 24, 25, 27, 28, 29, 31, 32, 33, 35, 37, 38, 40, 41, 42, 43, 44, 45, 46, 47, 48, 49]\n",
      "correct_reject_accuracy: 58.0000%\n",
      "incorrect_reject_accuracy: 28.0000%\n",
      "Variables Initialized\n",
      "Training computation: logits + cross-entropy loss done\n",
      "Epoch 0 of 1, Step 0 of 20, Fold 4 of 5\n"
     ]
    }
   ],
   "source": [
    "epochs = 1 # due to the hardware constraints of my MacBook, I could only finish 1 epoch training given the time I have :(\n",
    "steps = train_size\n",
    "steps = 20\n",
    "global_train_accuracy = 0.0\n",
    "global_validation_accuracy = 0.0\n",
    "for epoch in range(epochs):\n",
    "    train_accuracy_list = []\n",
    "    validation_accuracy_list = []\n",
    "    # 5-fold cross verfication    \n",
    "    folds = 5\n",
    "    for fold in range(folds):\n",
    "        tf.reset_default_graph()\n",
    "        #########################\n",
    "        # assign train data and validation data\n",
    "        VALIDATION_OFFSET = fold * VALIDATION_SIZE\n",
    "\n",
    "        validation_data = all_train_data[VALIDATION_OFFSET : VALIDATION_OFFSET + VALIDATION_SIZE, :, :, :]\n",
    "        validation_data = np.float32(validation_data)\n",
    "        validation_labels = all_train_labels[VALIDATION_OFFSET : VALIDATION_OFFSET + VALIDATION_SIZE]\n",
    "        validation_size = len(validation_data)\n",
    "\n",
    "        train_data = np.append(all_train_data[ : VALIDATION_OFFSET, :, :, :], all_train_data[VALIDATION_OFFSET + VALIDATION_SIZE : , :, :, :], axis = 0)\n",
    "        train_data = np.float32(train_data)\n",
    "        train_labels = all_train_labels[VALIDATION_SIZE:]\n",
    "        train_size = len(train_data)\n",
    "        \n",
    "        #########################\n",
    "        TRAIN_ALL_DATA_OFFSET = 0\n",
    "        TRAIN_ALL_DATA_SIZE = 10000\n",
    "        train_all_data_labels0 = train_labels[TRAIN_ALL_DATA_OFFSET : TRAIN_ALL_DATA_OFFSET + TRAIN_ALL_DATA_SIZE]\n",
    "        TRAIN_ALL_DATA_OFFSET += TRAIN_ALL_DATA_SIZE\n",
    "        train_all_data_labels1 = train_labels[TRAIN_ALL_DATA_OFFSET : TRAIN_ALL_DATA_OFFSET + TRAIN_ALL_DATA_SIZE]\n",
    "        TRAIN_ALL_DATA_OFFSET += TRAIN_ALL_DATA_SIZE\n",
    "        train_all_data_labels2 = train_labels[TRAIN_ALL_DATA_OFFSET : TRAIN_ALL_DATA_OFFSET + TRAIN_ALL_DATA_SIZE]\n",
    "        TRAIN_ALL_DATA_OFFSET += TRAIN_ALL_DATA_SIZE\n",
    "        train_all_data_labels3 = train_labels[TRAIN_ALL_DATA_OFFSET : TRAIN_ALL_DATA_OFFSET + TRAIN_ALL_DATA_SIZE]\n",
    "\n",
    "        #########################\n",
    "        # Initialize variables\n",
    "        train_data_node = tf.placeholder(\n",
    "          tf.float32,\n",
    "          shape=(BATCH_SIZE, IMAGE_SIZE, IMAGE_SIZE, N_CHANNELS))\n",
    "        train_labels_node = tf.placeholder(tf.float32,\n",
    "                                           shape=(BATCH_SIZE, N_LABELS))\n",
    "\n",
    "        TRAIN_ALL_DATA_OFFSET = 0\n",
    "        TRAIN_ALL_DATA_SIZE = 10000\n",
    "        train_all_data_node0 = tf.constant(train_data[TRAIN_ALL_DATA_OFFSET: TRAIN_ALL_DATA_OFFSET + TRAIN_ALL_DATA_SIZE])\n",
    "        TRAIN_ALL_DATA_OFFSET += TRAIN_ALL_DATA_SIZE\n",
    "        train_all_data_node1 = tf.constant(train_data[TRAIN_ALL_DATA_OFFSET: TRAIN_ALL_DATA_OFFSET + TRAIN_ALL_DATA_SIZE])\n",
    "        TRAIN_ALL_DATA_OFFSET += TRAIN_ALL_DATA_SIZE\n",
    "        train_all_data_node2 = tf.constant(train_data[TRAIN_ALL_DATA_OFFSET: TRAIN_ALL_DATA_OFFSET + TRAIN_ALL_DATA_SIZE])\n",
    "        TRAIN_ALL_DATA_OFFSET += TRAIN_ALL_DATA_SIZE\n",
    "        train_all_data_node3 = tf.constant(train_data[TRAIN_ALL_DATA_OFFSET: TRAIN_ALL_DATA_OFFSET + TRAIN_ALL_DATA_SIZE])\n",
    "\n",
    "        validation_data_node = tf.constant(validation_data)\n",
    "        test_data_node = tf.constant(test_data)\n",
    "        part3_data_node = tf.constant(part3_data)\n",
    "\n",
    "        conv1_weights = tf.Variable(\n",
    "          tf.truncated_normal([10, 10, N_CHANNELS, 16],  # 10x10 kernel, depth 16.\n",
    "                              stddev=0.1,\n",
    "                              seed=SEED))\n",
    "        conv1_biases = tf.Variable(tf.zeros([16]))\n",
    "\n",
    "        fc1_weights = tf.Variable(  # fully connected, depth N_LABELS.\n",
    "          tf.truncated_normal([IMAGE_SIZE // 4 * IMAGE_SIZE // 4 * 64, N_LABELS],\n",
    "                              stddev=0.1,\n",
    "                              seed=SEED))\n",
    "        fc1_biases = tf.Variable(tf.constant(0.1, shape=[N_LABELS]))\n",
    "        print('Variables Initialized')\n",
    "        \n",
    "        #########################\n",
    "        # Training computation: logits + cross-entropy loss.\n",
    "        logits = model(train_data_node, True)\n",
    "\n",
    "        loss = tf.reduce_mean(tf.nn.softmax_cross_entropy_with_logits(\n",
    "          labels=train_labels_node, logits=logits))\n",
    "\n",
    "        # L2 regularization for the fully connected parameters.\n",
    "        regularizers = (tf.nn.l2_loss(fc1_weights) + tf.nn.l2_loss(fc1_biases))\n",
    "        loss += 5e-4 * regularizers\n",
    "\n",
    "        batch = tf.Variable(0)\n",
    "\n",
    "        '''\n",
    "        # Decay once per epoch, using an exponential schedule starting at 0.01.\n",
    "        learning_rate = tf.train.exponential_decay(\n",
    "          0.01,                # Base learning rate.\n",
    "          batch * BATCH_SIZE,  # Current index into the dataset.\n",
    "          train_size,          # Decay step.\n",
    "          0.95,                # Decay rate.\n",
    "          staircase=True)\n",
    "        '''\n",
    "        learning_rate = tf.constant(0.01)\n",
    "\n",
    "        optimizer = tf.train.MomentumOptimizer(learning_rate, 0.9).minimize(loss, global_step=batch)\n",
    "\n",
    "        # Predictions for the minibatch, validation set and test set.\n",
    "        train_prediction = tf.nn.softmax(logits)\n",
    "\n",
    "        # compute only by {eval()} method.\n",
    "        train_all_data_prediction0 = tf.nn.softmax(model(train_all_data_node0))\n",
    "        train_all_data_prediction1 = tf.nn.softmax(model(train_all_data_node1))\n",
    "        train_all_data_prediction2 = tf.nn.softmax(model(train_all_data_node2))\n",
    "        train_all_data_prediction3 = tf.nn.softmax(model(train_all_data_node3))\n",
    "\n",
    "        validation_prediction = tf.nn.softmax(model(validation_data_node))\n",
    "        test_prediction = tf.nn.softmax(model(test_data_node))\n",
    "        part3_prediction = tf.nn.softmax(model(part3_data_node))\n",
    "        print('Training computation: logits + cross-entropy loss done')\n",
    "        \n",
    "        ######################### One session\n",
    "        sess = tf.InteractiveSession()\n",
    "        sess.as_default()\n",
    "        tf.global_variables_initializer().run()\n",
    "        \n",
    "        batch_data = train_data[:BATCH_SIZE, :, :, :]\n",
    "        batch_labels = train_labels[:BATCH_SIZE]\n",
    "\n",
    "        # batch data\n",
    "        feed_dict = {train_data_node: batch_data,\n",
    "                     train_labels_node: batch_labels}\n",
    "\n",
    "        # Run the graph and fetch some of the nodes.\n",
    "        _, l, lr, predictions = sess.run(\n",
    "          [optimizer, loss, learning_rate, train_prediction],\n",
    "          feed_dict=feed_dict)\n",
    "        \n",
    "        for step in range(steps):\n",
    "            offset = (step * BATCH_SIZE) % (train_size - BATCH_SIZE)\n",
    "            batch_data = train_data[offset:(offset + BATCH_SIZE), :, :, :]\n",
    "            batch_labels = train_labels[offset:(offset + BATCH_SIZE)]\n",
    "            feed_dict = {train_data_node: batch_data, train_labels_node: batch_labels}\n",
    "            _, l, lr, predictions = sess.run([optimizer, loss, learning_rate, train_prediction], feed_dict=feed_dict)\n",
    "\n",
    "            if step % 10 == 0:\n",
    "                print('Epoch %d of %d, Step %d of %d, Fold %d of %d' % (epoch, epochs, step, steps, fold, folds))\n",
    "                validation_accuracy, validation_accuracy_fig = get_accuracy(\n",
    "                      validation_prediction.eval(), validation_labels)\n",
    "                print('Validation accuracy: %.6f%% (%s), Mini-batch loss: %.5f, Learning rate: %.5f' % \n",
    "                      (validation_accuracy * 100, validation_accuracy_fig, l, lr))\n",
    "        \n",
    "        \n",
    "        \n",
    "        validation_accuracy, validation_accuracy_fig = get_accuracy(\n",
    "            validation_prediction.eval(), validation_labels)\n",
    "        print('Validation accuracy: %.6f%% (%s), Mini-batch loss: %.5f, Learning rate: %.5f' % \n",
    "            (validation_accuracy * 100, validation_accuracy_fig, l, lr))\n",
    "        validation_accuracy_list.append(validation_accuracy)\n",
    "        \n",
    "        test_accuracy, test_accuracy_fig = get_accuracy(\n",
    "            test_prediction.eval(), test_labels)\n",
    "        print('Test accuracy: %.4f%% (%s)' % (test_accuracy * 100, test_accuracy_fig))\n",
    "        \n",
    "        train_accuracy, train_accuracy_fig = get_all_train_data_accuracy(\n",
    "            train_all_data_prediction0.eval(), train_all_data_labels0,\n",
    "            train_all_data_prediction1.eval(), train_all_data_labels1,\n",
    "            train_all_data_prediction2.eval(), train_all_data_labels2,\n",
    "            train_all_data_prediction3.eval(), train_all_data_labels3)\n",
    "        print('Train accuracy: %.4f%% (%s)' % (train_accuracy * 100, train_accuracy_fig))\n",
    "        train_accuracy_list.append(train_accuracy)\n",
    "        \n",
    "        test_part3_out_of_class(sess)\n",
    "        \n",
    "        sess.close()\n",
    "        #end of one fold\n",
    "        \n",
    "    #end of one epoch\n",
    "    global_train_accuracy = np.mean(train_accuracy_list)\n",
    "    print('End of one epoch: Train accuracy: %.4f%% (%s)' % (global_train_accuracy * 100))\n",
    "    global_validation_accuracy = np.mean(validation_accuracy_list)\n",
    "    print('End of one epoch: Validation accuracy: %.4f%% (%s)' % (global_validation_accuracy * 100))\n",
    "    \n",
    "    test_accuracy, test_accuracy_fig = get_accuracy(\n",
    "        test_prediction.eval(), test_labels)\n",
    "    print('Test accuracy: %.4f%% (%s)' % (test_accuracy * 100, test_accuracy_fig))"
   ]
  },
  {
   "cell_type": "code",
   "execution_count": null,
   "metadata": {
    "collapsed": true
   },
   "outputs": [],
   "source": []
  }
 ],
 "metadata": {
  "kernelspec": {
   "display_name": "Python 2",
   "language": "python",
   "name": "python2"
  },
  "language_info": {
   "codemirror_mode": {
    "name": "ipython",
    "version": 2
   },
   "file_extension": ".py",
   "mimetype": "text/x-python",
   "name": "python",
   "nbconvert_exporter": "python",
   "pygments_lexer": "ipython2",
   "version": "2.7.13"
  }
 },
 "nbformat": 4,
 "nbformat_minor": 2
}
