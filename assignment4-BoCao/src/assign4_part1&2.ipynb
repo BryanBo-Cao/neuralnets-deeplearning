{
 "cells": [
  {
   "cell_type": "code",
   "execution_count": 18,
   "metadata": {
    "collapsed": true
   },
   "outputs": [],
   "source": [
    "'''\n",
    "Author: Bryan Bo Cao\n",
    "Email: boca7588@colorado.edu or bo.cao-1@colorado.edu\n",
    "Github Repo: https://github.com/BryanBo-Cao/neuralnets-deeplearning\n",
    "Some of the code is modified from \"3_mnist_from_scratch from\", \"docker run -it -p 8888:8888 gcr.io/tensorflow/tensorflow\"\n",
    "'''\n",
    "from __future__ import print_function\n",
    "\n",
    "import tensorflow as tf\n",
    "import numpy as np\n",
    "import random\n",
    "import copy\n",
    "import matplotlib.pyplot as plt\n",
    "from importlib import import_module\n",
    "from CIFAR_reader import CIFAR_reader # Reference: https://github.com/michael-iuzzolino/CIFAR_reader"
   ]
  },
  {
   "cell_type": "code",
   "execution_count": 19,
   "metadata": {},
   "outputs": [
    {
     "name": "stdout",
     "output_type": "stream",
     "text": [
      "Checking for CIFAR data...\n",
      "Extracting Data...\n",
      "Unpacking data...\n",
      "Loading training batch 1 of 5...\n",
      "Loading training batch 2 of 5...\n",
      "Loading training batch 3 of 5...\n",
      "Loading training batch 4 of 5...\n",
      "Loading training batch 5 of 5...\n",
      "Loading testing batch 1 of 1...\n"
     ]
    }
   ],
   "source": [
    "cifar = CIFAR_reader(one_hot=True, verbose=True, img_size=32, num_classes=10, augment=False)"
   ]
  },
  {
   "cell_type": "code",
   "execution_count": 20,
   "metadata": {
    "collapsed": true
   },
   "outputs": [],
   "source": [
    "IMAGE_SIZE = 32\n",
    "PIXEL_DEPTH = 255\n",
    "BATCH_SIZE = 128\n",
    "N_CHANNELS = 3\n",
    "N_LABELS = 10\n",
    "SEED = 32\n",
    "\n",
    "training_data = cifar.train\n",
    "training_labels = cifar.labels\n",
    "train_data = training_data['data']\n",
    "train_labels = training_data['labels']\n",
    "\n",
    "testing_data = cifar.test\n",
    "test_data = testing_data['data']\n",
    "test_data = np.float32(test_data)\n",
    "test_labels = testing_data['labels']\n",
    "test_labels = np.float32(test_labels)\n",
    "\n",
    "N_TRAIN_IMAGE = len(train_data)\n",
    "train_data = (train_data - (PIXEL_DEPTH / 2.0)) / PIXEL_DEPTH\n",
    "train_data = train_data.reshape(N_TRAIN_IMAGE, IMAGE_SIZE, IMAGE_SIZE, 3)\n",
    "\n",
    "N_TEST_IMAGE = len(test_data)\n",
    "test_data = (test_data - (PIXEL_DEPTH / 2.0)) / PIXEL_DEPTH\n",
    "test_data = test_data.reshape(N_TEST_IMAGE, IMAGE_SIZE, IMAGE_SIZE, 3)\n",
    "\n",
    "#print(\"train_data[0]:\", train_data[0])\n",
    "#print(\"test_data[0]:\", test_data[0])"
   ]
  },
  {
   "cell_type": "code",
   "execution_count": 21,
   "metadata": {},
   "outputs": [
    {
     "data": {
      "image/png": "[encoded data removed]",
      "text/plain": [
       "<matplotlib.figure.Figure at 0x1093be5d0>"
      ]
     },
     "metadata": {},
     "output_type": "display_data"
    }
   ],
   "source": [
    "cifar.preview_data(data_set=\"training\")"
   ]
  },
  {
   "cell_type": "code",
   "execution_count": 22,
   "metadata": {},
   "outputs": [
    {
     "name": "stdout",
     "output_type": "stream",
     "text": [
      "(50000, 32, 32, 3)\n",
      "(50000, 10)\n",
      "(10000, 32, 32, 3)\n",
      "(10000, 10)\n"
     ]
    }
   ],
   "source": [
    "print (train_data.shape)\n",
    "print (train_labels.shape)\n",
    "print (test_data.shape)\n",
    "print (test_labels.shape)"
   ]
  },
  {
   "cell_type": "code",
   "execution_count": 23,
   "metadata": {},
   "outputs": [
    {
     "name": "stdout",
     "output_type": "stream",
     "text": [
      "train_data.shape (40000, 32, 32, 3)\n",
      "validation_data.shape (10000, 32, 32, 3)\n",
      "train_data size: 40000\n",
      "validation_data size: 10000\n",
      "N_TRAIN_IMAGE:  40000\n"
     ]
    }
   ],
   "source": [
    "VALIDATION_SIZE = 10000\n",
    "\n",
    "train_data = train_data[VALIDATION_SIZE:, :, :, :]\n",
    "train_data = np.float32(train_data)\n",
    "train_labels = train_labels[VALIDATION_SIZE:]\n",
    "train_size = len(train_data)\n",
    "validation_data = train_data[:VALIDATION_SIZE, :, :, :]\n",
    "validation_data = np.float32(validation_data)\n",
    "validation_labels = train_labels[:VALIDATION_SIZE]\n",
    "validation_size = len(validation_data)\n",
    "\n",
    "print('train_data.shape', train_data.shape)\n",
    "print('validation_data.shape', validation_data.shape)\n",
    "print('train_data size:', train_size)\n",
    "print('validation_data size:', validation_size)\n",
    "#print('validation_data:', validation_data)\n",
    "#print('validation_labels: ', validation_labels)\n",
    "\n",
    "N_TRAIN_IMAGE = train_size\n",
    "print(\"N_TRAIN_IMAGE: \", N_TRAIN_IMAGE)"
   ]
  },
  {
   "cell_type": "code",
   "execution_count": 24,
   "metadata": {},
   "outputs": [
    {
     "name": "stdout",
     "output_type": "stream",
     "text": [
      "Variables Initialized\n"
     ]
    }
   ],
   "source": [
    "import tensorflow as tf\n",
    "\n",
    "train_data_node = tf.placeholder(\n",
    "  tf.float32,\n",
    "  shape=(BATCH_SIZE, IMAGE_SIZE, IMAGE_SIZE, N_CHANNELS))\n",
    "train_labels_node = tf.placeholder(tf.float32,\n",
    "                                   shape=(BATCH_SIZE, N_LABELS))\n",
    "\n",
    "train_all_data_node = tf.constant(train_data)\n",
    "validation_data_node = tf.constant(validation_data)\n",
    "test_data_node = tf.constant(test_data)\n",
    "\n",
    "conv1_weights = tf.Variable(\n",
    "  tf.truncated_normal([5, 5, N_CHANNELS, 32],  # 5x5 filter, depth 32.\n",
    "                      stddev=0.1,\n",
    "                      seed=SEED))\n",
    "conv1_biases = tf.Variable(tf.zeros([32]))\n",
    "conv2_weights = tf.Variable(\n",
    "  tf.truncated_normal([5, 5, 32, 64],\n",
    "                      stddev=0.1,\n",
    "                      seed=SEED))\n",
    "conv2_biases = tf.Variable(tf.constant(0.1, shape=[64]))\n",
    "fc1_weights = tf.Variable(  # fully connected, depth 512.\n",
    "  tf.truncated_normal([IMAGE_SIZE // 4 * IMAGE_SIZE // 4 * 64, 512],\n",
    "                      stddev=0.1,\n",
    "                      seed=SEED))\n",
    "fc1_biases = tf.Variable(tf.constant(0.1, shape=[512]))\n",
    "fc2_weights = tf.Variable(\n",
    "  tf.truncated_normal([512, N_LABELS],\n",
    "                      stddev=0.1,\n",
    "                      seed=SEED))\n",
    "fc2_biases = tf.Variable(tf.constant(0.1, shape=[N_LABELS]))\n",
    "\n",
    "print('Variables Initialized')"
   ]
  },
  {
   "cell_type": "code",
   "execution_count": 25,
   "metadata": {},
   "outputs": [
    {
     "name": "stdout",
     "output_type": "stream",
     "text": [
      "Model defined\n"
     ]
    }
   ],
   "source": [
    "def model(data, train=False):\n",
    "    \"\"\"The Model definition.\"\"\"\n",
    "    # 2D convolution, with 'SAME' padding (i.e. the output feature map has\n",
    "    # the same size as the input). Note that {strides} is a 4D array whose\n",
    "    # shape matches the data layout: [image index, y, x, depth].\n",
    "    conv = tf.nn.conv2d(data,\n",
    "                        conv1_weights,\n",
    "                        strides=[1, 1, 1, 1],\n",
    "                        padding='SAME')\n",
    "\n",
    "    # Bias and rectified linear non-linearity.\n",
    "    relu = tf.nn.relu(tf.nn.bias_add(conv, conv1_biases))\n",
    "\n",
    "    # Max pooling. The kernel size spec ksize also follows the layout of\n",
    "    # the data. Here we have a pooling window of 2, and a stride of 2.\n",
    "    pool = tf.nn.max_pool(relu,\n",
    "                          ksize=[1, 2, 2, 1],\n",
    "                          strides=[1, 2, 2, 1],\n",
    "                          padding='SAME')\n",
    "    conv = tf.nn.conv2d(pool,\n",
    "                        conv2_weights,\n",
    "                        strides=[1, 1, 1, 1],\n",
    "                        padding='SAME')\n",
    "    relu = tf.nn.relu(tf.nn.bias_add(conv, conv2_biases))\n",
    "    pool = tf.nn.max_pool(relu,\n",
    "                          ksize=[1, 2, 2, 1],\n",
    "                          strides=[1, 2, 2, 1],\n",
    "                          padding='SAME')\n",
    "\n",
    "    # Reshape the feature map cuboid into a 2D matrix to feed it to the\n",
    "    # fully connected layers.\n",
    "    pool_shape = pool.get_shape().as_list()\n",
    "    reshape = tf.reshape(\n",
    "        pool,\n",
    "        [pool_shape[0], pool_shape[1] * pool_shape[2] * pool_shape[3]])\n",
    "  \n",
    "    # Fully connected layer. Note that the '+' operation automatically\n",
    "    # broadcasts the biases.\n",
    "    hidden = tf.nn.relu(tf.matmul(reshape, fc1_weights) + fc1_biases)\n",
    "\n",
    "    # Add a 50% dropout during training only. Dropout also scales\n",
    "    # activations such that no rescaling is needed at evaluation time.\n",
    "    if train:\n",
    "        hidden = tf.nn.dropout(hidden, 0.5, seed=SEED)\n",
    "    return tf.matmul(hidden, fc2_weights) + fc2_biases\n",
    "\n",
    "print('Model defined')"
   ]
  },
  {
   "cell_type": "code",
   "execution_count": 26,
   "metadata": {},
   "outputs": [
    {
     "name": "stdout",
     "output_type": "stream",
     "text": [
      "Training computation: logits + cross-entropy loss done\n"
     ]
    }
   ],
   "source": [
    "# Training computation: logits + cross-entropy loss.\n",
    "logits = model(train_data_node, True)\n",
    "\n",
    "loss = tf.reduce_mean(tf.nn.softmax_cross_entropy_with_logits(\n",
    "  labels=train_labels_node, logits=logits))\n",
    "\n",
    "# L2 regularization for the fully connected parameters.\n",
    "regularizers = (tf.nn.l2_loss(fc1_weights) + tf.nn.l2_loss(fc1_biases) +\n",
    "                tf.nn.l2_loss(fc2_weights) + tf.nn.l2_loss(fc2_biases))\n",
    "# Add the regularization term to the loss.\n",
    "loss += 5e-4 * regularizers\n",
    "\n",
    "# Optimizer: set up a variable that's incremented once per batch and\n",
    "# controls the learning rate decay.\n",
    "batch = tf.Variable(0)\n",
    "# Decay once per epoch, using an exponential schedule starting at 0.01.\n",
    "learning_rate = tf.train.exponential_decay(\n",
    "  0.01,                # Base learning rate.\n",
    "  batch * BATCH_SIZE,  # Current index into the dataset.\n",
    "  train_size,          # Decay step.\n",
    "  0.95,                # Decay rate.\n",
    "  staircase=True)\n",
    "# Use simple momentum for the optimization.\n",
    "optimizer = tf.train.MomentumOptimizer(learning_rate,\n",
    "                                       0.9).minimize(loss,\n",
    "                                                     global_step=batch)\n",
    "\n",
    "# Predictions for the minibatch, validation set and test set.\n",
    "train_prediction = tf.nn.softmax(logits)\n",
    "\n",
    "# compute only by {eval()} method.\n",
    "train_all_data_prediction = tf.nn.softmax(model(train_all_data_node))\n",
    "validation_prediction = tf.nn.softmax(model(validation_data_node))\n",
    "test_prediction = tf.nn.softmax(model(test_data_node))\n",
    "\n",
    "print('Training computation: logits + cross-entropy loss done')"
   ]
  },
  {
   "cell_type": "code",
   "execution_count": 27,
   "metadata": {
    "collapsed": true
   },
   "outputs": [],
   "source": [
    "sess = tf.InteractiveSession()\n",
    "sess.as_default()\n",
    "tf.global_variables_initializer().run()"
   ]
  },
  {
   "cell_type": "code",
   "execution_count": 28,
   "metadata": {},
   "outputs": [
    {
     "name": "stdout",
     "output_type": "stream",
     "text": [
      "(128, 32, 32, 3)\n",
      "(128, 10)\n",
      "Run graph done.\n"
     ]
    }
   ],
   "source": [
    "# Grab the first BATCH_SIZE examples and labels.\n",
    "batch_data = train_data[:BATCH_SIZE, :, :, :]\n",
    "batch_labels = train_labels[:BATCH_SIZE]\n",
    "\n",
    "# This dictionary maps the batch data (as a numpy array) to the\n",
    "# node in the graph it should be fed to.\n",
    "feed_dict = {train_data_node: batch_data,\n",
    "             train_labels_node: batch_labels}\n",
    "\n",
    "# Run the graph and fetch some of the nodes.\n",
    "_, l, lr, predictions = sess.run(\n",
    "  [optimizer, loss, learning_rate, train_prediction],\n",
    "  feed_dict=feed_dict)\n",
    "\n",
    "print(batch_data.shape)\n",
    "print(batch_labels.shape)\n",
    "print('Run graph done.')"
   ]
  },
  {
   "cell_type": "code",
   "execution_count": 29,
   "metadata": {},
   "outputs": [
    {
     "name": "stdout",
     "output_type": "stream",
     "text": [
      "[  1.16982765e-01   1.42972870e-03   1.97592890e-05   3.99296312e-07\n",
      "   8.81408807e-04   1.68743473e-03   1.40850125e-05   8.78815353e-01\n",
      "   1.66529047e-04   2.52190534e-06]\n"
     ]
    }
   ],
   "source": [
    "print(predictions[0])"
   ]
  },
  {
   "cell_type": "code",
   "execution_count": 30,
   "metadata": {},
   "outputs": [
    {
     "name": "stdout",
     "output_type": "stream",
     "text": [
      "First prediction 7\n",
      "(128, 10)\n",
      "All predictions [7 5 5 1 5 1 6 0 0 7 5 4 2 1 5 4 5 2 0 1 0 0 5 5 5 1 1 5 4 5 7 5 1 0 2 0 5\n",
      " 0 5 5 5 5 0 5 5 5 5 5 1 7 0 5 1 5 5 4 1 1 5 1 5 5 5 5 5 0 5 5 5 2 0 7 0 5\n",
      " 7 0 1 5 5 7 9 7 4 5 5 9 1 5 5 0 5 5 5 5 5 5 5 1 5 5 0 5 4 0 5 5 4 0 5 1 4\n",
      " 4 4 2 0 5 5 1 0 5 1 0 5 7 5 4 5 7]\n"
     ]
    }
   ],
   "source": [
    "# The highest probability in the first entry.\n",
    "print('First prediction', np.argmax(predictions[0]))\n",
    "\n",
    "# But, predictions is actually a list of BATCH_SIZE probability vectors.\n",
    "print(predictions.shape)\n",
    "\n",
    "# So, we'll take the highest probability for each vector.\n",
    "print('All predictions', np.argmax(predictions, 1))"
   ]
  },
  {
   "cell_type": "code",
   "execution_count": 31,
   "metadata": {},
   "outputs": [
    {
     "name": "stdout",
     "output_type": "stream",
     "text": [
      "Batch labels [1 6 6 8 8 3 4 6 0 6 0 3 6 6 5 4 8 3 2 6 0 3 1 4 0 6 6 2 7 6 9 0 4 5 7 1 6\n",
      " 7 9 1 7 7 8 0 3 7 4 7 3 1 0 4 6 6 1 4 9 2 6 4 5 0 4 6 0 8 3 4 8 8 3 9 5 7\n",
      " 1 9 4 7 9 1 9 7 5 2 7 3 4 8 8 2 1 5 9 2 7 8 8 6 8 8 1 3 8 8 5 4 7 1 6 6 1\n",
      " 6 1 6 7 0 4 6 9 5 8 7 1 9 0 3 3 7]\n"
     ]
    }
   ],
   "source": [
    "print('Batch labels', np.argmax(batch_labels, 1))"
   ]
  },
  {
   "cell_type": "code",
   "execution_count": 32,
   "metadata": {},
   "outputs": [
    {
     "name": "stdout",
     "output_type": "stream",
     "text": [
      "0.1015625\n"
     ]
    }
   ],
   "source": [
    "correct = np.sum(np.argmax(predictions, 1) == np.argmax(batch_labels, 1))\n",
    "total = predictions.shape[0]\n",
    "\n",
    "print(float(correct) / float(total))\n",
    "\n",
    "confusions = np.zeros([10, 10], np.float32)\n",
    "bundled = zip(np.argmax(predictions, 1), np.argmax(batch_labels, 1))\n",
    "for predicted, actual in bundled:\n",
    "  confusions[predicted, actual] += 1\n",
    "\n",
    "plt.grid(False)\n",
    "plt.xticks(np.arange(N_LABELS))\n",
    "plt.yticks(np.arange(N_LABELS))\n",
    "plt.imshow(confusions, cmap=plt.cm.jet, interpolation='nearest');"
   ]
  },
  {
   "cell_type": "code",
   "execution_count": 33,
   "metadata": {},
   "outputs": [
    {
     "name": "stdout",
     "output_type": "stream",
     "text": [
      "Error rate defined\n",
      "get_accuracy defined\n"
     ]
    }
   ],
   "source": [
    "def error_rate(predictions, labels):\n",
    "    correct = np.sum(np.argmax(predictions, 1) == np.argmax(labels, 1))\n",
    "    total = predictions.shape[0]\n",
    "\n",
    "    error = 100.0 - (100 * float(correct) / float(total))\n",
    "    return error\n",
    "\n",
    "print('Error rate defined')\n",
    "\n",
    "def get_accuracy(predictions, labels):\n",
    "    correct = np.sum(np.argmax(predictions, 1) == np.argmax(labels, 1))\n",
    "    total = predictions.shape[0]\n",
    "\n",
    "    accuracy = float(correct) / float(total)\n",
    "    accuracy_fig = \"\"\n",
    "    accuracy_fig = str(correct)\n",
    "    accuracy_fig += (\" of \")\n",
    "    accuracy_fig += str(total)\n",
    "    return accuracy, accuracy_fig\n",
    "\n",
    "print('get_accuracy defined')"
   ]
  },
  {
   "cell_type": "code",
   "execution_count": 34,
   "metadata": {},
   "outputs": [
    {
     "name": "stdout",
     "output_type": "stream",
     "text": [
      "Step 0 of 500\n",
      "Validation accuracy: 10.940000% (1094 of 10000), Mini-batch loss: 8.96989, Learning rate: 0.01000\n",
      "Step 5 of 500\n",
      "Validation accuracy: 12.410000% (1241 of 10000), Mini-batch loss: 7.36864, Learning rate: 0.01000\n",
      "Step 10 of 500\n",
      "Validation accuracy: 16.630000% (1663 of 10000), Mini-batch loss: 6.51252, Learning rate: 0.01000\n",
      "Step 15 of 500\n",
      "Validation accuracy: 18.060000% (1806 of 10000), Mini-batch loss: 6.34707, Learning rate: 0.01000\n",
      "Step 20 of 500\n",
      "Validation accuracy: 21.690000% (2169 of 10000), Mini-batch loss: 6.22292, Learning rate: 0.01000\n",
      "Step 25 of 500\n",
      "Validation accuracy: 24.370000% (2437 of 10000), Mini-batch loss: 6.30681, Learning rate: 0.01000\n",
      "Step 30 of 500\n",
      "Validation accuracy: 26.820000% (2682 of 10000), Mini-batch loss: 6.17990, Learning rate: 0.01000\n",
      "Step 35 of 500\n",
      "Validation accuracy: 26.730000% (2673 of 10000), Mini-batch loss: 6.16192, Learning rate: 0.01000\n",
      "Step 40 of 500\n",
      "Validation accuracy: 28.280000% (2828 of 10000), Mini-batch loss: 6.14630, Learning rate: 0.01000\n",
      "Step 45 of 500\n",
      "Validation accuracy: 31.110000% (3111 of 10000), Mini-batch loss: 6.17709, Learning rate: 0.01000\n",
      "Step 50 of 500\n",
      "Validation accuracy: 31.730000% (3173 of 10000), Mini-batch loss: 6.05039, Learning rate: 0.01000\n",
      "Step 55 of 500\n",
      "Validation accuracy: 34.400000% (3440 of 10000), Mini-batch loss: 6.09848, Learning rate: 0.01000\n",
      "Step 60 of 500\n",
      "Validation accuracy: 35.110000% (3511 of 10000), Mini-batch loss: 6.09632, Learning rate: 0.01000\n",
      "Step 65 of 500\n",
      "Validation accuracy: 35.550000% (3555 of 10000), Mini-batch loss: 6.07622, Learning rate: 0.01000\n",
      "Step 70 of 500\n",
      "Validation accuracy: 36.460000% (3646 of 10000), Mini-batch loss: 6.07799, Learning rate: 0.01000\n",
      "Step 75 of 500\n",
      "Validation accuracy: 37.970000% (3797 of 10000), Mini-batch loss: 5.94417, Learning rate: 0.01000\n",
      "Step 80 of 500\n",
      "Validation accuracy: 37.830000% (3783 of 10000), Mini-batch loss: 5.99907, Learning rate: 0.01000\n",
      "Step 85 of 500\n",
      "Validation accuracy: 39.170000% (3917 of 10000), Mini-batch loss: 5.80841, Learning rate: 0.01000\n",
      "Step 90 of 500\n",
      "Validation accuracy: 38.370000% (3837 of 10000), Mini-batch loss: 5.79098, Learning rate: 0.01000\n",
      "Step 95 of 500\n",
      "Validation accuracy: 39.150000% (3915 of 10000), Mini-batch loss: 5.93034, Learning rate: 0.01000\n",
      "Step 100 of 500\n",
      "Validation accuracy: 39.790000% (3979 of 10000), Mini-batch loss: 5.96398, Learning rate: 0.01000\n",
      "Step 105 of 500\n",
      "Validation accuracy: 39.410000% (3941 of 10000), Mini-batch loss: 5.88129, Learning rate: 0.01000\n",
      "Step 110 of 500\n",
      "Validation accuracy: 39.250000% (3925 of 10000), Mini-batch loss: 5.67161, Learning rate: 0.01000\n",
      "Step 115 of 500\n",
      "Validation accuracy: 40.250000% (4025 of 10000), Mini-batch loss: 5.87665, Learning rate: 0.01000\n",
      "Step 120 of 500\n",
      "Validation accuracy: 39.520000% (3952 of 10000), Mini-batch loss: 5.82046, Learning rate: 0.01000\n",
      "Step 125 of 500\n",
      "Validation accuracy: 39.830000% (3983 of 10000), Mini-batch loss: 5.76174, Learning rate: 0.01000\n",
      "Step 130 of 500\n",
      "Validation accuracy: 38.340000% (3834 of 10000), Mini-batch loss: 5.61680, Learning rate: 0.01000\n",
      "Step 135 of 500\n",
      "Validation accuracy: 39.020000% (3902 of 10000), Mini-batch loss: 5.81321, Learning rate: 0.01000\n",
      "Step 140 of 500\n",
      "Validation accuracy: 39.640000% (3964 of 10000), Mini-batch loss: 5.93203, Learning rate: 0.01000\n",
      "Step 145 of 500\n",
      "Validation accuracy: 40.160000% (4016 of 10000), Mini-batch loss: 5.73809, Learning rate: 0.01000\n",
      "Step 150 of 500\n",
      "Validation accuracy: 41.330000% (4133 of 10000), Mini-batch loss: 5.62235, Learning rate: 0.01000\n",
      "Step 155 of 500\n",
      "Validation accuracy: 41.690000% (4169 of 10000), Mini-batch loss: 5.65676, Learning rate: 0.01000\n",
      "Step 160 of 500\n",
      "Validation accuracy: 42.350000% (4235 of 10000), Mini-batch loss: 5.65894, Learning rate: 0.01000\n",
      "Step 165 of 500\n",
      "Validation accuracy: 42.540000% (4254 of 10000), Mini-batch loss: 5.84835, Learning rate: 0.01000\n",
      "Step 170 of 500\n",
      "Validation accuracy: 40.850000% (4085 of 10000), Mini-batch loss: 5.70908, Learning rate: 0.01000\n",
      "Step 175 of 500\n",
      "Validation accuracy: 41.270000% (4127 of 10000), Mini-batch loss: 5.64826, Learning rate: 0.01000\n",
      "Step 180 of 500\n",
      "Validation accuracy: 40.790000% (4079 of 10000), Mini-batch loss: 5.67380, Learning rate: 0.01000\n",
      "Step 185 of 500\n",
      "Validation accuracy: 43.300000% (4330 of 10000), Mini-batch loss: 5.74801, Learning rate: 0.01000\n",
      "Step 190 of 500\n",
      "Validation accuracy: 43.300000% (4330 of 10000), Mini-batch loss: 5.63927, Learning rate: 0.01000\n",
      "Step 195 of 500\n",
      "Validation accuracy: 43.730000% (4373 of 10000), Mini-batch loss: 5.71847, Learning rate: 0.01000\n",
      "Step 200 of 500\n",
      "Validation accuracy: 42.310000% (4231 of 10000), Mini-batch loss: 5.68738, Learning rate: 0.01000\n",
      "Step 205 of 500\n",
      "Validation accuracy: 43.840000% (4384 of 10000), Mini-batch loss: 5.69730, Learning rate: 0.01000\n",
      "Step 210 of 500\n",
      "Validation accuracy: 44.590000% (4459 of 10000), Mini-batch loss: 5.76528, Learning rate: 0.01000\n",
      "Step 215 of 500\n",
      "Validation accuracy: 44.020000% (4402 of 10000), Mini-batch loss: 5.76116, Learning rate: 0.01000\n",
      "Step 220 of 500\n",
      "Validation accuracy: 43.390000% (4339 of 10000), Mini-batch loss: 5.82886, Learning rate: 0.01000\n",
      "Step 225 of 500\n",
      "Validation accuracy: 43.400000% (4340 of 10000), Mini-batch loss: 5.55730, Learning rate: 0.01000\n",
      "Step 230 of 500\n",
      "Validation accuracy: 44.140000% (4414 of 10000), Mini-batch loss: 5.57283, Learning rate: 0.01000\n",
      "Step 235 of 500\n",
      "Validation accuracy: 43.110000% (4311 of 10000), Mini-batch loss: 5.73609, Learning rate: 0.01000\n",
      "Step 240 of 500\n",
      "Validation accuracy: 42.380000% (4238 of 10000), Mini-batch loss: 5.67618, Learning rate: 0.01000\n",
      "Step 245 of 500\n",
      "Validation accuracy: 43.370000% (4337 of 10000), Mini-batch loss: 5.57000, Learning rate: 0.01000\n",
      "Step 250 of 500\n",
      "Validation accuracy: 45.200000% (4520 of 10000), Mini-batch loss: 5.55429, Learning rate: 0.01000\n",
      "Step 255 of 500\n",
      "Validation accuracy: 45.770000% (4577 of 10000), Mini-batch loss: 5.54629, Learning rate: 0.01000\n",
      "Step 260 of 500\n",
      "Validation accuracy: 45.790000% (4579 of 10000), Mini-batch loss: 5.56820, Learning rate: 0.01000\n",
      "Step 265 of 500\n",
      "Validation accuracy: 45.770000% (4577 of 10000), Mini-batch loss: 5.58077, Learning rate: 0.01000\n",
      "Step 270 of 500\n",
      "Validation accuracy: 44.960000% (4496 of 10000), Mini-batch loss: 5.60260, Learning rate: 0.01000\n",
      "Step 275 of 500\n",
      "Validation accuracy: 44.730000% (4473 of 10000), Mini-batch loss: 5.62400, Learning rate: 0.01000\n",
      "Step 280 of 500\n",
      "Validation accuracy: 45.440000% (4544 of 10000), Mini-batch loss: 5.58665, Learning rate: 0.01000\n",
      "Step 285 of 500\n",
      "Validation accuracy: 45.580000% (4558 of 10000), Mini-batch loss: 5.67546, Learning rate: 0.01000\n",
      "Step 290 of 500\n",
      "Validation accuracy: 45.230000% (4523 of 10000), Mini-batch loss: 5.38736, Learning rate: 0.01000\n",
      "Step 295 of 500\n",
      "Validation accuracy: 45.280000% (4528 of 10000), Mini-batch loss: 5.68458, Learning rate: 0.01000\n",
      "Step 300 of 500\n",
      "Validation accuracy: 46.920000% (4692 of 10000), Mini-batch loss: 5.55603, Learning rate: 0.01000\n",
      "Step 305 of 500\n",
      "Validation accuracy: 45.930000% (4593 of 10000), Mini-batch loss: 5.47892, Learning rate: 0.01000\n",
      "Step 310 of 500\n",
      "Validation accuracy: 46.970000% (4697 of 10000), Mini-batch loss: 5.56919, Learning rate: 0.01000\n",
      "Step 315 of 500\n",
      "Validation accuracy: 46.530000% (4653 of 10000), Mini-batch loss: 5.61769, Learning rate: 0.00950\n",
      "Step 320 of 500\n",
      "Validation accuracy: 46.080000% (4608 of 10000), Mini-batch loss: 5.49066, Learning rate: 0.00950\n",
      "Step 325 of 500\n",
      "Validation accuracy: 47.110000% (4711 of 10000), Mini-batch loss: 5.42617, Learning rate: 0.00950\n",
      "Step 330 of 500\n",
      "Validation accuracy: 46.910000% (4691 of 10000), Mini-batch loss: 5.34435, Learning rate: 0.00950\n",
      "Step 335 of 500\n",
      "Validation accuracy: 47.960000% (4796 of 10000), Mini-batch loss: 5.52140, Learning rate: 0.00950\n",
      "Step 340 of 500\n",
      "Validation accuracy: 48.190000% (4819 of 10000), Mini-batch loss: 5.58779, Learning rate: 0.00950\n",
      "Step 345 of 500\n",
      "Validation accuracy: 47.360000% (4736 of 10000), Mini-batch loss: 5.54390, Learning rate: 0.00950\n",
      "Step 350 of 500\n",
      "Validation accuracy: 47.990000% (4799 of 10000), Mini-batch loss: 5.51085, Learning rate: 0.00950\n",
      "Step 355 of 500\n",
      "Validation accuracy: 48.330000% (4833 of 10000), Mini-batch loss: 5.52453, Learning rate: 0.00950\n",
      "Step 360 of 500\n"
     ]
    },
    {
     "name": "stdout",
     "output_type": "stream",
     "text": [
      "Validation accuracy: 48.680000% (4868 of 10000), Mini-batch loss: 5.48614, Learning rate: 0.00950\n",
      "Step 365 of 500\n",
      "Validation accuracy: 49.120000% (4912 of 10000), Mini-batch loss: 5.34098, Learning rate: 0.00950\n",
      "Step 370 of 500\n",
      "Validation accuracy: 49.950000% (4995 of 10000), Mini-batch loss: 5.37984, Learning rate: 0.00950\n",
      "Step 375 of 500\n",
      "Validation accuracy: 50.100000% (5010 of 10000), Mini-batch loss: 5.36856, Learning rate: 0.00950\n",
      "Step 380 of 500\n",
      "Validation accuracy: 49.300000% (4930 of 10000), Mini-batch loss: 5.45897, Learning rate: 0.00950\n",
      "Step 385 of 500\n",
      "Validation accuracy: 49.440000% (4944 of 10000), Mini-batch loss: 5.32027, Learning rate: 0.00950\n",
      "Step 390 of 500\n",
      "Validation accuracy: 50.180000% (5018 of 10000), Mini-batch loss: 5.36415, Learning rate: 0.00950\n",
      "Step 395 of 500\n",
      "Validation accuracy: 49.950000% (4995 of 10000), Mini-batch loss: 5.51847, Learning rate: 0.00950\n",
      "Step 400 of 500\n",
      "Validation accuracy: 49.760000% (4976 of 10000), Mini-batch loss: 5.46389, Learning rate: 0.00950\n",
      "Step 405 of 500\n",
      "Validation accuracy: 49.910000% (4991 of 10000), Mini-batch loss: 5.43567, Learning rate: 0.00950\n",
      "Step 410 of 500\n",
      "Validation accuracy: 50.530000% (5053 of 10000), Mini-batch loss: 5.53805, Learning rate: 0.00950\n",
      "Step 415 of 500\n",
      "Validation accuracy: 50.610000% (5061 of 10000), Mini-batch loss: 5.22060, Learning rate: 0.00950\n",
      "Step 420 of 500\n",
      "Validation accuracy: 50.220000% (5022 of 10000), Mini-batch loss: 5.42620, Learning rate: 0.00950\n",
      "Step 425 of 500\n",
      "Validation accuracy: 50.420000% (5042 of 10000), Mini-batch loss: 5.37271, Learning rate: 0.00950\n",
      "Step 430 of 500\n",
      "Validation accuracy: 50.450000% (5045 of 10000), Mini-batch loss: 5.44106, Learning rate: 0.00950\n",
      "Step 435 of 500\n",
      "Validation accuracy: 50.970000% (5097 of 10000), Mini-batch loss: 5.41091, Learning rate: 0.00950\n",
      "Step 440 of 500\n",
      "Validation accuracy: 50.170000% (5017 of 10000), Mini-batch loss: 5.26849, Learning rate: 0.00950\n",
      "Step 445 of 500\n",
      "Validation accuracy: 50.560000% (5056 of 10000), Mini-batch loss: 5.32833, Learning rate: 0.00950\n",
      "Step 450 of 500\n",
      "Validation accuracy: 49.160000% (4916 of 10000), Mini-batch loss: 5.28021, Learning rate: 0.00950\n",
      "Step 455 of 500\n",
      "Validation accuracy: 49.100000% (4910 of 10000), Mini-batch loss: 5.40201, Learning rate: 0.00950\n",
      "Step 460 of 500\n",
      "Validation accuracy: 49.310000% (4931 of 10000), Mini-batch loss: 5.52653, Learning rate: 0.00950\n",
      "Step 465 of 500\n",
      "Validation accuracy: 50.780000% (5078 of 10000), Mini-batch loss: 5.36069, Learning rate: 0.00950\n",
      "Step 470 of 500\n",
      "Validation accuracy: 49.990000% (4999 of 10000), Mini-batch loss: 5.27545, Learning rate: 0.00950\n",
      "Step 475 of 500\n",
      "Validation accuracy: 51.620000% (5162 of 10000), Mini-batch loss: 5.29266, Learning rate: 0.00950\n",
      "Step 480 of 500\n",
      "Validation accuracy: 50.490000% (5049 of 10000), Mini-batch loss: 5.26180, Learning rate: 0.00950\n",
      "Step 485 of 500\n",
      "Validation accuracy: 50.550000% (5055 of 10000), Mini-batch loss: 5.54325, Learning rate: 0.00950\n",
      "Step 490 of 500\n",
      "Validation accuracy: 49.870000% (4987 of 10000), Mini-batch loss: 5.49375, Learning rate: 0.00950\n",
      "Step 495 of 500\n",
      "Validation accuracy: 50.210000% (5021 of 10000), Mini-batch loss: 5.46700, Learning rate: 0.00950\n"
     ]
    }
   ],
   "source": [
    "#steps = train_size\n",
    "steps = 500\n",
    "for step in range(steps):\n",
    "    offset = (step * BATCH_SIZE) % (train_size - BATCH_SIZE)\n",
    "    batch_data = train_data[offset:(offset + BATCH_SIZE), :, :, :]\n",
    "    batch_labels = train_labels[offset:(offset + BATCH_SIZE)]\n",
    "    feed_dict = {train_data_node: batch_data, train_labels_node: batch_labels}\n",
    "    _, l, lr, predictions = sess.run([optimizer, loss, learning_rate, train_prediction], feed_dict=feed_dict)\n",
    "    \n",
    "    if step % 5 == 0:\n",
    "        print('Step %d of %d' % (step, steps))\n",
    "        validation_accuracy, validation_accuracy_fig = get_accuracy(\n",
    "              validation_prediction.eval(), validation_labels)\n",
    "        print('Validation accuracy: %.6f%% (%s), Mini-batch loss: %.5f, Learning rate: %.5f' % \n",
    "              (validation_accuracy * 100, validation_accuracy_fig, l, lr))\n",
    "        #feed_train_all_data_dict = {train_all_data_node: train_data}\n",
    "        #train_accuracy, train_accuracy_fig = get_accuracy(\n",
    "         #     train_all_data_prediction.eval(feed_dict=feed_train_all_data_dict), \n",
    "         #   train_labels)\n",
    "        \n",
    "        #train_accuracy, train_accuracy_fig = get_accuracy(\n",
    "        #      train_all_data_prediction.eval(), train_labels)\n",
    "        \n",
    "        #print('Train accuracy: %.6f%% (%s), Mini-batch loss: %.5f, Learning rate: %.5f' % \n",
    "         #     (train_accuracy * 100, train_accuracy_fig, l, lr))"
   ]
  },
  {
   "cell_type": "code",
   "execution_count": 35,
   "metadata": {},
   "outputs": [
    {
     "name": "stdout",
     "output_type": "stream",
     "text": [
      "Test accuracy: 0.50180000 (5018 of 10000)\n"
     ]
    }
   ],
   "source": [
    "test_accuracy, test_accuracy_fig = get_accuracy(test_prediction.eval(), test_labels)\n",
    "print('Test accuracy: %.8f (%s)' % (test_accuracy, test_accuracy_fig))"
   ]
  },
  {
   "cell_type": "code",
   "execution_count": null,
   "metadata": {
    "collapsed": true
   },
   "outputs": [],
   "source": [
    "train_accuracy, train_accuracy_fig = get_accuracy(train_all_data_prediction.eval(), train_labels)\n",
    "print('Train accuracy: %.8f (%s)' % (train_accuracy, train_accuracy_fig))"
   ]
  },
  {
   "cell_type": "code",
   "execution_count": null,
   "metadata": {
    "collapsed": true
   },
   "outputs": [],
   "source": []
  }
 ],
 "metadata": {
  "kernelspec": {
   "display_name": "Python 2",
   "language": "python",
   "name": "python2"
  },
  "language_info": {
   "codemirror_mode": {
    "name": "ipython",
    "version": 2
   },
   "file_extension": ".py",
   "mimetype": "text/x-python",
   "name": "python",
   "nbconvert_exporter": "python",
   "pygments_lexer": "ipython2",
   "version": "2.7.13"
  }
 },
 "nbformat": 4,
 "nbformat_minor": 2
}
