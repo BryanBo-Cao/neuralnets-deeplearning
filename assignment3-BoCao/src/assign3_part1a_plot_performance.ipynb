{
 "cells": [
  {
   "cell_type": "code",
   "execution_count": 3,
   "metadata": {},
   "outputs": [
    {
     "name": "stderr",
     "output_type": "stream",
     "text": [
      "/usr/local/lib/python2.7/dist-packages/matplotlib/legend.py:634: UserWarning: Legend does not support [0.789889253486, 0.988310090238, 0.992616899098, 0.992821985234, 0.991899097621] instances.\n",
      "A proxy artist may be used instead.\n",
      "See: http://matplotlib.org/users/legend_guide.html#using-proxy-artist\n",
      "  \"#using-proxy-artist\".format(orig_handle)\n",
      "/usr/local/lib/python2.7/dist-packages/matplotlib/legend.py:634: UserWarning: Legend does not support [0.705655, 0.608798, 0.618191, 0.616051, 0.634719] instances.\n",
      "A proxy artist may be used instead.\n",
      "See: http://matplotlib.org/users/legend_guide.html#using-proxy-artist\n",
      "  \"#using-proxy-artist\".format(orig_handle)\n"
     ]
    },
    {
     "data": {
      "image/png": "[encoded data removed]",
      "text/plain": [
       "<matplotlib.figure.Figure at 0x7f4ff9b4d950>"
      ]
     },
     "metadata": {},
     "output_type": "display_data"
    }
   ],
   "source": [
    "'''\n",
    "Author: Bryan Bo Cao\n",
    "Email: boca7588@colorado.edu or bo.cao-1@colorado.edu\n",
    "Github Repo: https://github.com/BryanBo-Cao/neuralnets-deeplearning\n",
    "'''\n",
    "import numpy as np\n",
    "import matplotlib.pyplot as plt\n",
    "\n",
    "H = [1, 2, 5, 10, 20]\n",
    "test_accuracies_assign2 = [0.789889253486, 0.988310090238, 0.992616899098, 0.992821985234, 0.991899097621]\n",
    "test_accuracies_assign3 = [0.705655, 0.608798, 0.618191, 0.616051, 0.634719]\n",
    "\n",
    "def plot_performance_bar(H, test_accuracies_assign2, test_accuracies_assign3):\n",
    "    y_axis_0 = test_accuracies_assign2\n",
    "    y_axis_1 = test_accuracies_assign3\n",
    "    x_axis = H\n",
    "    ind = np.arange(len(x_axis))\n",
    "    plt.bar(ind - 0.2, y_axis_0, width = 0.2, color = 'b', align = 'center')\n",
    "    plt.bar(ind, y_axis_1, width = 0.2, color = 'r', align = 'center')\n",
    "    plt.xticks(ind, x_axis)\n",
    "    plt.ylabel('Accuracy')\n",
    "    plt.legend( (y_axis_0, y_axis_1), ('Train Accuracy', 'Test Accuracy') )\n",
    "    plt.xlabel('Number of hidden layer units')\n",
    "    plt.show()\n",
    "\n",
    "plot_performance_bar(H, test_accuracies_assign2, test_accuracies_assign3)"
   ]
  },
  {
   "cell_type": "code",
   "execution_count": null,
   "metadata": {
    "collapsed": true
   },
   "outputs": [],
   "source": []
  }
 ],
 "metadata": {
  "kernelspec": {
   "display_name": "Python 2",
   "language": "python",
   "name": "python2"
  },
  "language_info": {
   "codemirror_mode": {
    "name": "ipython",
    "version": 2
   },
   "file_extension": ".py",
   "mimetype": "text/x-python",
   "name": "python",
   "nbconvert_exporter": "python",
   "pygments_lexer": "ipython2",
   "version": "2.7.12"
  }
 },
 "nbformat": 4,
 "nbformat_minor": 2
}
