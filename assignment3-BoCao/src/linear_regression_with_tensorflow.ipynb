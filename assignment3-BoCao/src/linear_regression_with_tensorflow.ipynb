{
 "cells": [
  {
   "cell_type": "code",
   "execution_count": 1,
   "metadata": {
    "collapsed": true
   },
   "outputs": [],
   "source": [
    "# Reference: https://youtu.be/zNalsMIB3NE\n",
    "import numpy as np\n",
    "import tensorflow as tf\n",
    "import matplotlib.patches as mpatches\n",
    "import matplotlib.pyplot as plt\n",
    "plt.rcParams['figure.figsize'] = (10, 6)"
   ]
  },
  {
   "cell_type": "code",
   "execution_count": 4,
   "metadata": {},
   "outputs": [
    {
     "data": {
      "text/plain": [
       "array([ 0. ,  0.1,  0.2,  0.3,  0.4,  0.5,  0.6,  0.7,  0.8,  0.9,  1. ,\n",
       "        1.1,  1.2,  1.3,  1.4,  1.5,  1.6,  1.7,  1.8,  1.9,  2. ,  2.1,\n",
       "        2.2,  2.3,  2.4,  2.5,  2.6,  2.7,  2.8,  2.9,  3. ,  3.1,  3.2,\n",
       "        3.3,  3.4,  3.5,  3.6,  3.7,  3.8,  3.9,  4. ,  4.1,  4.2,  4.3,\n",
       "        4.4,  4.5,  4.6,  4.7,  4.8,  4.9])"
      ]
     },
     "execution_count": 4,
     "metadata": {},
     "output_type": "execute_result"
    }
   ],
   "source": [
    "X = np.arange(0.0, 5.0, 0.1)\n",
    "X"
   ]
  },
  {
   "cell_type": "code",
   "execution_count": 5,
   "metadata": {},
   "outputs": [
    {
     "data": {
      "image/png": "[encoded data removed]",
      "text/plain": [
       "<matplotlib.figure.Figure at 0x7f39f029cf10>"
      ]
     },
     "metadata": {},
     "output_type": "display_data"
    }
   ],
   "source": [
    "a = 1\n",
    "b = 0\n",
    "Y = a * X + b\n",
    "\n",
    "plt.plot(X,Y)\n",
    "plt.ylabel('Dependent Variable')\n",
    "plt.xlabel('Independent Variable')\n",
    "plt.show()"
   ]
  },
  {
   "cell_type": "code",
   "execution_count": 6,
   "metadata": {
    "collapsed": true
   },
   "outputs": [],
   "source": [
    " x_data = np.random.rand(100).astype(np.float32)"
   ]
  },
  {
   "cell_type": "code",
   "execution_count": 7,
   "metadata": {},
   "outputs": [
    {
     "name": "stdout",
     "output_type": "stream",
     "text": [
      "[ 0.16642383  0.95365566  0.79447943  0.59241205  0.37511587  0.61679858\n",
      "  0.54604691  0.25005215  0.74354893  0.63996518  0.72971898  0.26483089\n",
      "  0.65822232  0.94177443  0.58996409  0.91864705  0.29326904  0.1294518\n",
      "  0.74174923  0.31732777  0.14445585  0.12722476  0.05462266  0.20515051\n",
      "  0.32616502  0.7578755   0.4023543   0.09796248  0.5069766   0.50081193\n",
      "  0.67672759  0.9700262   0.68490553  0.49928766  0.32440484  0.84246331\n",
      "  0.90377206  0.80565512  0.88774413  0.77379465  0.59886116  0.0956556\n",
      "  0.30227333  0.45663357  0.99801135  0.97857165  0.02006707  0.96270549\n",
      "  0.04028146  0.99710625  0.9597398   0.83926189  0.42162746  0.78591144\n",
      "  0.95147932  0.69352615  0.34026909  0.76544619  0.88544023  0.13669389\n",
      "  0.72038972  0.09682097  0.46830109  0.15165512  0.80108899  0.23435965\n",
      "  0.29336748  0.4279806   0.68010056  0.58522731  0.44109121  0.91114205\n",
      "  0.34863734  0.22548637  0.69342273  0.09184931  0.08484635  0.47713163\n",
      "  0.11011343  0.06308017  0.85616505  0.50120336  0.71840662  0.20382725\n",
      "  0.75509131  0.23185843  0.3008315   0.88854027  0.74243802  0.8529166\n",
      "  0.82826012  0.40471447  0.73453611  0.29489794  0.14325707  0.37860385\n",
      "  0.40269342  0.6667043   0.29927379  0.75818807]\n"
     ]
    }
   ],
   "source": [
    "print(x_data)"
   ]
  },
  {
   "cell_type": "code",
   "execution_count": 8,
   "metadata": {
    "collapsed": true
   },
   "outputs": [],
   "source": [
    "# Y = 3X + 2\n",
    "y_data = x_data * 3 + 2\n",
    "y_data = np.vectorize(lambda y: y + np.random.normal(loc=0.0, scale=0.1))(y_data)"
   ]
  },
  {
   "cell_type": "code",
   "execution_count": 9,
   "metadata": {},
   "outputs": [
    {
     "name": "stdout",
     "output_type": "stream",
     "text": [
      "[ 2.58110233  4.56546582  4.32401477  3.78940296  2.96679182  3.92417032\n",
      "  3.66713992  2.7508007   4.23723679  3.87783538  4.23309219  2.84120879\n",
      "  3.99527808  4.8657353   3.7959497   4.64432158  2.65521264  2.26676703\n",
      "  4.19081438  3.20884557  2.52559208  2.32954493  2.07774742  2.55757885\n",
      "  3.1095406   4.34644538  3.35145068  2.36045938  3.69603747  3.41166722\n",
      "  3.94588608  4.95973834  4.06163196  3.36436986  2.92611561  4.27420262\n",
      "  4.7823632   4.34496875  4.66746856  4.18325092  3.74691662  2.34789298\n",
      "  2.81975424  3.47494527  4.91783086  4.84578975  2.0978592   4.90739618\n",
      "  2.13601337  5.06739866  4.82750804  4.55175082  3.33423527  4.4808968\n",
      "  4.92654617  4.0944293   2.8847735   4.35216344  4.626055    2.26114942\n",
      "  4.12790555  2.09571668  3.36930835  2.44779819  4.43454301  2.68008131\n",
      "  2.80973181  3.13876834  4.01128503  3.82412025  3.46029759  4.68443702\n",
      "  3.01919409  2.8040296   4.12055609  2.34030946  2.32110094  3.5301786\n",
      "  2.33091821  2.21351836  4.60185052  3.28371834  4.04538736  2.52270899\n",
      "  4.30204684  2.58721548  2.98669877  4.64929342  4.37528324  4.51645591\n",
      "  4.47517416  3.18934143  4.21512762  2.92376702  2.59448642  3.19917075\n",
      "  3.37458892  3.9300324   2.66907439  4.25785558]\n"
     ]
    }
   ],
   "source": [
    "print(y_data)"
   ]
  },
  {
   "cell_type": "code",
   "execution_count": 10,
   "metadata": {},
   "outputs": [
    {
     "data": {
      "text/plain": [
       "[(0.16642383, 2.5811023321070108),\n",
       " (0.95365566, 4.5654658243849262),\n",
       " (0.79447943, 4.3240147665533684),\n",
       " (0.59241205, 3.7894029630102786),\n",
       " (0.37511587, 2.9667918239185038)]"
      ]
     },
     "execution_count": 10,
     "metadata": {},
     "output_type": "execute_result"
    }
   ],
   "source": [
    "zip(x_data,y_data) [0:5]"
   ]
  },
  {
   "cell_type": "code",
   "execution_count": 11,
   "metadata": {
    "collapsed": true
   },
   "outputs": [],
   "source": [
    "a = tf.Variable(1.0)\n",
    "b = tf.Variable(0.2)\n",
    "y = a * x_data + b"
   ]
  },
  {
   "cell_type": "code",
   "execution_count": 12,
   "metadata": {
    "collapsed": true
   },
   "outputs": [],
   "source": [
    "loss = tf.reduce_mean(tf.square(y - y_data))\n",
    "optimizer = tf.train.GradientDescentOptimizer(0.5)\n",
    "train = optimizer.minimize(loss)"
   ]
  },
  {
   "cell_type": "code",
   "execution_count": 15,
   "metadata": {},
   "outputs": [],
   "source": [
    "# init = tf.initialize_all_variables() # deprecated\n",
    "init = tf.global_variables_initializer()\n",
    "sess = tf.Session()\n",
    "sess.run(init)"
   ]
  },
  {
   "cell_type": "code",
   "execution_count": 16,
   "metadata": {},
   "outputs": [
    {
     "name": "stdout",
     "output_type": "stream",
     "text": [
      "(0, [2.6743078, 3.0496771])\n",
      "(5, [2.4940257, 2.2758944])\n",
      "(10, [2.6339409, 2.1988585])\n",
      "(15, [2.7330706, 2.1427934])\n",
      "(20, [2.8037589, 2.1028175])\n",
      "(25, [2.8541651, 2.0743117])\n",
      "(30, [2.8901083, 2.0539851])\n",
      "(35, [2.9157386, 2.0394905])\n",
      "(40, [2.934015, 2.0291548])\n",
      "(45, [2.9470477, 2.0217845])\n",
      "(50, [2.9563408, 2.0165293])\n",
      "(55, [2.9629672, 2.0127816])\n",
      "(60, [2.9676926, 2.0101094])\n",
      "(65, [2.9710619, 2.0082037])\n",
      "(70, [2.9734645, 2.0068452])\n",
      "(75, [2.9751778, 2.0058763])\n",
      "(80, [2.9763994, 2.0051854])\n",
      "(85, [2.9772708, 2.0046928])\n",
      "(90, [2.9778922, 2.0043414])\n",
      "(95, [2.9783351, 2.0040908])\n"
     ]
    }
   ],
   "source": [
    "train_data = []\n",
    "for step in range(100):\n",
    "    evals = sess.run([train,a,b])[1:]\n",
    "    if step % 5 == 0:\n",
    "        print(step, evals)\n",
    "        train_data.append(evals)"
   ]
  },
  {
   "cell_type": "code",
   "execution_count": 19,
   "metadata": {},
   "outputs": [
    {
     "data": {
      "image/png": "[encoded data removed]",
      "text/plain": [
       "<matplotlib.figure.Figure at 0x7f39ec3a5e10>"
      ]
     },
     "metadata": {},
     "output_type": "display_data"
    }
   ],
   "source": [
    "converter = plt.colors\n",
    "cr, cg, cb = (1.0, 1.0, 0.0)\n",
    "for f in train_data:\n",
    "    cb += 1.0 / len(train_data)\n",
    "    cg -= 1.0 / len(train_data)\n",
    "    if cb > 1.0: cb = 1.0\n",
    "    if cg < 0.0: cg = 0.0\n",
    "    [a, b] = f\n",
    "    f_y = np.vectorize(lambda x: a*x + b)(x_data)\n",
    "    line = plt.plot(x_data, f_y)\n",
    "    plt.setp(line, color=(cr,cg, cb))\n",
    "    \n",
    "plt.plot(x_data, y_data, 'ro')\n",
    "\n",
    "green_line = mpatches.Patch(color='red', label='Data Points')\n",
    "\n",
    "plt.legend(handles=[green_line])\n",
    "\n",
    "plt.show()"
   ]
  },
  {
   "cell_type": "code",
   "execution_count": null,
   "metadata": {
    "collapsed": true
   },
   "outputs": [],
   "source": []
  }
 ],
 "metadata": {
  "kernelspec": {
   "display_name": "Python 2",
   "language": "python",
   "name": "python2"
  },
  "language_info": {
   "codemirror_mode": {
    "name": "ipython",
    "version": 2
   },
   "file_extension": ".py",
   "mimetype": "text/x-python",
   "name": "python",
   "nbconvert_exporter": "python",
   "pygments_lexer": "ipython2",
   "version": "2.7.12"
  }
 },
 "nbformat": 4,
 "nbformat_minor": 2
}
