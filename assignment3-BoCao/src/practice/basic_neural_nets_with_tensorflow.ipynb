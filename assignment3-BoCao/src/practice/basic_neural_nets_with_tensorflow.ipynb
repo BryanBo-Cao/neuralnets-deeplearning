{
 "cells": [
  {
   "cell_type": "code",
   "execution_count": 1,
   "metadata": {
    "collapsed": true
   },
   "outputs": [],
   "source": [
    "# Reference: https://youtu.be/rzilPq7xXC4\n",
    "import tensorflow as tf\n",
    "import numpy as np\n",
    "import math\n",
    "\n",
    "sess = tf.InteractiveSession()"
   ]
  },
  {
   "cell_type": "code",
   "execution_count": 2,
   "metadata": {
    "collapsed": true
   },
   "outputs": [],
   "source": [
    "x1 = tf.Variable(tf.truncated_normal([5],\n",
    "                                    mean=3, stddev=1./math.sqrt(5)))\n",
    "x2 = tf.Variable(tf.truncated_normal([5],\n",
    "                                    mean=-1, stddev=1./math.sqrt(5)))\n",
    "x3 = tf.Variable(tf.truncated_normal([5],\n",
    "                                    mean=0, stddev=1./math.sqrt(5)))"
   ]
  },
  {
   "cell_type": "code",
   "execution_count": 3,
   "metadata": {
    "collapsed": true
   },
   "outputs": [],
   "source": [
    "sess.run(tf.global_variables_initializer())"
   ]
  },
  {
   "cell_type": "code",
   "execution_count": 6,
   "metadata": {},
   "outputs": [
    {
     "name": "stdout",
     "output_type": "stream",
     "text": [
      "[-0.43010956 -1.13535237 -0.99287236 -1.34988117 -0.69460398]\n",
      "[ 0.18499424  1.28902507  0.9857955   1.8221792   0.48247468]\n"
     ]
    }
   ],
   "source": [
    "sqx2 = x2 * x2\n",
    "print(x2.eval())\n",
    "print(sqx2.eval())"
   ]
  },
  {
   "cell_type": "code",
   "execution_count": 7,
   "metadata": {},
   "outputs": [
    {
     "name": "stdout",
     "output_type": "stream",
     "text": [
      "[ 3.05549836  2.80742431  2.46314025  2.74482155  3.07706165]\n",
      "[ 1.11694264  1.03226745  0.90143704  1.00971603  1.12397516]\n"
     ]
    }
   ],
   "source": [
    "logx1 = tf.log(x1)\n",
    "print(x1.eval())\n",
    "print(logx1.eval())"
   ]
  },
  {
   "cell_type": "code",
   "execution_count": 8,
   "metadata": {},
   "outputs": [
    {
     "name": "stdout",
     "output_type": "stream",
     "text": [
      "[-0.0919938  -0.19651921 -0.11295315 -0.49654815  0.16319777]\n",
      "[ 0.47701776  0.45102769  0.47179174  0.3783522   0.54070914]\n"
     ]
    }
   ],
   "source": [
    "sigx3 = tf.sigmoid(x3)\n",
    "print(x3.eval())\n",
    "print(sigx3.eval())"
   ]
  },
  {
   "cell_type": "code",
   "execution_count": 11,
   "metadata": {},
   "outputs": [
    {
     "name": "stdout",
     "output_type": "stream",
     "text": [
      "[ 0.33172268  0.31661573  0.27933365  0.3247796   0.26437524]\n",
      "[-0.16178624 -0.22296892 -0.23852877 -0.21238981 -0.30128402]\n",
      "[ 0.54238218  0.52339464  0.51019979  0.52806789  0.49077386]\n"
     ]
    }
   ],
   "source": [
    "w1 = tf.constant(0.1)\n",
    "w2 = tf.constant(0.2)\n",
    "sess.run(tf.global_variables_initializer())\n",
    "n1 = tf.sigmoid(w1*x1 + w2*x2)\n",
    "print((w1*x1).eval())\n",
    "print((w2*x2).eval())\n",
    "print(n1.eval())"
   ]
  },
  {
   "cell_type": "code",
   "execution_count": null,
   "metadata": {
    "collapsed": true
   },
   "outputs": [],
   "source": []
  }
 ],
 "metadata": {
  "kernelspec": {
   "display_name": "Python 2",
   "language": "python",
   "name": "python2"
  },
  "language_info": {
   "codemirror_mode": {
    "name": "ipython",
    "version": 2
   },
   "file_extension": ".py",
   "mimetype": "text/x-python",
   "name": "python",
   "nbconvert_exporter": "python",
   "pygments_lexer": "ipython2",
   "version": "2.7.12"
  }
 },
 "nbformat": 4,
 "nbformat_minor": 2
}
