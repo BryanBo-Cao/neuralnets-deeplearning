{
 "cells": [
  {
   "cell_type": "code",
   "execution_count": 13,
   "metadata": {},
   "outputs": [
    {
     "name": "stdout",
     "output_type": "stream",
     "text": [
      "0.27593\n",
      "0.2447\n",
      "0.227743\n",
      "0.191963\n",
      "0.146333\n",
      "0.101089\n",
      "0.0619774\n",
      "0.0374833\n",
      "0.0245024\n",
      "0.0173989\n",
      "[array([[ 0.12146503],\n",
      "       [ 0.88668025],\n",
      "       [ 0.88863879],\n",
      "       [ 0.11272075]], dtype=float32)]\n",
      "Accuracy:  1.0\n"
     ]
    }
   ],
   "source": [
    "# Reference: https://www.youtube.com/watch?v=FbJw8J0rTyQ\n",
    "import tensorflow as tf\n",
    "import numpy as np\n",
    "x_data = np.array([\n",
    "    [0,0], [0,1],\n",
    "    [1,0], [1,1]\n",
    "])\n",
    "y_data = np.array([\n",
    "    [0], [1], [1], [0]\n",
    "])\n",
    "\n",
    "n_input = 2\n",
    "n_hidden = 10\n",
    "n_output = 1\n",
    "lr = 0.1\n",
    "epochs = 10000\n",
    "\n",
    "X = tf.placeholder(tf.float32)\n",
    "Y = tf.placeholder(tf.float32)\n",
    "\n",
    "W1 = tf.Variable(tf.random_uniform([n_input, n_hidden], -1.0, 1.0))\n",
    "W2 = tf.Variable(tf.random_uniform([n_hidden, n_output], -1.0, 1.0))\n",
    "\n",
    "L2 = tf.sigmoid(tf.matmul(X, W1))\n",
    "hy = tf.sigmoid(tf.matmul(L2, W2))\n",
    "\n",
    "cost = tf.reduce_mean(tf.square(Y - hy))\n",
    "optimizer = tf.train.GradientDescentOptimizer(lr).minimize(cost)\n",
    "\n",
    "init = tf.global_variables_initializer()\n",
    "\n",
    "with tf.Session() as sess:\n",
    "    sess.run(init)\n",
    "    \n",
    "    for step in xrange(epochs):\n",
    "        sess.run(optimizer, feed_dict={X: x_data, Y: y_data})\n",
    "        \n",
    "        if step % 1000 == 0:\n",
    "            print sess.run(cost, feed_dict={X: x_data, Y: y_data})\n",
    "            \n",
    "    answer = tf.equal(tf.floor(hy + 0.5), Y)\n",
    "    accuracy = tf.reduce_mean(tf.cast(answer, \"float\"))\n",
    "        \n",
    "    print sess.run([hy], feed_dict={X: x_data, Y: y_data})\n",
    "    print \"Accuracy: \", accuracy.eval({X: x_data, Y: y_data})\n",
    "        "
   ]
  },
  {
   "cell_type": "code",
   "execution_count": null,
   "metadata": {
    "collapsed": true
   },
   "outputs": [],
   "source": []
  }
 ],
 "metadata": {
  "kernelspec": {
   "display_name": "Python 2",
   "language": "python",
   "name": "python2"
  },
  "language_info": {
   "codemirror_mode": {
    "name": "ipython",
    "version": 2
   },
   "file_extension": ".py",
   "mimetype": "text/x-python",
   "name": "python",
   "nbconvert_exporter": "python",
   "pygments_lexer": "ipython2",
   "version": "2.7.12"
  }
 },
 "nbformat": 4,
 "nbformat_minor": 2
}
