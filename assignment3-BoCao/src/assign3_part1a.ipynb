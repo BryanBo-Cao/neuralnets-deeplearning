{
 "cells": [
  {
   "cell_type": "code",
   "execution_count": 1,
   "metadata": {},
   "outputs": [
    {
     "name": "stdout",
     "output_type": "stream",
     "text": [
      "data: [[  2.31800003e+01   2.72719994e+01   4.26000000e+02   7.21250000e+02\n",
      "    4.79298830e-03]\n",
      " [  2.31499996e+01   2.72674999e+01   4.29500000e+02   7.14000000e+02\n",
      "    4.78344085e-03]\n",
      " [  2.31499996e+01   2.72450008e+01   4.26000000e+02   7.13500000e+02\n",
      "    4.77946363e-03]\n",
      " ..., \n",
      " [  2.11000004e+01   3.60950012e+01   4.33000000e+02   7.98500000e+02\n",
      "    5.59563888e-03]\n",
      " [  2.11000004e+01   3.62599983e+01   4.33000000e+02   8.20333313e+02\n",
      "    5.62144956e-03]\n",
      " [  2.11000004e+01   3.62000008e+01   4.47000000e+02   8.21000000e+02\n",
      "    5.61206369e-03]]\n"
     ]
    },
    {
     "data": {
      "text/plain": [
       "'\\nprint (\"t: \", t)\\nprint (\"hu: \", hu)\\nprint (\"lt: \", lt)\\nprint (\"co2: \", co2)\\nprint (\"hu_r: \", hu_r)\\nprint (\"o: \", o)\\n'"
      ]
     },
     "execution_count": 1,
     "metadata": {},
     "output_type": "execute_result"
    }
   ],
   "source": [
    "'''\n",
    "Author: Bryan Bo Cao\n",
    "Email: boca7588@colorado.edu or bo.cao-1@colorado.edu\n",
    "Github Repo: https://github.com/BryanBo-Cao/neuralnets-deeplearning\n",
    "'''\n",
    "from __future__ import print_function\n",
    "\n",
    "import tensorflow as tf\n",
    "import numpy as np\n",
    "import random\n",
    "import copy\n",
    "import matplotlib.pyplot as plt\n",
    "\n",
    "# Reading data\n",
    "all_output_0_train_accuracy = 0.787670391748\n",
    "all_output_0_test_accuracy = 0.789889253486\n",
    "all_output_1_train_accuracy = 0.212329608252\n",
    "all_output_1_test_accuracy = 0.210110746514\n",
    "\n",
    "train_data = np.genfromtxt('train_data.txt', delimiter=',')\n",
    "#print \"train_data:\", train_data\n",
    "\n",
    "t = train_data[:,2]\n",
    "hu = train_data[:,3]\n",
    "lt = train_data[:,4]\n",
    "co2 = train_data[:,5]\n",
    "hu_r = train_data[:,6]\n",
    "\n",
    "o = train_data[:,7]\n",
    "\n",
    "#data\n",
    "data = np.column_stack((t, hu, lt, co2, hu_r))\n",
    "data = np.float32(data)\n",
    "print (\"data:\", data)\n",
    "\n",
    "#print \"np.shape(train_data): \", np.shape(train_data)\n",
    "#print \"np.shape(t): \", np.shape(t)\n",
    "'''\n",
    "print (\"t: \", t)\n",
    "print (\"hu: \", hu)\n",
    "print (\"lt: \", lt)\n",
    "print (\"co2: \", co2)\n",
    "print (\"hu_r: \", hu_r)\n",
    "print (\"o: \", o)\n",
    "'''\n",
    "#with tf.Session() as ss:\n",
    "    \n",
    "    #with tf.Session():"
   ]
  },
  {
   "cell_type": "code",
   "execution_count": 7,
   "metadata": {},
   "outputs": [
    {
     "name": "stdout",
     "output_type": "stream",
     "text": [
      "Tensor(\"Sigmoid_6:0\", shape=(8143, 5), dtype=float32)\n",
      "Tensor(\"Sigmoid_7:0\", shape=(8143, 2), dtype=float32)\n"
     ]
    }
   ],
   "source": [
    "H0 = 5\n",
    "output_num_nodes = 1\n",
    "\n",
    "classes_num = 2\n",
    "\n",
    "bs = 100\n",
    "\n",
    "x = tf.placeholder('float', [None, 5])\n",
    "y = tf.placeholder('float')\n",
    "\n",
    "def neural_network(data):\n",
    "    hidden_layer0 = {'weights':tf.Variable(tf.random_normal([5, H0]))}\n",
    "    output_layer = {'weights':tf.Variable(tf.random_normal([H0, classes_num]))}\n",
    "    \n",
    "    hidden_layer0_outputs = tf.matmul(data, hidden_layer0['weights'])\n",
    "    hidden_layer0_outputs = tf.nn.sigmoid(hidden_layer0_outputs)\n",
    "    \n",
    "    output_layer_outputs = tf.matmul(hidden_layer0_outputs, output_layer['weights'])\n",
    "    output_layer_outputs = tf.nn.sigmoid(output_layer_outputs)\n",
    "    print (hidden_layer0_outputs)\n",
    "    print (output_layer_outputs)\n",
    "    return output\n",
    "    \n",
    "neural_network(data)"
   ]
  },
  {
   "cell_type": "code",
   "execution_count": null,
   "metadata": {
    "collapsed": true
   },
   "outputs": [],
   "source": []
  }
 ],
 "metadata": {
  "kernelspec": {
   "display_name": "Python 2",
   "language": "python",
   "name": "python2"
  },
  "language_info": {
   "codemirror_mode": {
    "name": "ipython",
    "version": 2
   },
   "file_extension": ".py",
   "mimetype": "text/x-python",
   "name": "python",
   "nbconvert_exporter": "python",
   "pygments_lexer": "ipython2",
   "version": "2.7.12"
  }
 },
 "nbformat": 4,
 "nbformat_minor": 2
}
