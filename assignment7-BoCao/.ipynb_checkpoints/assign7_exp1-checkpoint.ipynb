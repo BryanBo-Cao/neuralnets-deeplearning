{
 "cells": [
  {
   "cell_type": "code",
   "execution_count": 1,
   "metadata": {},
   "outputs": [],
   "source": [
    "\"\"\"\n",
    "Author: Bryan Bo Cao\n",
    "Email: boca7588@colorado.edu or bo.cao-1@colorado.edu\n",
    "Github Repo: https://github.com/BryanBo-Cao/neuralnets-deeplearning\n",
    "Reference:\n",
    "    https://github.com/tylersco/deep-neural-networks-art-images\n",
    "    http://www.scipy-lectures.org/advanced/image_processing/\n",
    "\"\"\"\n",
    "from scipy import misc\n",
    "import scipy\n",
    "import tensorflow as tf\n",
    "import numpy as np\n",
    "import matplotlib.pyplot as plt\n",
    "import os, sys\n",
    "import glob\n",
    "import pandas as pd\n",
    "import csv\n",
    "import math\n",
    "from data.img.ArtDataLoader import ArtData\n",
    "from Plotter import plot_acc_distance\n",
    "from Plotter import plot_acc_cosine"
   ]
  },
  {
   "cell_type": "code",
   "execution_count": 2,
   "metadata": {},
   "outputs": [
    {
     "name": "stdout",
     "output_type": "stream",
     "text": [
      "ArtData Initialized!\n",
      "All images loaded!\n"
     ]
    }
   ],
   "source": [
    "from scipy import misc\n",
    "art_data = ArtData()\n",
    "art_data.load_all_data()\n",
    "#art_data.load_images()\n",
    "#art_data.load_metadata()"
   ]
  },
  {
   "cell_type": "code",
   "execution_count": 3,
   "metadata": {},
   "outputs": [
    {
     "name": "stdout",
     "output_type": "stream",
     "text": [
      "2018-impressionist-16x16.jpg\n",
      "2134-impressionist-16x16.jpg\n",
      "1233-cubist-16x16.jpg\n",
      "1185-cubist-16x16.jpg\n"
     ]
    }
   ],
   "source": [
    "#print(art_data.train_images.keys())\n",
    "print(art_data.alpha_pairs['same'][0][95])\n",
    "print(art_data.beta_pairs['same'][0][95])\n",
    "\n",
    "print(art_data.alpha_pairs['diff'][0][95])\n",
    "print(art_data.beta_pairs['diff'][0][95])"
   ]
  },
  {
   "cell_type": "code",
   "execution_count": 4,
   "metadata": {},
   "outputs": [
    {
     "name": "stdout",
     "output_type": "stream",
     "text": [
      "(16, 16, 3)\n"
     ]
    }
   ],
   "source": [
    "print(art_data.train_images['0001-cubist-16x16.jpg'].shape)"
   ]
  },
  {
   "cell_type": "code",
   "execution_count": 5,
   "metadata": {},
   "outputs": [
    {
     "data": {
      "image/png": "[encoded data removed]",
      "text/plain": [
       "<matplotlib.figure.Figure at 0x7f569a3a5ba8>"
      ]
     },
     "metadata": {},
     "output_type": "display_data"
    },
    {
     "ename": "NameError",
     "evalue": "name 'plot_acc_cosine' is not defined",
     "output_type": "error",
     "traceback": [
      "\u001b[0;31m---------------------------------------------------------------------------\u001b[0m",
      "\u001b[0;31mNameError\u001b[0m                                 Traceback (most recent call last)",
      "\u001b[0;32m<ipython-input-5-b7fd11950dab>\u001b[0m in \u001b[0;36m<module>\u001b[0;34m()\u001b[0m\n\u001b[1;32m      1\u001b[0m \u001b[0mplot_acc_distance\u001b[0m\u001b[0;34m(\u001b[0m\u001b[0mart_data\u001b[0m\u001b[0;34m)\u001b[0m\u001b[0;34m\u001b[0m\u001b[0m\n\u001b[0;32m----> 2\u001b[0;31m \u001b[0mplot_acc_cosine\u001b[0m\u001b[0;34m(\u001b[0m\u001b[0mart_data\u001b[0m\u001b[0;34m)\u001b[0m\u001b[0;34m\u001b[0m\u001b[0m\n\u001b[0m",
      "\u001b[0;31mNameError\u001b[0m: name 'plot_acc_cosine' is not defined"
     ]
    }
   ],
   "source": [
    "plot_acc_distance(art_data)\n",
    "plot_acc_cosine(art_data)"
   ]
  },
  {
   "cell_type": "code",
   "execution_count": null,
   "metadata": {},
   "outputs": [],
   "source": []
  },
  {
   "cell_type": "code",
   "execution_count": null,
   "metadata": {},
   "outputs": [],
   "source": []
  }
 ],
 "metadata": {
  "kernelspec": {
   "display_name": "Python 3",
   "language": "python",
   "name": "python3"
  },
  "language_info": {
   "codemirror_mode": {
    "name": "ipython",
    "version": 3
   },
   "file_extension": ".py",
   "mimetype": "text/x-python",
   "name": "python",
   "nbconvert_exporter": "python",
   "pygments_lexer": "ipython3",
   "version": "3.6.3"
  }
 },
 "nbformat": 4,
 "nbformat_minor": 2
}
