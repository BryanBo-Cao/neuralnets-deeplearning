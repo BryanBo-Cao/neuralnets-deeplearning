{
 "cells": [
  {
   "cell_type": "code",
   "execution_count": null,
   "metadata": {},
   "outputs": [],
   "source": [
    "\"\"\"\n",
    "Author: Bryan Bo Cao\n",
    "Email: boca7588@colorado.edu or bo.cao-1@colorado.edu\n",
    "Github Repo: https://github.com/BryanBo-Cao/neuralnets-deeplearning\n",
    "Reference:\n",
    "    https://github.com/tylersco/deep-neural-networks-art-images\n",
    "    http://www.scipy-lectures.org/advanced/image_processing/\n",
    "\"\"\"\n",
    "from scipy import misc\n",
    "import scipy\n",
    "import tensorflow as tf\n",
    "import numpy as np\n",
    "import matplotlib.pyplot as plt\n",
    "import os, sys\n",
    "import glob\n",
    "import pandas as pd\n",
    "import csv\n",
    "import math\n",
    "from __future__ import division, print_function, absolute_import\n",
    "from data.img.ArtDataLoader import ArtData\n",
    "from Plotter import plot_acc_distance\n",
    "from Plotter import plot_acc_cosine\n",
    "from Plotter import plot_prob_distance_2lists\n",
    "from Plotter import plot_prob_cosine_2lists\n",
    "from Plotter import plot_acc_distance_2lists\n",
    "from Plotter import plot_acc_cosine_2lists\n",
    "from Plotter import plot_prob_distance_4lists\n",
    "from Plotter import plot_prob_cosine_4lists\n",
    "from Plotter import plot_acc_distance_4lists\n",
    "from Plotter import plot_acc_cosine_4lists\n",
    "from MySpearman import get_correlation_distance\n",
    "from MySpearman import get_correlation_cosine\n",
    "from scipy.stats import spearmanr"
   ]
  },
  {
   "cell_type": "code",
   "execution_count": null,
   "metadata": {},
   "outputs": [],
   "source": [
    "from scipy import misc\n",
    "art_data = ArtData()\n",
    "art_data.load_all_data()\n",
    "#art_data.load_images()\n",
    "#art_data.load_metadata()"
   ]
  },
  {
   "cell_type": "code",
   "execution_count": null,
   "metadata": {},
   "outputs": [],
   "source": [
    "#print(art_data.train_images.keys())\n",
    "#Validate\n",
    "print(art_data.alpha_pairs['same'][0][95])\n",
    "print(art_data.beta_pairs['same'][0][95])\n",
    "\n",
    "print(art_data.alpha_pairs['diff'][0][95])\n",
    "print(art_data.beta_pairs['diff'][0][95])"
   ]
  },
  {
   "cell_type": "code",
   "execution_count": null,
   "metadata": {},
   "outputs": [],
   "source": [
    "print(art_data.train_images['0001-cubist-16x16.jpg'].shape)"
   ]
  },
  {
   "cell_type": "code",
   "execution_count": null,
   "metadata": {},
   "outputs": [],
   "source": [
    "#Raw data\n",
    "plot_acc_distance(art_data)\n",
    "plot_acc_cosine(art_data)"
   ]
  },
  {
   "cell_type": "code",
   "execution_count": null,
   "metadata": {},
   "outputs": [],
   "source": [
    "get_correlation_distance(art_data)"
   ]
  },
  {
   "cell_type": "code",
   "execution_count": null,
   "metadata": {},
   "outputs": [],
   "source": [
    "get_correlation_cosine(art_data)"
   ]
  },
  {
   "cell_type": "code",
   "execution_count": null,
   "metadata": {},
   "outputs": [],
   "source": [
    "#start of autoencoder\n",
    "'''\n",
    "Reference:\n",
    "https://github.com/MorvanZhou/tutorials/edit/master/tensorflowTUT/tf21_autoencoder/full_code.py\n",
    "My tutorial website: https://morvanzhou.github.io/tutorials/\n",
    "'''\n",
    "learning_rate = 0.01\n",
    "training_epochs = 100\n",
    "batch_size = 256\n",
    "display_step = 5\n",
    "# Network Parameters\n",
    "n_input = 768 # image data input (img shape: 16*16*3)\n",
    "\n",
    "# tf Graph input (only pictures)\n",
    "X = tf.placeholder(\"float\", [None, n_input])\n",
    "\n",
    "# hidden layer settings\n",
    "n_hidden_1 = 384 # 1st layer num features\n",
    "weights = {\n",
    "    'encoder_h1': tf.Variable(tf.random_normal([n_input, n_hidden_1])),\n",
    "    'decoder_h1': tf.Variable(tf.random_normal([n_hidden_1, n_input])),\n",
    "}\n",
    "biases = {\n",
    "    'encoder_b1': tf.Variable(tf.random_normal([n_hidden_1])),\n",
    "    'decoder_b1': tf.Variable(tf.random_normal([n_input])),\n",
    "}\n",
    "\n",
    "# Building the encoder\n",
    "def encoder(x):\n",
    "    # Encoder Hidden layer with sigmoid activation #1\n",
    "    layer_1 = tf.nn.sigmoid(tf.add(tf.matmul(x, weights['encoder_h1']),\n",
    "                                   biases['encoder_b1']))\n",
    "    return layer_1\n",
    "\n",
    "\n",
    "# Building the decoder\n",
    "def decoder(x):\n",
    "    # Encoder Hidden layer with sigmoid activation #1\n",
    "    layer_1 = tf.nn.sigmoid(tf.add(tf.matmul(x, weights['decoder_h1']),\n",
    "                                   biases['decoder_b1']))\n",
    "    return layer_1"
   ]
  },
  {
   "cell_type": "code",
   "execution_count": null,
   "metadata": {},
   "outputs": [],
   "source": [
    "# Construct model\n",
    "encoder_op = encoder(X)\n",
    "decoder_op = decoder(encoder_op)\n",
    "\n",
    "# Prediction\n",
    "y_pred = decoder_op\n",
    "y_bottleneck = encoder_op\n",
    "\n",
    "# Targets (Labels) are the input data.\n",
    "y_true = X\n",
    "\n",
    "# Define loss and optimizer, minimize the squared error\n",
    "cost = tf.reduce_mean(tf.pow(y_true - y_pred, 2))\n",
    "optimizer = tf.train.AdamOptimizer(learning_rate).minimize(cost)\n",
    "\n",
    "\n",
    "# Launch the graph\n",
    "with tf.Session() as sess:\n",
    "    # tf.initialize_all_variables() no long valid from\n",
    "    # 2017-03-02 if using tensorflow >= 0.12\n",
    "    if int((tf.__version__).split('.')[1]) < 12 and int((tf.__version__).split('.')[0]) < 1:\n",
    "        init = tf.initialize_all_variables()\n",
    "    else:\n",
    "        init = tf.global_variables_initializer()\n",
    "    sess.run(init)\n",
    "    total_batch = int(len(art_data.train_images) / batch_size)\n",
    "    # Training cycle\n",
    "    for epoch in range(training_epochs):\n",
    "        # Loop over all batches\n",
    "        for i in range(total_batch):\n",
    "            batch_xs, batch_ys = art_data.next_batch(batch_size)  # max(x) = 1, min(x) = 0\n",
    "            # Run optimization op (backprop) and cost op (to get loss value)\n",
    "            _, c = sess.run([optimizer, cost], feed_dict={X: batch_xs})\n",
    "        # Display logs per epoch step\n",
    "        if epoch % display_step == 0:\n",
    "            print(\"Epoch:\", '%04d' % (epoch+1),\n",
    "                  \"cost=\", \"{:.9f}\".format(c))\n",
    "\n",
    "    print(\"Optimization Finished!\")\n",
    "    \n",
    "    #alpha\n",
    "    encode_output_alpha_a = sess.run(\n",
    "        y_bottleneck, feed_dict={X: art_data.alpha_set_flatten[0]})\n",
    "    encode_output_alpha_b = sess.run(\n",
    "        y_bottleneck, feed_dict={X: art_data.alpha_set_flatten[1]})\n",
    "    \n",
    "    encode_decode_output_alpha_a = sess.run(\n",
    "        y_pred, feed_dict={X: art_data.alpha_set_flatten[0]})\n",
    "    encode_decode_output_alpha_b = sess.run(\n",
    "        y_pred, feed_dict={X: art_data.alpha_set_flatten[1]})\n",
    "    \n",
    "    #beta\n",
    "    encode_output_beta_a = sess.run(\n",
    "        y_bottleneck, feed_dict={X: art_data.beta_set_flatten[0]})\n",
    "    encode_output_beta_b = sess.run(\n",
    "        y_bottleneck, feed_dict={X: art_data.beta_set_flatten[1]})\n",
    "    \n",
    "    encode_decode_output_beta_a = sess.run(\n",
    "        y_pred, feed_dict={X: art_data.beta_set_flatten[0]})\n",
    "    encode_decode_output_beta_b = sess.run(\n",
    "        y_pred, feed_dict={X: art_data.beta_set_flatten[1]})\n",
    "  \n",
    "encode_outout_alpha_a = encode_output_alpha_a.tolist()\n",
    "encode_output_alpha_b = encode_output_alpha_b.tolist()\n",
    "\n",
    "encode_decode_output_alpha_a = encode_decode_output_alpha_a.tolist()\n",
    "encode_decode_output_alpha_b = encode_decode_output_alpha_b.tolist()\n",
    "\n",
    "encode_output_beta_a = encode_output_beta_a.tolist()\n",
    "encode_output_beta_b = encode_output_beta_b.tolist()\n",
    "\n",
    "encode_decode_output_beta_a = encode_decode_output_beta_a.tolist()\n",
    "encode_decode_output_beta_b = encode_decode_output_beta_b.tolist()"
   ]
  },
  {
   "cell_type": "code",
   "execution_count": null,
   "metadata": {},
   "outputs": [],
   "source": [
    "#alpha"
   ]
  },
  {
   "cell_type": "code",
   "execution_count": null,
   "metadata": {},
   "outputs": [],
   "source": [
    "#alpha, bottleneck output, distance, cosine, prob_human_similarity\n",
    "encode_output_alpha_distance = art_data.get_distance_list_flatten(encode_output_alpha_a, encode_output_alpha_b)\n",
    "encode_output_alpha_cosine = art_data.get_cosine_list_flatten(encode_output_alpha_a, encode_output_alpha_b)\n",
    "plot_acc_distance_2lists(encode_output_alpha_distance, art_data.alpha_accuracy)\n",
    "plot_acc_cosine_2lists(encode_output_alpha_cosine, art_data.alpha_accuracy)"
   ]
  },
  {
   "cell_type": "code",
   "execution_count": null,
   "metadata": {},
   "outputs": [],
   "source": [
    "#alpha, bottleneck output, distance, prob_human_similarity\n",
    "spearmanr(encode_output_alpha_distance, art_data.alpha_accuracy, axis=None)"
   ]
  },
  {
   "cell_type": "code",
   "execution_count": null,
   "metadata": {},
   "outputs": [],
   "source": [
    "#alpha, bottleneck output, cosine, prob_human_similarity\n",
    "spearmanr(encode_output_alpha_cosine, art_data.alpha_accuracy, axis=None)"
   ]
  },
  {
   "cell_type": "code",
   "execution_count": null,
   "metadata": {},
   "outputs": [],
   "source": [
    "#alpha, network output, distance, cosine, prob_human_similarity\n",
    "encode_decode_output_alpha_distance = art_data.get_distance_list_flatten(\n",
    "                    encode_decode_output_alpha_a, encode_decode_output_alpha_b)\n",
    "encode_decode_output_alpha_cosine = art_data.get_cosine_list_flatten(\n",
    "                    encode_decode_output_alpha_a, encode_decode_output_alpha_b)\n",
    "plot_acc_distance_2lists(encode_decode_output_alpha_distance, art_data.alpha_accuracy)\n",
    "plot_acc_cosine_2lists(encode_decode_output_alpha_cosine, art_data.alpha_accuracy)"
   ]
  },
  {
   "cell_type": "code",
   "execution_count": null,
   "metadata": {},
   "outputs": [],
   "source": [
    "#alpha, network output, distance, prob_human_similarity\n",
    "spearmanr(encode_decode_output_alpha_distance, art_data.alpha_accuracy, axis=None)"
   ]
  },
  {
   "cell_type": "code",
   "execution_count": null,
   "metadata": {},
   "outputs": [],
   "source": [
    "#alpha, network output, cosine, prob_human_similarity\n",
    "spearmanr(encode_decode_output_alpha_cosine, art_data.alpha_accuracy, axis=None)"
   ]
  },
  {
   "cell_type": "code",
   "execution_count": null,
   "metadata": {},
   "outputs": [],
   "source": []
  },
  {
   "cell_type": "code",
   "execution_count": null,
   "metadata": {},
   "outputs": [],
   "source": [
    "#beta"
   ]
  },
  {
   "cell_type": "code",
   "execution_count": null,
   "metadata": {},
   "outputs": [],
   "source": [
    "#beta, bottleneck output, distance, cosine, prob_human_similarity\n",
    "encode_output_beta_distance = art_data.get_distance_list_flatten(encode_output_beta_a, encode_output_beta_b)\n",
    "encode_output_beta_cosine = art_data.get_cosine_list_flatten(encode_output_beta_a, encode_output_beta_b)\n",
    "plot_acc_distance_2lists(encode_output_beta_distance, art_data.beta_accuracy)\n",
    "plot_acc_cosine_2lists(encode_output_beta_cosine, art_data.beta_accuracy)"
   ]
  },
  {
   "cell_type": "code",
   "execution_count": null,
   "metadata": {},
   "outputs": [],
   "source": [
    "#beta, bottleneck output, distance, prob_human_similarity\n",
    "spearmanr(encode_output_beta_distance, art_data.beta_accuracy, axis=None)"
   ]
  },
  {
   "cell_type": "code",
   "execution_count": null,
   "metadata": {},
   "outputs": [],
   "source": [
    "#beta, bottleneck output, cosine, prob_human_similarity\n",
    "spearmanr(encode_output_beta_cosine, art_data.beta_accuracy, axis=None)"
   ]
  },
  {
   "cell_type": "code",
   "execution_count": null,
   "metadata": {},
   "outputs": [],
   "source": [
    "#beta, network output, distance, cosine, prob_human_similarity\n",
    "encode_decode_output_beta_distance = art_data.get_distance_list_flatten(\n",
    "                    encode_decode_output_beta_a, encode_decode_output_beta_b)\n",
    "encode_decode_output_beta_cosine = art_data.get_cosine_list_flatten(\n",
    "                    encode_decode_output_beta_a, encode_decode_output_beta_b)\n",
    "plot_acc_distance_2lists(encode_decode_output_beta_distance, art_data.beta_accuracy)\n",
    "plot_acc_cosine_2lists(encode_decode_output_beta_cosine, art_data.beta_accuracy)"
   ]
  },
  {
   "cell_type": "code",
   "execution_count": null,
   "metadata": {},
   "outputs": [],
   "source": [
    "#beta, network output, distance, prob_human_similarity\n",
    "spearmanr(encode_decode_output_beta_distance, art_data.beta_accuracy, axis=None)"
   ]
  },
  {
   "cell_type": "code",
   "execution_count": null,
   "metadata": {},
   "outputs": [],
   "source": [
    "#beta, network output, cosine, prob_human_similarity\n",
    "spearmanr(encode_decode_output_beta_cosine, art_data.beta_accuracy, axis=None)"
   ]
  },
  {
   "cell_type": "code",
   "execution_count": null,
   "metadata": {},
   "outputs": [],
   "source": []
  },
  {
   "cell_type": "code",
   "execution_count": null,
   "metadata": {},
   "outputs": [],
   "source": [
    "#alpha & beta"
   ]
  },
  {
   "cell_type": "code",
   "execution_count": null,
   "metadata": {},
   "outputs": [],
   "source": [
    "#alpha & beta bottleneck output, distance, cosine, prob_human_similarity\n",
    "encode_output_distance = []\n",
    "encode_output_distance.extend(encode_output_alpha_distance)\n",
    "encode_output_distance.extend(encode_output_beta_distance)\n",
    "\n",
    "encode_output_cosine = []\n",
    "encode_output_cosine.extend(encode_output_alpha_cosine)\n",
    "encode_output_cosine.extend(encode_output_beta_cosine)\n",
    "\n",
    "accuracy = []\n",
    "accuracy.extend(art_data.alpha_accuracy)\n",
    "accuracy.extend(art_data.beta_accuracy)\n",
    "\n",
    "plot_acc_distance_4lists(encode_output_alpha_distance, art_data.alpha_accuracy,\n",
    "                            encode_output_beta_distance, art_data.beta_accuracy)\n",
    "plot_acc_cosine_4lists(encode_output_alpha_cosine, art_data.alpha_accuracy,\n",
    "                           encode_output_beta_cosine, art_data.beta_accuracy)"
   ]
  },
  {
   "cell_type": "code",
   "execution_count": null,
   "metadata": {},
   "outputs": [],
   "source": [
    "#alpha & beta, bottlenect output, distance, prob_human_similarity\n",
    "spearmanr(encode_output_distance, accuracy, axis=None)"
   ]
  },
  {
   "cell_type": "code",
   "execution_count": null,
   "metadata": {},
   "outputs": [],
   "source": [
    "#alpha & beta, bottlenect output, cosine, prob_human_similarity\n",
    "spearmanr(encode_output_cosine, accuracy, axis=None)"
   ]
  },
  {
   "cell_type": "code",
   "execution_count": null,
   "metadata": {},
   "outputs": [],
   "source": []
  },
  {
   "cell_type": "code",
   "execution_count": null,
   "metadata": {},
   "outputs": [],
   "source": []
  },
  {
   "cell_type": "code",
   "execution_count": null,
   "metadata": {},
   "outputs": [],
   "source": []
  },
  {
   "cell_type": "code",
   "execution_count": null,
   "metadata": {},
   "outputs": [],
   "source": []
  },
  {
   "cell_type": "code",
   "execution_count": null,
   "metadata": {},
   "outputs": [],
   "source": []
  }
 ],
 "metadata": {
  "kernelspec": {
   "display_name": "Python 3",
   "language": "python",
   "name": "python3"
  },
  "language_info": {
   "codemirror_mode": {
    "name": "ipython",
    "version": 3
   },
   "file_extension": ".py",
   "mimetype": "text/x-python",
   "name": "python",
   "nbconvert_exporter": "python",
   "pygments_lexer": "ipython3",
   "version": "3.6.3"
  }
 },
 "nbformat": 4,
 "nbformat_minor": 2
}
