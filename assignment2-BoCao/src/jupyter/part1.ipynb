{
 "cells": [
  {
   "cell_type": "code",
   "execution_count": 17,
   "metadata": {},
   "outputs": [
    {
     "name": "stdout",
     "output_type": "stream",
     "text": [
      "train_data [[             nan              nan   2.31800000e+01 ...,   7.21250000e+02\n",
      "    4.79298818e-03   1.00000000e+00]\n",
      " [             nan              nan   2.31500000e+01 ...,   7.14000000e+02\n",
      "    4.78344095e-03   1.00000000e+00]\n",
      " [             nan              nan   2.31500000e+01 ...,   7.13500000e+02\n",
      "    4.77946352e-03   1.00000000e+00]\n",
      " ..., \n",
      " [             nan              nan   2.11000000e+01 ...,   7.98500000e+02\n",
      "    5.59563902e-03   1.00000000e+00]\n",
      " [             nan              nan   2.11000000e+01 ...,   8.20333333e+02\n",
      "    5.62144937e-03   1.00000000e+00]\n",
      " [             nan              nan   2.11000000e+01 ...,   8.21000000e+02\n",
      "    5.61206354e-03   1.00000000e+00]]\n",
      "np.shape(train_data):  (8143, 8)\n",
      "t:  [ 23.18  23.15  23.15 ...,  21.1   21.1   21.1 ]\n",
      "hu:  [ 27.272   27.2675  27.245  ...,  36.095   36.26    36.2   ]\n",
      "lt:  [ 426.   429.5  426.  ...,  433.   433.   447. ]\n",
      "co2:  [ 721.25        714.          713.5        ...,  798.5         820.33333333\n",
      "  821.        ]\n",
      "hu_r:  [ 0.00479299  0.00478344  0.00477946 ...,  0.00559564  0.00562145\n",
      "  0.00561206]\n"
     ]
    }
   ],
   "source": [
    "import numpy as np\n",
    "\n",
    "train_data = np.genfromtxt('../data/assign2_train_data.txt', delimiter=',')\n",
    "#print data\n",
    "\n",
    "t = train_data[:,2]\n",
    "hu = train_data[:,3]\n",
    "lt = train_data[:,4]\n",
    "co2 = train_data[:,5]\n",
    "hu_r = train_data[:,6]\n",
    "\n",
    "#o = train_data[:,7]\n",
    "\n",
    "print \"train_data\", train_data\n",
    "print \"np.shape(train_data): \", np.shape(train_data)\n",
    "#print \"np.shape(t): \", np.shape(t)\n",
    "print \"t: \", t\n",
    "print \"hu: \", hu\n",
    "print \"lt: \", lt\n",
    "print \"co2: \", co2\n",
    "print \"hu_r: \", hu_r"
   ]
  },
  {
   "cell_type": "code",
   "execution_count": null,
   "metadata": {},
   "outputs": [],
   "source": []
  },
  {
   "cell_type": "code",
   "execution_count": null,
   "metadata": {
    "collapsed": true
   },
   "outputs": [],
   "source": []
  },
  {
   "cell_type": "code",
   "execution_count": null,
   "metadata": {},
   "outputs": [],
   "source": []
  },
  {
   "cell_type": "code",
   "execution_count": null,
   "metadata": {
    "collapsed": true
   },
   "outputs": [],
   "source": []
  }
 ],
 "metadata": {
  "kernelspec": {
   "display_name": "Python 2",
   "language": "python",
   "name": "python2"
  },
  "language_info": {
   "codemirror_mode": {
    "name": "ipython",
    "version": 2
   },
   "file_extension": ".py",
   "mimetype": "text/x-python",
   "name": "python",
   "nbconvert_exporter": "python",
   "pygments_lexer": "ipython2",
   "version": "2.7.13"
  }
 },
 "nbformat": 4,
 "nbformat_minor": 2
}
