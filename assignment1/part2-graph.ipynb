{
 "cells": [
  {
   "cell_type": "code",
   "execution_count": 1,
   "metadata": {},
   "outputs": [
    {
     "data": {
      "text/plain": [
       "'\\nsolution from part1 is:\\nw1:\\t-2.04424259514\\nw2:\\t3.99686016866\\nb:\\t-0.924290811868\\n'"
      ]
     },
     "execution_count": 1,
     "metadata": {},
     "output_type": "execute_result"
    }
   ],
   "source": [
    "# reference: http://cs229.stanford.edu/notes/cs229-notes1.pdf\n",
    "import numpy as np\n",
    "import matplotlib as ml\n",
    "import matplotlib.pyplot as plt\n",
    "import random\n",
    "import sys\n",
    "\n",
    "data = np.loadtxt('assign1_data.txt')\n",
    "#print data\n",
    "\n",
    "x1 = data[:, 0]\n",
    "#print \"x1:\", x1\n",
    "\n",
    "x2 = data[:, 1]\n",
    "#print \"x2:\", x2\n",
    "\n",
    "y = data[:, 2]\n",
    "#print \"y:\", y\n",
    "\n",
    "z = data[:, 3]\n",
    "#print \"z:\", z\n",
    "\n",
    "'''\n",
    "solution from part1 is:\n",
    "w1:\t-2.04424259514\n",
    "w2:\t3.99686016866\n",
    "b:\t-0.924290811868\n",
    "'''"
   ]
  },
  {
   "cell_type": "code",
   "execution_count": null,
   "metadata": {
    "collapsed": true
   },
   "outputs": [],
   "source": [
    "def plot_error_epoch(errors):\n",
    "    errors_y = np.array(errors)\n",
    "    epochs = []\n",
    "    for i in range(len(errors)):\n",
    "        epochs.append(i)\n",
    "    epochs_x = np.array(epochs)\n",
    "    plt.plot(errors)"
   ]
  },
  {
   "cell_type": "code",
   "execution_count": 2,
   "metadata": {
    "collapsed": true
   },
   "outputs": [],
   "source": [
    "# create method to train and get result with different settings like online, minibatch, batch and learning rate\n",
    "def train_and_get_result(x1, x2, lr, batch_size):\n",
    "    \n",
    "    if batch_size > 75:\n",
    "        batch_size = 75\n",
    "    \n",
    "    w1 = random.random() * 3\n",
    "    w2 = random.random() * 3\n",
    "    b = random.random() * 3\n",
    "    \n",
    "    print \"random initial w1:\\t\", w1\n",
    "    print \"random initial w2:\\t\", w2\n",
    "    print \"random initial b:\\t\", b\n",
    "    \n",
    "    epoch = 0\n",
    "    # training set size : validation set size = 3 : 1\n",
    "    training_set_index = 0\n",
    "    size = len(x1)\n",
    "    validation_set_index = 0\n",
    "    validation_set_index_step = size / 4\n",
    "    pre_validation_error = sys.maxint\n",
    "    curr_validation_error = 0\n",
    "    while pre_validation_error >= curr_validation_error or curr_validation_error <= 0: # early stopping when the validation error is greater than its previous one\n",
    "    #while True:\n",
    "\n",
    "        validation_set_index += validation_set_index_step\n",
    "        validation_set_index %= size\n",
    "\n",
    "        x1_validation = x1[validation_set_index : validation_set_index + validation_set_index_step]\n",
    "        x2_validation = x2[validation_set_index : validation_set_index + validation_set_index_step]\n",
    "        y_validation = y[validation_set_index : validation_set_index + validation_set_index_step]\n",
    "\n",
    "        # training\n",
    "        i = 1\n",
    "        for x1i, x2i, yi in zip(x1, x2, y):\n",
    "            sum_error_w1 = 0\n",
    "            sum_error_w2 = 0\n",
    "            sum_error_b = 0\n",
    "            if x1i not in zip(x1_validation) and x2i not in zip(x2_validation) and yi not in zip(y_validation):\n",
    "                error = yi - (x1i * w1 + x2i * w2 + b)\n",
    "                sum_error_w1 += error * x1i\n",
    "                sum_error_w2 += error * x2i\n",
    "                sum_error_b += error\n",
    "                if i >= batch_size: # only update weights after one batch\n",
    "                    w1 = w1 + lr * sum_error_w1\n",
    "                    w2 = w2 + lr * sum_error_w2\n",
    "                    b = b + lr * sum_error_b\n",
    "                    sum_error_w1 = 0\n",
    "                    sum_error_w2 = 0\n",
    "                    sum_error_b = 0\n",
    "                    i = 1\n",
    "                    continue\n",
    "                i += 1\n",
    "\n",
    "        if epoch >= 4 and epoch % 4 == 0:\n",
    "            pre_validation_error = curr_validation_error\n",
    "            if epoch % 100 == 0: # print only every 20 epochs\n",
    "                print \"epoch:\\t\", epoch, \"\\t curr_validation_error:\\t\", curr_validation_error\n",
    "            curr_validation_error = 0\n",
    "\n",
    "        # validation\n",
    "        for x1i, x2i, yi in zip(x1_validation, x2_validation, y_validation):\n",
    "            curr_validation_error += abs(yi - (x1i * w1 + x2i * w2 + b))\n",
    "        plot_error_epoch(errors)\n",
    "        epoch += 1\n",
    "        \n",
    "\n",
    "    print \"Result: pre_validation_error:\\t\", pre_validation_error, \"curr_validation_error:\\t\", curr_validation_error\n",
    "    print \"Result: w1:\\t\", w1, \"\\tw2:\\t\", w2, \"\\tb:\\t\", b, \"\\tnum of epoch:\\t\", epoch"
   ]
  },
  {
   "cell_type": "code",
   "execution_count": 3,
   "metadata": {},
   "outputs": [
    {
     "name": "stdout",
     "output_type": "stream",
     "text": [
      "random initial w1:\t2.47002450494\n",
      "random initial w2:\t0.194537175507\n",
      "random initial b:\t0.246991771455\n",
      "epoch:\t100 \t curr_validation_error:\t126.145983464\n",
      "epoch:\t200 \t curr_validation_error:\t115.280998414\n",
      "epoch:\t300 \t curr_validation_error:\t108.924712425\n",
      "epoch:\t400 \t curr_validation_error:\t103.547380737\n",
      "epoch:\t500 \t curr_validation_error:\t98.5168720864\n",
      "epoch:\t600 \t curr_validation_error:\t93.7446345071\n",
      "epoch:\t700 \t curr_validation_error:\t89.2123148917\n",
      "epoch:\t800 \t curr_validation_error:\t84.906096312\n",
      "epoch:\t900 \t curr_validation_error:\t80.8273954047\n",
      "epoch:\t1000 \t curr_validation_error:\t76.9700299433\n",
      "epoch:\t1100 \t curr_validation_error:\t73.3160033382\n",
      "epoch:\t1200 \t curr_validation_error:\t69.8435727895\n",
      "epoch:\t1300 \t curr_validation_error:\t66.5509507784\n",
      "epoch:\t1400 \t curr_validation_error:\t63.4296556621\n",
      "epoch:\t1500 \t curr_validation_error:\t60.4748539134\n",
      "epoch:\t1600 \t curr_validation_error:\t57.6852030288\n",
      "epoch:\t1700 \t curr_validation_error:\t55.0402867966\n",
      "epoch:\t1800 \t curr_validation_error:\t52.5334194726\n",
      "epoch:\t1900 \t curr_validation_error:\t50.1610347779\n",
      "epoch:\t2000 \t curr_validation_error:\t47.9186243248\n",
      "epoch:\t2100 \t curr_validation_error:\t45.7902548802\n",
      "epoch:\t2200 \t curr_validation_error:\t43.7675879055\n",
      "epoch:\t2300 \t curr_validation_error:\t41.8453709781\n",
      "epoch:\t2400 \t curr_validation_error:\t40.0217288014\n",
      "epoch:\t2500 \t curr_validation_error:\t38.3220158098\n",
      "epoch:\t2600 \t curr_validation_error:\t36.7158705366\n",
      "epoch:\t2700 \t curr_validation_error:\t35.1895430406\n",
      "epoch:\t2800 \t curr_validation_error:\t33.7542362336\n",
      "epoch:\t2900 \t curr_validation_error:\t32.4341835776\n",
      "epoch:\t3000 \t curr_validation_error:\t31.1873720642\n",
      "epoch:\t3100 \t curr_validation_error:\t30.0025179768\n",
      "epoch:\t3200 \t curr_validation_error:\t28.8845449226\n",
      "epoch:\t3300 \t curr_validation_error:\t27.839895396\n",
      "epoch:\t3400 \t curr_validation_error:\t26.8489247077\n",
      "epoch:\t3500 \t curr_validation_error:\t25.9369016319\n",
      "epoch:\t3600 \t curr_validation_error:\t25.086397337\n",
      "epoch:\t3700 \t curr_validation_error:\t24.2857064805\n",
      "epoch:\t3800 \t curr_validation_error:\t23.5379771384\n",
      "epoch:\t3900 \t curr_validation_error:\t22.8704605659\n",
      "epoch:\t4000 \t curr_validation_error:\t22.2370461199\n",
      "epoch:\t4100 \t curr_validation_error:\t21.6636779941\n",
      "epoch:\t4200 \t curr_validation_error:\t21.1461629039\n",
      "epoch:\t4300 \t curr_validation_error:\t20.6624615834\n",
      "epoch:\t4400 \t curr_validation_error:\t20.2588433421\n",
      "epoch:\t4500 \t curr_validation_error:\t19.897369904\n",
      "epoch:\t4600 \t curr_validation_error:\t19.5683792862\n",
      "epoch:\t4700 \t curr_validation_error:\t19.2982513179\n",
      "epoch:\t4800 \t curr_validation_error:\t19.0646472938\n",
      "epoch:\t4900 \t curr_validation_error:\t18.8435082162\n",
      "epoch:\t5000 \t curr_validation_error:\t18.6333293499\n",
      "epoch:\t5100 \t curr_validation_error:\t18.4335670658\n",
      "epoch:\t5200 \t curr_validation_error:\t18.2534143663\n",
      "epoch:\t5300 \t curr_validation_error:\t18.0944752056\n",
      "epoch:\t5400 \t curr_validation_error:\t17.9434140745\n",
      "epoch:\t5500 \t curr_validation_error:\t17.7998401938\n",
      "epoch:\t5600 \t curr_validation_error:\t17.6634123686\n",
      "epoch:\t5700 \t curr_validation_error:\t17.5415282282\n",
      "epoch:\t5800 \t curr_validation_error:\t17.4256772122\n",
      "epoch:\t5900 \t curr_validation_error:\t17.3155604209\n",
      "epoch:\t6000 \t curr_validation_error:\t17.2108937746\n",
      "epoch:\t6100 \t curr_validation_error:\t17.111407279\n",
      "epoch:\t6200 \t curr_validation_error:\t17.0168443256\n",
      "epoch:\t6300 \t curr_validation_error:\t16.9276128248\n",
      "epoch:\t6400 \t curr_validation_error:\t16.8512449799\n",
      "epoch:\t6500 \t curr_validation_error:\t16.7859577297\n",
      "epoch:\t6600 \t curr_validation_error:\t16.7239098676\n",
      "epoch:\t6700 \t curr_validation_error:\t16.6649405596\n",
      "epoch:\t6800 \t curr_validation_error:\t16.6196113423\n",
      "epoch:\t6900 \t curr_validation_error:\t16.577546058\n",
      "epoch:\t7000 \t curr_validation_error:\t16.5375685297\n",
      "epoch:\t7100 \t curr_validation_error:\t16.5020505843\n",
      "epoch:\t7200 \t curr_validation_error:\t16.4712100577\n",
      "epoch:\t7300 \t curr_validation_error:\t16.4481323781\n",
      "epoch:\t7400 \t curr_validation_error:\t16.4309570819\n",
      "epoch:\t7500 \t curr_validation_error:\t16.4146415645\n",
      "epoch:\t7600 \t curr_validation_error:\t16.3991428017\n",
      "epoch:\t7700 \t curr_validation_error:\t16.3844199219\n",
      "epoch:\t7800 \t curr_validation_error:\t16.370434098\n",
      "epoch:\t7900 \t curr_validation_error:\t16.3586675818\n",
      "epoch:\t8000 \t curr_validation_error:\t16.348044255\n",
      "epoch:\t8100 \t curr_validation_error:\t16.3379561893\n",
      "epoch:\t8200 \t curr_validation_error:\t16.3289076041\n",
      "epoch:\t8300 \t curr_validation_error:\t16.3216604853\n",
      "epoch:\t8400 \t curr_validation_error:\t16.3147830266\n",
      "epoch:\t8500 \t curr_validation_error:\t16.3082564274\n",
      "epoch:\t8600 \t curr_validation_error:\t16.3020628411\n",
      "epoch:\t8700 \t curr_validation_error:\t16.2961853264\n",
      "epoch:\t8800 \t curr_validation_error:\t16.2906078019\n",
      "epoch:\t8900 \t curr_validation_error:\t16.2853150021\n",
      "epoch:\t9000 \t curr_validation_error:\t16.2802924364\n",
      "epoch:\t9100 \t curr_validation_error:\t16.2755263499\n",
      "epoch:\t9200 \t curr_validation_error:\t16.2710036859\n",
      "epoch:\t9300 \t curr_validation_error:\t16.2667120505\n",
      "epoch:\t9400 \t curr_validation_error:\t16.2626396793\n",
      "epoch:\t9500 \t curr_validation_error:\t16.2587754055\n",
      "epoch:\t9600 \t curr_validation_error:\t16.2551086293\n",
      "epoch:\t9700 \t curr_validation_error:\t16.2516292893\n",
      "epoch:\t9800 \t curr_validation_error:\t16.2483278354\n",
      "epoch:\t9900 \t curr_validation_error:\t16.2451952028\n",
      "epoch:\t10000 \t curr_validation_error:\t16.2422227871\n",
      "epoch:\t10100 \t curr_validation_error:\t16.2394024215\n",
      "epoch:\t10200 \t curr_validation_error:\t16.2367263542\n",
      "epoch:\t10300 \t curr_validation_error:\t16.2341872274\n",
      "epoch:\t10400 \t curr_validation_error:\t16.2317780576\n",
      "epoch:\t10500 \t curr_validation_error:\t16.2294922161\n",
      "epoch:\t10600 \t curr_validation_error:\t16.2273234115\n",
      "epoch:\t10700 \t curr_validation_error:\t16.2252656726\n",
      "epoch:\t10800 \t curr_validation_error:\t16.2233133316\n",
      "epoch:\t10900 \t curr_validation_error:\t16.221949547\n",
      "epoch:\t11000 \t curr_validation_error:\t16.2210348159\n",
      "epoch:\t11100 \t curr_validation_error:\t16.2201676413\n",
      "epoch:\t11200 \t curr_validation_error:\t16.219345566\n",
      "epoch:\t11300 \t curr_validation_error:\t16.2185662589\n",
      "epoch:\t11400 \t curr_validation_error:\t16.2178275086\n",
      "epoch:\t11500 \t curr_validation_error:\t16.2171272177\n",
      "epoch:\t11600 \t curr_validation_error:\t16.2164633967\n",
      "epoch:\t11700 \t curr_validation_error:\t16.2158341584\n",
      "epoch:\t11800 \t curr_validation_error:\t16.2152377128\n",
      "epoch:\t11900 \t curr_validation_error:\t16.2146723621\n",
      "epoch:\t12000 \t curr_validation_error:\t16.2141364957\n",
      "epoch:\t12100 \t curr_validation_error:\t16.2136285862\n",
      "epoch:\t12200 \t curr_validation_error:\t16.213147185\n",
      "epoch:\t12300 \t curr_validation_error:\t16.2126909177\n",
      "Result: pre_validation_error:\t16.2124804518 curr_validation_error:\t16.2124867384\n",
      "Result: w1:\t-2.03841522224 \tw2:\t3.98958608502 \tb:\t-0.9236552766 \tnum of epoch:\t12352\n"
     ]
    }
   ],
   "source": [
    "# online\n",
    "# learning rate lr = 0.0001\n",
    "train_and_get_result(x1, x2, lr = 0.0001, batch_size = 1)"
   ]
  },
  {
   "cell_type": "code",
   "execution_count": 4,
   "metadata": {
    "scrolled": true
   },
   "outputs": [
    {
     "name": "stdout",
     "output_type": "stream",
     "text": [
      "random initial w1:\t0.557806752769\n",
      "random initial w2:\t1.65728483379\n",
      "random initial b:\t0.207604068201\n",
      "epoch:\t100 \t curr_validation_error:\t60.4661766182\n",
      "epoch:\t200 \t curr_validation_error:\t47.892565802\n",
      "epoch:\t300 \t curr_validation_error:\t38.2736115594\n",
      "epoch:\t400 \t curr_validation_error:\t31.1085819436\n",
      "epoch:\t500 \t curr_validation_error:\t25.9545475999\n",
      "epoch:\t600 \t curr_validation_error:\t22.3471964757\n",
      "epoch:\t700 \t curr_validation_error:\t19.9612892249\n",
      "epoch:\t800 \t curr_validation_error:\t18.6708291651\n",
      "epoch:\t900 \t curr_validation_error:\t17.8161408985\n",
      "epoch:\t1000 \t curr_validation_error:\t17.2305982583\n",
      "epoch:\t1100 \t curr_validation_error:\t16.7863911484\n",
      "epoch:\t1200 \t curr_validation_error:\t16.5390631174\n",
      "epoch:\t1300 \t curr_validation_error:\t16.4057024986\n",
      "epoch:\t1400 \t curr_validation_error:\t16.3378063773\n",
      "epoch:\t1500 \t curr_validation_error:\t16.2967560787\n",
      "epoch:\t1600 \t curr_validation_error:\t16.2714658805\n",
      "epoch:\t1700 \t curr_validation_error:\t16.2520678903\n",
      "epoch:\t1800 \t curr_validation_error:\t16.2371948687\n",
      "epoch:\t1900 \t curr_validation_error:\t16.2257957462\n",
      "epoch:\t2000 \t curr_validation_error:\t16.2197244428\n",
      "epoch:\t2100 \t curr_validation_error:\t16.2164462301\n",
      "epoch:\t2200 \t curr_validation_error:\t16.2139554505\n",
      "Result: pre_validation_error:\t16.2126142537 curr_validation_error:\t16.212682888\n",
      "Result: w1:\t-2.03941406158 \tw2:\t3.98872533842 \tb:\t-0.922652954971 \tnum of epoch:\t2272\n"
     ]
    }
   ],
   "source": [
    "# online\n",
    "# learning rate lr = 0.0005\n",
    "train_and_get_result(x1, x2, lr = 0.0005, batch_size = 1)"
   ]
  },
  {
   "cell_type": "code",
   "execution_count": 5,
   "metadata": {
    "scrolled": true
   },
   "outputs": [
    {
     "name": "stdout",
     "output_type": "stream",
     "text": [
      "random initial w1:\t0.850467240296\n",
      "random initial w2:\t0.379147521556\n",
      "random initial b:\t1.46377284285\n",
      "epoch:\t100 \t curr_validation_error:\t66.3151425854\n",
      "epoch:\t200 \t curr_validation_error:\t41.6970846253\n",
      "epoch:\t300 \t curr_validation_error:\t28.0283996499\n",
      "epoch:\t400 \t curr_validation_error:\t20.8585794981\n",
      "epoch:\t500 \t curr_validation_error:\t18.1498200631\n",
      "epoch:\t600 \t curr_validation_error:\t16.9757912774\n",
      "epoch:\t700 \t curr_validation_error:\t16.4261816185\n",
      "epoch:\t800 \t curr_validation_error:\t16.2756839236\n",
      "epoch:\t900 \t curr_validation_error:\t16.2312347415\n",
      "epoch:\t1000 \t curr_validation_error:\t16.2148875034\n",
      "epoch:\t1100 \t curr_validation_error:\t16.2114579302\n",
      "epoch:\t1200 \t curr_validation_error:\t16.2097440809\n",
      "Result: pre_validation_error:\t16.2097440809 curr_validation_error:\t16.2099796297\n",
      "Result: w1:\t-2.04241080687 \tw2:\t3.98630199419 \tb:\t-0.919892979909 \tnum of epoch:\t1204\n"
     ]
    }
   ],
   "source": [
    "# online\n",
    "# learning rate lr = 0.001\n",
    "train_and_get_result(x1, x2, lr = 0.001, batch_size = 1)"
   ]
  },
  {
   "cell_type": "code",
   "execution_count": 6,
   "metadata": {},
   "outputs": [
    {
     "name": "stdout",
     "output_type": "stream",
     "text": [
      "random initial w1:\t0.829831210856\n",
      "random initial w2:\t1.90464819925\n",
      "random initial b:\t2.84259493978\n",
      "epoch:\t100 \t curr_validation_error:\t17.6146627327\n",
      "epoch:\t200 \t curr_validation_error:\t16.22914788\n",
      "Result: pre_validation_error:\t16.2278047701 curr_validation_error:\t16.2293951512\n",
      "Result: w1:\t-2.04257641852 \tw2:\t3.98465541592 \tb:\t-0.917493466752 \tnum of epoch:\t224\n"
     ]
    }
   ],
   "source": [
    "# online\n",
    "# learning rate lr = 0.005\n",
    "train_and_get_result(x1, x2, lr = 0.005, batch_size = 1)"
   ]
  },
  {
   "cell_type": "code",
   "execution_count": null,
   "metadata": {},
   "outputs": [
    {
     "name": "stdout",
     "output_type": "stream",
     "text": [
      "random initial w1:\t1.68052585359\n",
      "random initial w2:\t2.20438220662\n",
      "random initial b:\t2.2201375163\n",
      "epoch:\t100 \t curr_validation_error:\t16.2663193191\n",
      "Result: pre_validation_error:\t16.2640379635 curr_validation_error:\t16.2659961166\n",
      "Result: w1:\t-2.03665821294 \tw2:\t3.98739974683 \tb:\t-0.918959667091 \tnum of epoch:\t108\n"
     ]
    }
   ],
   "source": [
    "# online\n",
    "# learning rate lr = 0.01\n",
    "train_and_get_result(x1, x2, lr = 0.01, batch_size = 1)"
   ]
  },
  {
   "cell_type": "code",
   "execution_count": null,
   "metadata": {
    "scrolled": true
   },
   "outputs": [
    {
     "name": "stdout",
     "output_type": "stream",
     "text": [
      "random initial w1:\t0.935800006705\n",
      "random initial w2:\t0.762838865253\n",
      "random initial b:\t2.70462440369\n",
      "epoch:\t100 \t curr_validation_error:\t281.401378624\n",
      "epoch:\t200 \t curr_validation_error:\t232.984358616\n",
      "epoch:\t300 \t curr_validation_error:\t194.987043556\n",
      "epoch:\t400 \t curr_validation_error:\t164.372736828\n",
      "epoch:\t500 \t curr_validation_error:\t141.996682255\n",
      "epoch:\t600 \t curr_validation_error:\t125.543455704\n",
      "epoch:\t700 \t curr_validation_error:\t114.472527585\n",
      "epoch:\t800 \t curr_validation_error:\t106.942904348\n",
      "epoch:\t900 \t curr_validation_error:\t102.229628594\n",
      "epoch:\t1000 \t curr_validation_error:\t98.9465819837\n",
      "epoch:\t1100 \t curr_validation_error:\t96.5610068305\n",
      "epoch:\t1200 \t curr_validation_error:\t94.9869306765\n",
      "epoch:\t1300 \t curr_validation_error:\t93.655436972\n",
      "epoch:\t1400 \t curr_validation_error:\t92.4442440421\n",
      "epoch:\t1500 \t curr_validation_error:\t91.4201248048\n",
      "epoch:\t1600 \t curr_validation_error:\t90.4305787227\n",
      "epoch:\t1700 \t curr_validation_error:\t89.5674419736\n",
      "epoch:\t1800 \t curr_validation_error:\t88.7583910303\n",
      "epoch:\t1900 \t curr_validation_error:\t87.9642585183\n",
      "epoch:\t2000 \t curr_validation_error:\t87.202202121\n",
      "epoch:\t2100 \t curr_validation_error:\t86.4541329653\n",
      "epoch:\t2200 \t curr_validation_error:\t85.69966452\n",
      "epoch:\t2300 \t curr_validation_error:\t84.9371579687\n",
      "epoch:\t2400 \t curr_validation_error:\t84.1694264291\n",
      "epoch:\t2500 \t curr_validation_error:\t83.398775697\n",
      "epoch:\t2600 \t curr_validation_error:\t82.6348723018\n",
      "epoch:\t2700 \t curr_validation_error:\t81.8876652303\n",
      "epoch:\t2800 \t curr_validation_error:\t81.1388442856\n",
      "epoch:\t2900 \t curr_validation_error:\t80.3900138241\n",
      "epoch:\t3000 \t curr_validation_error:\t79.6424836832\n",
      "epoch:\t3100 \t curr_validation_error:\t78.8973209533\n",
      "epoch:\t3200 \t curr_validation_error:\t78.155392671\n",
      "epoch:\t3300 \t curr_validation_error:\t77.4174010261\n",
      "epoch:\t3400 \t curr_validation_error:\t76.6839123931\n",
      "epoch:\t3500 \t curr_validation_error:\t75.9607974163\n",
      "epoch:\t3600 \t curr_validation_error:\t75.2428125553\n",
      "epoch:\t3700 \t curr_validation_error:\t74.5301593261\n",
      "epoch:\t3800 \t curr_validation_error:\t73.8231037863\n",
      "epoch:\t3900 \t curr_validation_error:\t73.1218533324\n",
      "epoch:\t4000 \t curr_validation_error:\t72.4265671063\n",
      "epoch:\t4100 \t curr_validation_error:\t71.737364575\n",
      "epoch:\t4200 \t curr_validation_error:\t71.0543326052\n",
      "epoch:\t4300 \t curr_validation_error:\t70.3775312958\n",
      "epoch:\t4400 \t curr_validation_error:\t69.7069987878\n",
      "epoch:\t4500 \t curr_validation_error:\t69.0442085932\n",
      "epoch:\t4600 \t curr_validation_error:\t68.3903840693\n",
      "epoch:\t4700 \t curr_validation_error:\t67.7427729799\n",
      "epoch:\t4800 \t curr_validation_error:\t67.1013654441\n",
      "epoch:\t4900 \t curr_validation_error:\t66.4661425188\n",
      "epoch:\t5000 \t curr_validation_error:\t65.8370778963\n",
      "epoch:\t5100 \t curr_validation_error:\t65.2141393025\n",
      "epoch:\t5200 \t curr_validation_error:\t64.5972896494\n",
      "epoch:\t5300 \t curr_validation_error:\t63.9864879837\n",
      "epoch:\t5400 \t curr_validation_error:\t63.3816902689\n",
      "epoch:\t5500 \t curr_validation_error:\t62.7828500289\n",
      "epoch:\t5600 \t curr_validation_error:\t62.1899188771\n",
      "epoch:\t5700 \t curr_validation_error:\t61.6028469528\n",
      "epoch:\t5800 \t curr_validation_error:\t61.0215832793\n",
      "epoch:\t5900 \t curr_validation_error:\t60.4460760584\n",
      "epoch:\t6000 \t curr_validation_error:\t59.8762729123\n",
      "epoch:\t6100 \t curr_validation_error:\t59.3121210821\n",
      "epoch:\t6200 \t curr_validation_error:\t58.7535675908\n",
      "epoch:\t6300 \t curr_validation_error:\t58.2005593759\n",
      "epoch:\t6400 \t curr_validation_error:\t57.653043399\n",
      "epoch:\t6500 \t curr_validation_error:\t57.110966734\n",
      "epoch:\t6600 \t curr_validation_error:\t56.5742766401\n",
      "epoch:\t6700 \t curr_validation_error:\t56.0429206201\n",
      "epoch:\t6800 \t curr_validation_error:\t55.5168464682\n",
      "epoch:\t6900 \t curr_validation_error:\t54.996002308\n",
      "epoch:\t7000 \t curr_validation_error:\t54.4803366234\n",
      "epoch:\t7100 \t curr_validation_error:\t53.9697982829\n",
      "epoch:\t7200 \t curr_validation_error:\t53.464336559\n",
      "epoch:\t7300 \t curr_validation_error:\t52.9639011429\n",
      "epoch:\t7400 \t curr_validation_error:\t52.4693384718\n",
      "epoch:\t7500 \t curr_validation_error:\t51.9809410749\n",
      "epoch:\t7600 \t curr_validation_error:\t51.4973954872\n",
      "epoch:\t7700 \t curr_validation_error:\t51.0186534419\n",
      "epoch:\t7800 \t curr_validation_error:\t50.5446671256\n",
      "epoch:\t7900 \t curr_validation_error:\t50.0811872557\n",
      "epoch:\t8000 \t curr_validation_error:\t49.6289079882\n",
      "epoch:\t8100 \t curr_validation_error:\t49.1811192562\n",
      "epoch:\t8200 \t curr_validation_error:\t48.7377763132\n",
      "epoch:\t8300 \t curr_validation_error:\t48.2988348496\n",
      "epoch:\t8400 \t curr_validation_error:\t47.8642509897\n",
      "epoch:\t8500 \t curr_validation_error:\t47.4339812893\n",
      "epoch:\t8600 \t curr_validation_error:\t47.0079827329\n",
      "epoch:\t8700 \t curr_validation_error:\t46.5862127301\n",
      "epoch:\t8800 \t curr_validation_error:\t46.1738805971\n",
      "epoch:\t8900 \t curr_validation_error:\t45.7673164182\n",
      "epoch:\t9000 \t curr_validation_error:\t45.3647759848\n",
      "epoch:\t9100 \t curr_validation_error:\t44.9662192505\n",
      "epoch:\t9200 \t curr_validation_error:\t44.5716065669\n",
      "epoch:\t9300 \t curr_validation_error:\t44.1808986801\n",
      "epoch:\t9400 \t curr_validation_error:\t43.7940567272\n",
      "epoch:\t9500 \t curr_validation_error:\t43.4110422321\n",
      "epoch:\t9600 \t curr_validation_error:\t43.0318171026\n",
      "epoch:\t9700 \t curr_validation_error:\t42.6563436263\n",
      "epoch:\t9800 \t curr_validation_error:\t42.2845844671\n",
      "epoch:\t9900 \t curr_validation_error:\t41.9165026614\n",
      "epoch:\t10000 \t curr_validation_error:\t41.5520616147\n",
      "epoch:\t10100 \t curr_validation_error:\t41.1912250977\n",
      "epoch:\t10200 \t curr_validation_error:\t40.8339572431\n",
      "epoch:\t10300 \t curr_validation_error:\t40.4802225417\n",
      "epoch:\t10400 \t curr_validation_error:\t40.1299858388\n",
      "epoch:\t10500 \t curr_validation_error:\t39.7832123312\n",
      "epoch:\t10600 \t curr_validation_error:\t39.4398675631\n",
      "epoch:\t10700 \t curr_validation_error:\t39.099917423\n",
      "epoch:\t10800 \t curr_validation_error:\t38.7633281402\n",
      "epoch:\t10900 \t curr_validation_error:\t38.4300662812\n",
      "epoch:\t11000 \t curr_validation_error:\t38.1000987469\n",
      "epoch:\t11100 \t curr_validation_error:\t37.7733927685\n",
      "epoch:\t11200 \t curr_validation_error:\t37.4499159047\n",
      "epoch:\t11300 \t curr_validation_error:\t37.1296360385\n",
      "epoch:\t11400 \t curr_validation_error:\t36.8168759646\n",
      "epoch:\t11500 \t curr_validation_error:\t36.5131706693\n",
      "epoch:\t11600 \t curr_validation_error:\t36.2124532197\n",
      "epoch:\t11700 \t curr_validation_error:\t35.9146939988\n",
      "epoch:\t11800 \t curr_validation_error:\t35.620492528\n",
      "epoch:\t11900 \t curr_validation_error:\t35.3295057327\n",
      "epoch:\t12000 \t curr_validation_error:\t35.0413913618\n",
      "epoch:\t12100 \t curr_validation_error:\t34.7570528531\n",
      "epoch:\t12200 \t curr_validation_error:\t34.4786229474\n",
      "epoch:\t12300 \t curr_validation_error:\t34.2029377425\n",
      "epoch:\t12400 \t curr_validation_error:\t33.9299699914\n",
      "epoch:\t12500 \t curr_validation_error:\t33.6596927193\n",
      "epoch:\t12600 \t curr_validation_error:\t33.3920792202\n",
      "epoch:\t12700 \t curr_validation_error:\t33.1275302126\n",
      "epoch:\t12800 \t curr_validation_error:\t32.8694699017\n",
      "epoch:\t12900 \t curr_validation_error:\t32.6146759684\n",
      "epoch:\t13000 \t curr_validation_error:\t32.3661499171\n",
      "epoch:\t13100 \t curr_validation_error:\t32.1200778568\n",
      "epoch:\t13200 \t curr_validation_error:\t31.8764353969\n",
      "epoch:\t13300 \t curr_validation_error:\t31.6351983906\n",
      "epoch:\t13400 \t curr_validation_error:\t31.4009474243\n",
      "epoch:\t13500 \t curr_validation_error:\t31.1703543697\n",
      "epoch:\t13600 \t curr_validation_error:\t30.942037798\n",
      "epoch:\t13700 \t curr_validation_error:\t30.7159750862\n",
      "epoch:\t13800 \t curr_validation_error:\t30.4921438371\n",
      "epoch:\t13900 \t curr_validation_error:\t30.2705218771\n",
      "epoch:\t14000 \t curr_validation_error:\t30.051087254\n",
      "epoch:\t14100 \t curr_validation_error:\t29.8368426304\n",
      "epoch:\t14200 \t curr_validation_error:\t29.6248148446\n",
      "epoch:\t14300 \t curr_validation_error:\t29.4188026196\n",
      "epoch:\t14400 \t curr_validation_error:\t29.2155479697\n",
      "epoch:\t14500 \t curr_validation_error:\t29.0142981137\n",
      "epoch:\t14600 \t curr_validation_error:\t28.8150331414\n",
      "epoch:\t14700 \t curr_validation_error:\t28.6177333414\n",
      "epoch:\t14800 \t curr_validation_error:\t28.4223791991\n",
      "epoch:\t14900 \t curr_validation_error:\t28.2289513945\n",
      "epoch:\t15000 \t curr_validation_error:\t28.0374308005\n",
      "epoch:\t15100 \t curr_validation_error:\t27.8477984807\n",
      "epoch:\t15200 \t curr_validation_error:\t27.6600356881\n",
      "epoch:\t15300 \t curr_validation_error:\t27.4741238622\n",
      "epoch:\t15400 \t curr_validation_error:\t27.2900446281\n",
      "epoch:\t15500 \t curr_validation_error:\t27.107779794\n",
      "epoch:\t15600 \t curr_validation_error:\t26.9273113499\n",
      "epoch:\t15700 \t curr_validation_error:\t26.7486214652\n",
      "epoch:\t15800 \t curr_validation_error:\t26.5716924873\n",
      "epoch:\t15900 \t curr_validation_error:\t26.3965069397\n",
      "epoch:\t16000 \t curr_validation_error:\t26.2230475202\n",
      "epoch:\t16100 \t curr_validation_error:\t26.0512970993\n",
      "epoch:\t16200 \t curr_validation_error:\t25.8812387183\n",
      "epoch:\t16300 \t curr_validation_error:\t25.7128555876\n",
      "epoch:\t16400 \t curr_validation_error:\t25.5461310853\n",
      "epoch:\t16500 \t curr_validation_error:\t25.381048755\n",
      "epoch:\t16600 \t curr_validation_error:\t25.2175923046\n",
      "epoch:\t16700 \t curr_validation_error:\t25.0557456043\n",
      "epoch:\t16800 \t curr_validation_error:\t24.8954926855\n",
      "epoch:\t16900 \t curr_validation_error:\t24.7368177386\n",
      "epoch:\t17000 \t curr_validation_error:\t24.5797051116\n",
      "epoch:\t17100 \t curr_validation_error:\t24.4249354971\n",
      "epoch:\t17200 \t curr_validation_error:\t24.2753507737\n",
      "epoch:\t17300 \t curr_validation_error:\t24.1272355916\n",
      "epoch:\t17400 \t curr_validation_error:\t23.981679447\n",
      "epoch:\t17500 \t curr_validation_error:\t23.8384246163\n",
      "epoch:\t17600 \t curr_validation_error:\t23.6965808304\n",
      "epoch:\t17700 \t curr_validation_error:\t23.5561340899\n",
      "epoch:\t17800 \t curr_validation_error:\t23.4170705351\n",
      "epoch:\t17900 \t curr_validation_error:\t23.2793764443\n",
      "epoch:\t18000 \t curr_validation_error:\t23.143038233\n",
      "epoch:\t18100 \t curr_validation_error:\t23.0080424518\n",
      "epoch:\t18200 \t curr_validation_error:\t22.8743757856\n",
      "epoch:\t18300 \t curr_validation_error:\t22.742025052\n",
      "epoch:\t18400 \t curr_validation_error:\t22.6109772002\n",
      "epoch:\t18500 \t curr_validation_error:\t22.4812193093\n",
      "epoch:\t18600 \t curr_validation_error:\t22.3527385875\n",
      "epoch:\t18700 \t curr_validation_error:\t22.2255223701\n",
      "epoch:\t18800 \t curr_validation_error:\t22.1006875563\n",
      "epoch:\t18900 \t curr_validation_error:\t21.9801214362\n",
      "epoch:\t19000 \t curr_validation_error:\t21.860747292\n",
      "epoch:\t19100 \t curr_validation_error:\t21.7435373669\n",
      "epoch:\t19200 \t curr_validation_error:\t21.6288990249\n",
      "epoch:\t19300 \t curr_validation_error:\t21.5190521056\n",
      "epoch:\t19400 \t curr_validation_error:\t21.4119750825\n",
      "epoch:\t19500 \t curr_validation_error:\t21.3094227577\n",
      "epoch:\t19600 \t curr_validation_error:\t21.2120547986\n",
      "epoch:\t19700 \t curr_validation_error:\t21.1177582828\n",
      "epoch:\t19800 \t curr_validation_error:\t21.0249649041\n",
      "epoch:\t19900 \t curr_validation_error:\t20.9374240346\n",
      "epoch:\t20000 \t curr_validation_error:\t20.8507482834\n",
      "epoch:\t20100 \t curr_validation_error:\t20.7660726393\n",
      "epoch:\t20200 \t curr_validation_error:\t20.6854900955\n",
      "epoch:\t20300 \t curr_validation_error:\t20.6100519445\n",
      "epoch:\t20400 \t curr_validation_error:\t20.5363847146\n",
      "epoch:\t20500 \t curr_validation_error:\t20.4634474546\n",
      "epoch:\t20600 \t curr_validation_error:\t20.3912328906\n",
      "epoch:\t20700 \t curr_validation_error:\t20.3197338217\n",
      "epoch:\t20800 \t curr_validation_error:\t20.2489431189\n",
      "epoch:\t20900 \t curr_validation_error:\t20.1788537245\n",
      "epoch:\t21000 \t curr_validation_error:\t20.1094586515\n",
      "epoch:\t21100 \t curr_validation_error:\t20.0407509827\n",
      "epoch:\t21200 \t curr_validation_error:\t19.9727238701\n",
      "epoch:\t21300 \t curr_validation_error:\t19.9053705343\n",
      "epoch:\t21400 \t curr_validation_error:\t19.8386842637\n",
      "epoch:\t21500 \t curr_validation_error:\t19.7726584136\n",
      "epoch:\t21600 \t curr_validation_error:\t19.7072864061\n",
      "epoch:\t21700 \t curr_validation_error:\t19.6427701915\n",
      "epoch:\t21800 \t curr_validation_error:\t19.5792846892\n",
      "epoch:\t21900 \t curr_validation_error:\t19.5164270123\n",
      "epoch:\t22000 \t curr_validation_error:\t19.4541909137\n",
      "epoch:\t22100 \t curr_validation_error:\t19.392570209\n",
      "epoch:\t22200 \t curr_validation_error:\t19.3341282491\n",
      "epoch:\t22300 \t curr_validation_error:\t19.2763358607\n",
      "epoch:\t22400 \t curr_validation_error:\t19.2200634285\n",
      "epoch:\t22500 \t curr_validation_error:\t19.1686209082\n",
      "epoch:\t22600 \t curr_validation_error:\t19.1188547234\n",
      "epoch:\t22700 \t curr_validation_error:\t19.0711322643\n",
      "epoch:\t22800 \t curr_validation_error:\t19.0238846244\n",
      "epoch:\t22900 \t curr_validation_error:\t18.9771070585\n",
      "epoch:\t23000 \t curr_validation_error:\t18.9307948689\n",
      "epoch:\t23100 \t curr_validation_error:\t18.884943405\n",
      "epoch:\t23200 \t curr_validation_error:\t18.8395480628\n",
      "epoch:\t23300 \t curr_validation_error:\t18.797732478\n",
      "epoch:\t23400 \t curr_validation_error:\t18.7567403199\n",
      "epoch:\t23500 \t curr_validation_error:\t18.7161575566\n",
      "epoch:\t23600 \t curr_validation_error:\t18.6759800855\n",
      "epoch:\t23700 \t curr_validation_error:\t18.6362038455\n",
      "epoch:\t23800 \t curr_validation_error:\t18.5968248159\n",
      "epoch:\t23900 \t curr_validation_error:\t18.5585035998\n",
      "epoch:\t24000 \t curr_validation_error:\t18.5222790137\n",
      "epoch:\t24100 \t curr_validation_error:\t18.4864158925\n",
      "epoch:\t24200 \t curr_validation_error:\t18.4509106163\n",
      "epoch:\t24300 \t curr_validation_error:\t18.4157596016\n",
      "epoch:\t24400 \t curr_validation_error:\t18.3809593006\n",
      "epoch:\t24500 \t curr_validation_error:\t18.3465062016\n",
      "epoch:\t24600 \t curr_validation_error:\t18.3123968276\n",
      "epoch:\t24700 \t curr_validation_error:\t18.278627737\n",
      "epoch:\t24800 \t curr_validation_error:\t18.2451955225\n",
      "epoch:\t24900 \t curr_validation_error:\t18.2136493376\n",
      "epoch:\t25000 \t curr_validation_error:\t18.1844558118\n",
      "epoch:\t25100 \t curr_validation_error:\t18.1555521685\n",
      "epoch:\t25200 \t curr_validation_error:\t18.1269355145\n",
      "epoch:\t25300 \t curr_validation_error:\t18.0986029862\n",
      "epoch:\t25400 \t curr_validation_error:\t18.0705517482\n",
      "epoch:\t25500 \t curr_validation_error:\t18.0427789938\n",
      "epoch:\t25600 \t curr_validation_error:\t18.0152819442\n",
      "epoch:\t25700 \t curr_validation_error:\t17.9880578485\n",
      "epoch:\t25800 \t curr_validation_error:\t17.9611039834\n",
      "epoch:\t25900 \t curr_validation_error:\t17.9344176528\n",
      "epoch:\t26000 \t curr_validation_error:\t17.9079961877\n",
      "epoch:\t26100 \t curr_validation_error:\t17.8818369456\n",
      "epoch:\t26200 \t curr_validation_error:\t17.8559373107\n",
      "epoch:\t26300 \t curr_validation_error:\t17.8302946934\n",
      "epoch:\t26400 \t curr_validation_error:\t17.8049065297\n",
      "epoch:\t26500 \t curr_validation_error:\t17.7797702818\n",
      "epoch:\t26600 \t curr_validation_error:\t17.7548834367\n",
      "epoch:\t26700 \t curr_validation_error:\t17.7302435071\n",
      "epoch:\t26800 \t curr_validation_error:\t17.7058480302\n",
      "epoch:\t26900 \t curr_validation_error:\t17.6816945681\n",
      "epoch:\t27000 \t curr_validation_error:\t17.6577807073\n",
      "epoch:\t27100 \t curr_validation_error:\t17.6341040583\n",
      "epoch:\t27200 \t curr_validation_error:\t17.6106622556\n",
      "epoch:\t27300 \t curr_validation_error:\t17.5874529575\n",
      "epoch:\t27400"
     ]
    }
   ],
   "source": [
    "# minibatch batch_size = 5\n",
    "# learning rate lr = 0.0001\n",
    "train_and_get_result(x1, x2, lr = 0.0001, batch_size = 5)"
   ]
  },
  {
   "cell_type": "code",
   "execution_count": null,
   "metadata": {
    "collapsed": true
   },
   "outputs": [],
   "source": [
    "# minibatch batch_size = 25\n",
    "# learning rate lr = 0.0001\n",
    "train_and_get_result(x1, x2, lr = 0.0001, batch_size = 25)"
   ]
  },
  {
   "cell_type": "code",
   "execution_count": null,
   "metadata": {
    "collapsed": true
   },
   "outputs": [],
   "source": [
    "# minibatch batch_size = 50\n",
    "# learning rate lr = 0.0001\n",
    "train_and_get_result(x1, x2, lr = 0.0001, batch_size = 50)"
   ]
  },
  {
   "cell_type": "code",
   "execution_count": null,
   "metadata": {
    "collapsed": true
   },
   "outputs": [],
   "source": [
    "# minibatch batch_size = 5\n",
    "# learning rate lr = 0.0005\n",
    "train_and_get_result(x1, x2, lr = 0.0005, batch_size = 5)"
   ]
  },
  {
   "cell_type": "code",
   "execution_count": null,
   "metadata": {
    "collapsed": true
   },
   "outputs": [],
   "source": [
    "# minibatch batch_size = 25\n",
    "# learning rate lr = 0.0005\n",
    "train_and_get_result(x1, x2, lr = 0.0005, batch_size = 25)"
   ]
  },
  {
   "cell_type": "code",
   "execution_count": null,
   "metadata": {
    "collapsed": true
   },
   "outputs": [],
   "source": [
    "# minibatch batch_size = 50\n",
    "# learning rate lr = 0.0005\n",
    "train_and_get_result(x1, x2, lr = 0.0005, batch_size = 50)"
   ]
  },
  {
   "cell_type": "code",
   "execution_count": null,
   "metadata": {
    "collapsed": true
   },
   "outputs": [],
   "source": [
    "# minibatch batch_size = 5\n",
    "# learning rate lr = 0.001\n",
    "train_and_get_result(x1, x2, lr = 0.001, batch_size = 5)"
   ]
  },
  {
   "cell_type": "code",
   "execution_count": null,
   "metadata": {
    "collapsed": true
   },
   "outputs": [],
   "source": [
    "# minibatch batch_size = 25\n",
    "# learning rate lr = 0.001\n",
    "train_and_get_result(x1, x2, lr = 0.001, batch_size = 25)"
   ]
  },
  {
   "cell_type": "code",
   "execution_count": null,
   "metadata": {
    "collapsed": true
   },
   "outputs": [],
   "source": [
    "# minibatch batch_size = 50\n",
    "# learning rate lr = 0.001\n",
    "train_and_get_result(x1, x2, lr = 0.001, batch_size = 50)"
   ]
  },
  {
   "cell_type": "code",
   "execution_count": null,
   "metadata": {
    "collapsed": true
   },
   "outputs": [],
   "source": [
    "# minibatch batch_size = 5\n",
    "# learning rate lr = 0.005\n",
    "train_and_get_result(x1, x2, lr = 0.005, batch_size = 5)"
   ]
  },
  {
   "cell_type": "code",
   "execution_count": null,
   "metadata": {
    "collapsed": true
   },
   "outputs": [],
   "source": [
    "# minibatch batch_size = 25\n",
    "# learning rate lr = 0.005\n",
    "train_and_get_result(x1, x2, lr = 0.005, batch_size = 25)"
   ]
  },
  {
   "cell_type": "code",
   "execution_count": null,
   "metadata": {
    "collapsed": true
   },
   "outputs": [],
   "source": [
    "# minibatch batch_size = 50\n",
    "# learning rate lr = 0.005\n",
    "train_and_get_result(x1, x2, lr = 0.005, batch_size = 50)"
   ]
  },
  {
   "cell_type": "code",
   "execution_count": null,
   "metadata": {
    "collapsed": true
   },
   "outputs": [],
   "source": [
    "# batch\n",
    "# learning rate lr = 0.0001\n",
    "train_and_get_result(x1, x2, lr = 0.0001, batch_size = 100)"
   ]
  },
  {
   "cell_type": "code",
   "execution_count": null,
   "metadata": {
    "collapsed": true
   },
   "outputs": [],
   "source": [
    "# batch\n",
    "# learning rate lr = 0.0005\n",
    "train_and_get_result(x1, x2, lr = 0.0005, batch_size = 100)"
   ]
  },
  {
   "cell_type": "code",
   "execution_count": null,
   "metadata": {
    "collapsed": true
   },
   "outputs": [],
   "source": [
    "# batch\n",
    "# learning rate lr = 0.001\n",
    "train_and_get_result(x1, x2, lr = 0.001, batch_size = 100)"
   ]
  },
  {
   "cell_type": "code",
   "execution_count": null,
   "metadata": {
    "collapsed": true
   },
   "outputs": [],
   "source": [
    "# batch\n",
    "# learning rate lr = 0.005\n",
    "train_and_get_result(x1, x2, lr = 0.005, batch_size = 100)"
   ]
  },
  {
   "cell_type": "code",
   "execution_count": null,
   "metadata": {
    "collapsed": true
   },
   "outputs": [],
   "source": []
  }
 ],
 "metadata": {
  "kernelspec": {
   "display_name": "Python 3",
   "language": "python",
   "name": "python3"
  },
  "language_info": {
   "codemirror_mode": {
    "name": "ipython",
    "version": 3
   },
   "file_extension": ".py",
   "mimetype": "text/x-python",
   "name": "python",
   "nbconvert_exporter": "python",
   "pygments_lexer": "ipython3",
   "version": "3.6.2"
  }
 },
 "nbformat": 4,
 "nbformat_minor": 2
}
