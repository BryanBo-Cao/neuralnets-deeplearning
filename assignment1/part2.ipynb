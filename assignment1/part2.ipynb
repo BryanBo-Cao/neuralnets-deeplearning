{
 "cells": [
  {
   "cell_type": "code",
   "execution_count": 64,
   "metadata": {},
   "outputs": [
    {
     "name": "stdout",
     "output_type": "stream",
     "text": [
      "x1: [ 0.1227  0.3914  0.7725  0.8342  0.5084  0.9983  0.6643  0.0954  0.6949\n",
      "  0.6075  0.3717  0.0193  0.9314  0.2206  0.0903  0.5466  0.4331  0.5293\n",
      "  0.8955  0.0701  0.0771  0.1972  0.6405  0.3203  0.103   0.5605  0.4288\n",
      "  0.7101  0.6575  0.9498  0.555   0.0947  0.4293  0.31    0.7297  0.1973\n",
      "  0.1571  0.2272  0.2099  0.3972  0.0033  0.6441  0.5549  0.9193  0.5341\n",
      "  0.1555  0.1839  0.9949  0.7918  0.4088  0.2247  0.3901  0.4309  0.0732\n",
      "  0.8077  0.0854  0.8955  0.8794  0.1094  0.0726  0.4377  0.889   0.5791\n",
      "  0.9721  0.5719  0.3156  0.8065  0.4777  0.6264  0.2117  0.042   0.0916\n",
      "  0.6035  0.6354  0.4102  0.695   0.2153  0.0768  0.2356  0.1591  0.7171\n",
      "  0.9988  0.3936  0.0201  0.6295  0.1771  0.5888  0.5302  0.3434  0.7154\n",
      "  0.3506  0.5432  0.4687  0.013   0.1311  0.697   0.3996  0.2208  0.1119\n",
      "  0.4317]\n",
      "x2: [ 0.299   0.6392  0.0826  0.0823  0.8025  0.7404  0.3861  0.986   0.605\n",
      "  0.3618  0.761   0.7192  0.5181  0.1091  0.1085  0.2028  0.7049  0.688\n",
      "  0.8477  0.6176  0.7883  0.6273  0.1157  0.2305  0.314   0.3131  0.9205\n",
      "  0.0582  0.6994  0.5013  0.5152  0.4509  0.8343  0.473   0.7288  0.4028\n",
      "  0.116   0.3902  0.5191  0.7047  0.0438  0.228   0.8297  0.473   0.3764\n",
      "  0.4256  0.5615  0.4739  0.1968  0.8426  0.5714  0.3748  0.0957  0.3781\n",
      "  0.0761  0.1927  0.9469  0.8077  0.1245  0.9662  0.603   0.6766  0.2427\n",
      "  0.9348  0.5331  0.0088  0.9705  0.8802  0.6473  0.0892  0.6419  0.0732\n",
      "  0.2997  0.6253  0.0288  0.1586  0.7286  0.5323  0.1967  0.9183  0.2153\n",
      "  0.3529  0.1582  0.3701  0.7371  0.03    0.5609  0.2182  0.9182  0.5181\n",
      "  0.1568  0.8303  0.7515  0.3437  0.6214  0.6114  0.609   0.596   0.0293\n",
      "  0.3873]\n"
     ]
    }
   ],
   "source": [
    "import numpy as np\n",
    "import random\n",
    "import sys\n",
    "\n",
    "data = np.loadtxt('assign1_data.txt')\n",
    "#print data\n",
    "\n",
    "x1 = data[:, 0]\n",
    "print \"x1:\", x1\n",
    "\n",
    "x2 = data[:, 1]\n",
    "print \"x2:\", x2\n",
    "\n",
    "y = data[:, 2]\n",
    "#print \"y:\", y\n",
    "\n",
    "z = data[:, 3]\n",
    "#print \"z:\", z"
   ]
  },
  {
   "cell_type": "code",
   "execution_count": 67,
   "metadata": {},
   "outputs": [],
   "source": [
    "# create method to train and get result with different settings like online, minibatch, batch and learning rate\n",
    "def train_and_get_result(x1, x2, lr):\n",
    "    \n",
    "    w1 = random.random() * 3\n",
    "    w2 = random.random() * 3\n",
    "    b = random.random() * 3\n",
    "\n",
    "    print \"random initial w1:\\t\", w1\n",
    "    print \"random initial w2:\\t\", w2\n",
    "    print \"random initial b:\\t\", b\n",
    "    \n",
    "    epoch = 0\n",
    "    # training set size : validation set size = 3 : 1\n",
    "    training_set_index = 0\n",
    "    size = len(x1)\n",
    "    validation_set_index = 0\n",
    "    validation_set_index_step = size / 4\n",
    "    pre_validation_error = sys.maxint\n",
    "    curr_validation_error = 0\n",
    "    while pre_validation_error >= curr_validation_error or curr_validation_error <= 0: # early stopping when the validation error is greater than its previous one\n",
    "    #while True:\n",
    "\n",
    "        validation_set_index += validation_set_index_step\n",
    "        validation_set_index %= size\n",
    "\n",
    "        x1_validation = x1[validation_set_index : validation_set_index + validation_set_index_step]\n",
    "        x2_validation = x2[validation_set_index : validation_set_index + validation_set_index_step]\n",
    "        y_validation = y[validation_set_index : validation_set_index + validation_set_index_step]\n",
    "\n",
    "        # training\n",
    "        for x1i, x2i, yi in zip(x1, x2, y):\n",
    "            if x1i not in zip(x1_validation) and x2i not in zip(x2_validation) and yi not in zip(y_validation):\n",
    "                w1 = w1 + lr * (yi - (x1i * w1 + x2i * w2 + b)) * x1i\n",
    "                w2 = w2 + lr * (yi - (x1i * w1 + x2i * w2 + b)) * x2i\n",
    "                b = b + lr * (yi - (x1i * w1 + x2i * w2 + b))\n",
    "\n",
    "        if epoch >= 4 and epoch % 4 == 0:\n",
    "            pre_validation_error = curr_validation_error\n",
    "            if epoch % 100 == 0: # print only every 20 epochs\n",
    "                print \"epoch:\\t\", epoch, \"\\t curr_validation_error:\\t\", curr_validation_error\n",
    "            curr_validation_error = 0\n",
    "\n",
    "        # validation\n",
    "        for x1i, x2i, yi in zip(x1_validation, x2_validation, y_validation):\n",
    "            curr_validation_error += abs(yi - (x1i * w1 + x2i * w2 + b))\n",
    "\n",
    "        epoch += 1\n",
    "\n",
    "    print \"Result: w1:\\t\", w1, \"\\tw2:\\t\", w2, \"\\tb:\\t\", b, \"\\tepoch:\\t\", epoch\n",
    "    print \"pre_validation_error:\\t\", pre_validation_error, \"curr_validation_error:\\t\", curr_validation_error"
   ]
  },
  {
   "cell_type": "code",
   "execution_count": null,
   "metadata": {},
   "outputs": [
    {
     "name": "stdout",
     "output_type": "stream",
     "text": [
      "random initial w1:\t0.590393204855\n",
      "random initial w2:\t2.43050498385\n",
      "random initial b:\t1.78049413864\n",
      "epoch:\t100 \t curr_validation_error:\t115.432198524\n",
      "epoch:\t200 \t curr_validation_error:\t67.5640940189\n",
      "epoch:\t300 \t curr_validation_error:\t59.1471899489\n",
      "epoch:\t400 \t curr_validation_error:\t56.2009213422\n",
      "epoch:\t500 \t curr_validation_error:\t53.8838465272\n",
      "epoch:\t600 \t curr_validation_error:\t51.5413845854\n",
      "epoch:\t700 \t curr_validation_error:\t49.2625662521\n",
      "epoch:\t800 \t curr_validation_error:\t47.0783342066\n",
      "epoch:\t900 \t curr_validation_error:\t44.9935463339\n",
      "epoch:\t1000 \t curr_validation_error:\t43.006458919\n",
      "epoch:\t1100 \t curr_validation_error:\t41.1148864285\n",
      "epoch:\t1200 \t curr_validation_error:\t39.3150506817\n",
      "epoch:\t1300 \t curr_validation_error:\t37.6431544282\n",
      "epoch:\t1400 \t curr_validation_error:\t36.063936173\n",
      "epoch:\t1500 \t curr_validation_error:\t34.5619347194\n",
      "epoch:\t1600 \t curr_validation_error:\t33.1392842915\n",
      "epoch:\t1700 \t curr_validation_error:\t31.8460241792\n",
      "epoch:\t1800 \t curr_validation_error:\t30.650478017\n",
      "epoch:\t1900 \t curr_validation_error:\t29.5446226776\n",
      "epoch:\t2000 \t curr_validation_error:\t28.4924704034\n",
      "epoch:\t2100 \t curr_validation_error:\t27.5159347859\n",
      "epoch:\t2200 \t curr_validation_error:\t26.6076443875\n",
      "epoch:\t2300 \t curr_validation_error:\t25.7434743806\n",
      "epoch:\t2400 \t curr_validation_error:\t24.9479166251\n",
      "epoch:\t2500 \t curr_validation_error:\t24.2062844379\n",
      "epoch:\t2600 \t curr_validation_error:\t23.5073457144\n",
      "epoch:\t2700 \t curr_validation_error:\t22.861288855\n",
      "epoch:\t2800 \t curr_validation_error:\t22.2673388784\n",
      "epoch:\t2900 \t curr_validation_error:\t21.7092039757\n",
      "epoch:\t3000 \t curr_validation_error:\t21.1956848867\n",
      "epoch:\t3100 \t curr_validation_error:\t20.7328446115\n",
      "epoch:\t3200 \t curr_validation_error:\t20.3264780951\n",
      "epoch:\t3300 \t curr_validation_error:\t19.9568131295\n",
      "epoch:\t3400 \t curr_validation_error:\t19.627574362\n",
      "epoch:\t3500 \t curr_validation_error:\t19.3376933979\n",
      "epoch:\t3600 \t curr_validation_error:\t19.0836480628\n",
      "epoch:\t3700 \t curr_validation_error:\t18.8510538381\n",
      "epoch:\t3800 \t curr_validation_error:\t18.6396567341\n",
      "epoch:\t3900 \t curr_validation_error:\t18.4385963346\n",
      "epoch:\t4000 \t curr_validation_error:\t18.2646804088\n",
      "epoch:\t4100 \t curr_validation_error:\t18.1116814084\n",
      "epoch:\t4200 \t curr_validation_error:\t17.9661394176\n",
      "epoch:\t4300 \t curr_validation_error:\t17.8276901635\n",
      "epoch:\t4400 \t curr_validation_error:\t17.6959872052\n",
      "epoch:\t4500 \t curr_validation_error:\t17.5707010591\n",
      "epoch:\t4600 \t curr_validation_error:\t17.4515183674\n",
      "epoch:\t4700 \t curr_validation_error:\t17.3381411072\n",
      "epoch:\t4800 \t curr_validation_error:\t17.2302858387\n",
      "epoch:\t4900 \t curr_validation_error:\t17.1286172056\n",
      "epoch:\t5000 \t curr_validation_error:\t17.0322201967\n",
      "epoch:\t5100 \t curr_validation_error:\t16.9405076028\n",
      "epoch:\t5200 \t curr_validation_error:\t16.8585008072\n",
      "epoch:\t5300 \t curr_validation_error:\t16.7838509628\n",
      "epoch:\t5400 "
     ]
    }
   ],
   "source": [
    "# online\n",
    "# learning rate lr = 0.0001\n",
    "lr = 0.0001\n",
    "train_and_get_result(x1, x2, lr)"
   ]
  },
  {
   "cell_type": "code",
   "execution_count": null,
   "metadata": {
    "collapsed": true
   },
   "outputs": [],
   "source": [
    "# online\n",
    "# learning rate lr = 0.001\n",
    "lr = 0.001\n",
    "train_and_get_result(x1, x2, lr)"
   ]
  },
  {
   "cell_type": "code",
   "execution_count": 6,
   "metadata": {
    "collapsed": true
   },
   "outputs": [],
   "source": [
    "# minibatch\n"
   ]
  },
  {
   "cell_type": "code",
   "execution_count": null,
   "metadata": {
    "collapsed": true
   },
   "outputs": [],
   "source": [
    "# batch\n"
   ]
  }
 ],
 "metadata": {
  "kernelspec": {
   "display_name": "Python 2",
   "language": "python",
   "name": "python2"
  },
  "language_info": {
   "codemirror_mode": {
    "name": "ipython",
    "version": 2
   },
   "file_extension": ".py",
   "mimetype": "text/x-python",
   "name": "python",
   "nbconvert_exporter": "python",
   "pygments_lexer": "ipython2",
   "version": "2.7.13"
  }
 },
 "nbformat": 4,
 "nbformat_minor": 2
}
