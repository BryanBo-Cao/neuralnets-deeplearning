{
 "cells": [
  {
   "cell_type": "code",
   "execution_count": 2,
   "metadata": {},
   "outputs": [
    {
     "name": "stdout",
     "output_type": "stream",
     "text": [
      "x1: [ 0.1227  0.3914  0.7725  0.8342  0.5084  0.9983  0.6643  0.0954  0.6949\n",
      "  0.6075  0.3717  0.0193  0.9314  0.2206  0.0903  0.5466  0.4331  0.5293\n",
      "  0.8955  0.0701  0.0771  0.1972  0.6405  0.3203  0.103   0.5605  0.4288\n",
      "  0.7101  0.6575  0.9498  0.555   0.0947  0.4293  0.31    0.7297  0.1973\n",
      "  0.1571  0.2272  0.2099  0.3972  0.0033  0.6441  0.5549  0.9193  0.5341\n",
      "  0.1555  0.1839  0.9949  0.7918  0.4088  0.2247  0.3901  0.4309  0.0732\n",
      "  0.8077  0.0854  0.8955  0.8794  0.1094  0.0726  0.4377  0.889   0.5791\n",
      "  0.9721  0.5719  0.3156  0.8065  0.4777  0.6264  0.2117  0.042   0.0916\n",
      "  0.6035  0.6354  0.4102  0.695   0.2153  0.0768  0.2356  0.1591  0.7171\n",
      "  0.9988  0.3936  0.0201  0.6295  0.1771  0.5888  0.5302  0.3434  0.7154\n",
      "  0.3506  0.5432  0.4687  0.013   0.1311  0.697   0.3996  0.2208  0.1119\n",
      "  0.4317]\n",
      "x2: [ 0.299   0.6392  0.0826  0.0823  0.8025  0.7404  0.3861  0.986   0.605\n",
      "  0.3618  0.761   0.7192  0.5181  0.1091  0.1085  0.2028  0.7049  0.688\n",
      "  0.8477  0.6176  0.7883  0.6273  0.1157  0.2305  0.314   0.3131  0.9205\n",
      "  0.0582  0.6994  0.5013  0.5152  0.4509  0.8343  0.473   0.7288  0.4028\n",
      "  0.116   0.3902  0.5191  0.7047  0.0438  0.228   0.8297  0.473   0.3764\n",
      "  0.4256  0.5615  0.4739  0.1968  0.8426  0.5714  0.3748  0.0957  0.3781\n",
      "  0.0761  0.1927  0.9469  0.8077  0.1245  0.9662  0.603   0.6766  0.2427\n",
      "  0.9348  0.5331  0.0088  0.9705  0.8802  0.6473  0.0892  0.6419  0.0732\n",
      "  0.2997  0.6253  0.0288  0.1586  0.7286  0.5323  0.1967  0.9183  0.2153\n",
      "  0.3529  0.1582  0.3701  0.7371  0.03    0.5609  0.2182  0.9182  0.5181\n",
      "  0.1568  0.8303  0.7515  0.3437  0.6214  0.6114  0.609   0.596   0.0293\n",
      "  0.3873]\n"
     ]
    }
   ],
   "source": [
    "# reference: http://cs229.stanford.edu/notes/cs229-notes1.pdf\n",
    "import numpy as np\n",
    "#import matplotlib as ml\n",
    "#import matplotlib.pyplot as plt\n",
    "import random\n",
    "import sys\n",
    "\n",
    "data = np.loadtxt('assign1_data.txt')\n",
    "#print data\n",
    "\n",
    "x1 = data[:, 0]\n",
    "print \"x1:\", x1\n",
    "\n",
    "x2 = data[:, 1]\n",
    "print \"x2:\", x2\n",
    "\n",
    "y = data[:, 2]\n",
    "#print \"y:\", y\n",
    "\n",
    "z = data[:, 3]\n",
    "#print \"z:\", z\n",
    "\n",
    "'''\n",
    "correct solution from part1 is:\n",
    "w1:\t-2.04424259514\n",
    "w2:\t3.99686016866\n",
    "b:\t-0.924290811868\n",
    "'''"
   ]
  },
  {
   "cell_type": "code",
   "execution_count": 25,
   "metadata": {},
   "outputs": [
    {
     "name": "stdout",
     "output_type": "stream",
     "text": [
      "\n"
     ]
    }
   ],
   "source": [
    "# create method to train and get result with different settings like online, minibatch, batch and learning rate\n",
    "def train_and_get_result(x1, x2, lr, batch_size):\n",
    "    \n",
    "    if batch_size > 75:\n",
    "        batch_size = 75\n",
    "    \n",
    "    w1 = random.random() * 3\n",
    "    w2 = random.random() * 3\n",
    "    b = random.random() * 3\n",
    "    \n",
    "    print \"random initial w1:\\t\", w1\n",
    "    print \"random initial w2:\\t\", w2\n",
    "    print \"random initial b:\\t\", b\n",
    "    \n",
    "    epoch = 0\n",
    "    # training set size : validation set size = 3 : 1\n",
    "    training_set_index = 0\n",
    "    size = len(x1)\n",
    "    validation_set_index = 0\n",
    "    validation_set_index_step = size / 4\n",
    "    pre_validation_error = sys.maxint\n",
    "    curr_validation_error = 0\n",
    "    while pre_validation_error >= curr_validation_error or curr_validation_error <= 0: # early stopping when the validation error is greater than its previous one\n",
    "    #while True:\n",
    "\n",
    "        validation_set_index += validation_set_index_step\n",
    "        validation_set_index %= size\n",
    "\n",
    "        x1_validation = x1[validation_set_index : validation_set_index + validation_set_index_step]\n",
    "        x2_validation = x2[validation_set_index : validation_set_index + validation_set_index_step]\n",
    "        y_validation = y[validation_set_index : validation_set_index + validation_set_index_step]\n",
    "\n",
    "        # training\n",
    "        for x1i, x2i, yi in zip(x1, x2, y):\n",
    "            i = 1\n",
    "            sum_error = 0\n",
    "            if x1i not in zip(x1_validation) and x2i not in zip(x2_validation) and yi not in zip(y_validation):\n",
    "                error = yi - (x1i * w1 + x2i * w2 + b)\n",
    "                sum_error += error\n",
    "                if i >= batch_size: # only update weights after one batch\n",
    "                    w1 = w1 + lr * sum_error * x1i\n",
    "                    w2 = w2 + lr * sum_error * x2i\n",
    "                    b = b + lr * sum_error\n",
    "                    sum_error = 0\n",
    "                    i = 1\n",
    "                    continue\n",
    "                i += 1\n",
    "\n",
    "        if epoch >= 4 and epoch % 4 == 0:\n",
    "            pre_validation_error = curr_validation_error\n",
    "            if epoch % 100 == 0: # print only every 20 epochs\n",
    "                print \"epoch:\\t\", epoch, \"\\t curr_validation_error:\\t\", curr_validation_error\n",
    "            curr_validation_error = 0\n",
    "\n",
    "        # validation\n",
    "        for x1i, x2i, yi in zip(x1_validation, x2_validation, y_validation):\n",
    "            curr_validation_error += abs(yi - (x1i * w1 + x2i * w2 + b))\n",
    "\n",
    "        epoch += 1\n",
    "\n",
    "    print \"Result: pre_validation_error:\\t\", pre_validation_error, \"curr_validation_error:\\t\", curr_validation_error\n",
    "    print \"Result: w1:\\t\", w1, \"\\tw2:\\t\", w2, \"\\tb:\\t\", b, \"\\tepoch:\\t\", epoch"
   ]
  },
  {
   "cell_type": "code",
   "execution_count": 26,
   "metadata": {},
   "outputs": [
    {
     "name": "stdout",
     "output_type": "stream",
     "text": [
      "random initial w1:\t1.86587598321\n",
      "random initial w2:\t2.42208057578\n",
      "random initial b:\t1.73246786299\n",
      "epoch:\t100 \t curr_validation_error:\t135.982993259\n",
      "epoch:\t200 \t curr_validation_error:\t83.5783928837\n",
      "epoch:\t300 \t curr_validation_error:\t74.1940864695\n",
      "epoch:\t400 \t curr_validation_error:\t70.0359348209\n",
      "epoch:\t500 \t curr_validation_error:\t66.7888384148\n",
      "epoch:\t600 \t curr_validation_error:\t63.6972358168\n",
      "epoch:\t700 \t curr_validation_error:\t60.7317253443\n",
      "epoch:\t800 \t curr_validation_error:\t57.9284358533\n",
      "epoch:\t900 \t curr_validation_error:\t55.2694597401\n",
      "epoch:\t1000 \t curr_validation_error:\t52.7401802749\n",
      "epoch:\t1100 \t curr_validation_error:\t50.354762762\n",
      "epoch:\t1200 \t curr_validation_error:\t48.0974124256\n",
      "epoch:\t1300 \t curr_validation_error:\t45.9565172708\n",
      "epoch:\t1400 \t curr_validation_error:\t43.9221381015\n",
      "epoch:\t1500 \t curr_validation_error:\t42.0004402285\n"
     ]
    },
    {
     "ename": "KeyboardInterrupt",
     "evalue": "",
     "output_type": "error",
     "traceback": [
      "\u001b[0;31m---------------------------------------------------------------------------\u001b[0m",
      "\u001b[0;31mKeyboardInterrupt\u001b[0m                         Traceback (most recent call last)",
      "\u001b[0;32m<ipython-input-26-0599318ba558>\u001b[0m in \u001b[0;36m<module>\u001b[0;34m()\u001b[0m\n\u001b[1;32m      1\u001b[0m \u001b[0;31m# online\u001b[0m\u001b[0;34m\u001b[0m\u001b[0;34m\u001b[0m\u001b[0m\n\u001b[1;32m      2\u001b[0m \u001b[0;31m# learning rate lr = 0.0001\u001b[0m\u001b[0;34m\u001b[0m\u001b[0;34m\u001b[0m\u001b[0m\n\u001b[0;32m----> 3\u001b[0;31m \u001b[0mtrain_and_get_result\u001b[0m\u001b[0;34m(\u001b[0m\u001b[0mx1\u001b[0m\u001b[0;34m,\u001b[0m \u001b[0mx2\u001b[0m\u001b[0;34m,\u001b[0m \u001b[0mlr\u001b[0m \u001b[0;34m=\u001b[0m \u001b[0;36m0.0001\u001b[0m\u001b[0;34m,\u001b[0m \u001b[0mbatch_size\u001b[0m \u001b[0;34m=\u001b[0m \u001b[0;36m1\u001b[0m\u001b[0;34m)\u001b[0m\u001b[0;34m\u001b[0m\u001b[0m\n\u001b[0m",
      "\u001b[0;32m<ipython-input-25-54a40397061f>\u001b[0m in \u001b[0;36mtrain_and_get_result\u001b[0;34m(x1, x2, lr, batch_size)\u001b[0m\n\u001b[1;32m     35\u001b[0m             \u001b[0mi\u001b[0m \u001b[0;34m=\u001b[0m \u001b[0;36m1\u001b[0m\u001b[0;34m\u001b[0m\u001b[0m\n\u001b[1;32m     36\u001b[0m             \u001b[0msum_error\u001b[0m \u001b[0;34m=\u001b[0m \u001b[0;36m0\u001b[0m\u001b[0;34m\u001b[0m\u001b[0m\n\u001b[0;32m---> 37\u001b[0;31m             \u001b[0;32mif\u001b[0m \u001b[0mx1i\u001b[0m \u001b[0;32mnot\u001b[0m \u001b[0;32min\u001b[0m \u001b[0mzip\u001b[0m\u001b[0;34m(\u001b[0m\u001b[0mx1_validation\u001b[0m\u001b[0;34m)\u001b[0m \u001b[0;32mand\u001b[0m \u001b[0mx2i\u001b[0m \u001b[0;32mnot\u001b[0m \u001b[0;32min\u001b[0m \u001b[0mzip\u001b[0m\u001b[0;34m(\u001b[0m\u001b[0mx2_validation\u001b[0m\u001b[0;34m)\u001b[0m \u001b[0;32mand\u001b[0m \u001b[0myi\u001b[0m \u001b[0;32mnot\u001b[0m \u001b[0;32min\u001b[0m \u001b[0mzip\u001b[0m\u001b[0;34m(\u001b[0m\u001b[0my_validation\u001b[0m\u001b[0;34m)\u001b[0m\u001b[0;34m:\u001b[0m\u001b[0;34m\u001b[0m\u001b[0m\n\u001b[0m\u001b[1;32m     38\u001b[0m                 \u001b[0merror\u001b[0m \u001b[0;34m=\u001b[0m \u001b[0myi\u001b[0m \u001b[0;34m-\u001b[0m \u001b[0;34m(\u001b[0m\u001b[0mx1i\u001b[0m \u001b[0;34m*\u001b[0m \u001b[0mw1\u001b[0m \u001b[0;34m+\u001b[0m \u001b[0mx2i\u001b[0m \u001b[0;34m*\u001b[0m \u001b[0mw2\u001b[0m \u001b[0;34m+\u001b[0m \u001b[0mb\u001b[0m\u001b[0;34m)\u001b[0m\u001b[0;34m\u001b[0m\u001b[0m\n\u001b[1;32m     39\u001b[0m                 \u001b[0msum_error\u001b[0m \u001b[0;34m+=\u001b[0m \u001b[0merror\u001b[0m\u001b[0;34m\u001b[0m\u001b[0m\n",
      "\u001b[0;31mKeyboardInterrupt\u001b[0m: "
     ]
    }
   ],
   "source": [
    "# online\n",
    "# learning rate lr = 0.0001\n",
    "train_and_get_result(x1, x2, lr = 0.0001, batch_size = 1)"
   ]
  },
  {
   "cell_type": "code",
   "execution_count": null,
   "metadata": {},
   "outputs": [],
   "source": [
    "# online\n",
    "# learning rate lr = 0.0005\n",
    "train_and_get_result(x1, x2, lr = 0.0005, batch_size = 1)"
   ]
  },
  {
   "cell_type": "code",
   "execution_count": null,
   "metadata": {},
   "outputs": [],
   "source": [
    "# online\n",
    "# learning rate lr = 0.001\n",
    "train_and_get_result(x1, x2, lr = 0.001, batch_size = 1)"
   ]
  },
  {
   "cell_type": "code",
   "execution_count": null,
   "metadata": {},
   "outputs": [],
   "source": [
    "# online\n",
    "# learning rate lr = 0.005\n",
    "train_and_get_result(x1, x2, lr = 0.005, batch_size = 1)"
   ]
  },
  {
   "cell_type": "code",
   "execution_count": null,
   "metadata": {},
   "outputs": [],
   "source": [
    "# online\n",
    "# learning rate lr = 0.01\n",
    "train_and_get_result(x1, x2, lr = 0.01, batch_size = 1)"
   ]
  },
  {
   "cell_type": "code",
   "execution_count": 6,
   "metadata": {
    "collapsed": true
   },
   "outputs": [],
   "source": [
    "# minibatch\n"
   ]
  },
  {
   "cell_type": "code",
   "execution_count": null,
   "metadata": {
    "collapsed": true
   },
   "outputs": [],
   "source": [
    "# batch\n"
   ]
  }
 ],
 "metadata": {
  "kernelspec": {
   "display_name": "Python 2",
   "language": "python",
   "name": "python2"
  }
 },
 "nbformat": 4,
 "nbformat_minor": 2
}
