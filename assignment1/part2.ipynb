{
 "cells": [
  {
   "cell_type": "code",
   "execution_count": 8,
   "metadata": {
    "collapsed": true
   },
   "outputs": [],
   "source": [
    "import numpy as np\n",
    "import random\n",
    "\n",
    "data = np.loadtxt('assign1_data.txt')\n",
    "#print data\n",
    "\n",
    "x1 = data[:, 0]\n",
    "#print \"x1:\", x1\n",
    "\n",
    "x2 = data[:, 1]\n",
    "#print \"x2:\", x2\n",
    "\n",
    "y = data[:, 2]\n",
    "#print \"y:\", y\n",
    "\n",
    "z = data[:, 3]\n",
    "#print \"z:\", z"
   ]
  },
  {
   "cell_type": "code",
   "execution_count": 15,
   "metadata": {},
   "outputs": [
    {
     "name": "stdout",
     "output_type": "stream",
     "text": [
      "w1: 0.951999798318\n",
      "w2: 0.0241826486451\n",
      "b: 1.34431632431\n"
     ]
    }
   ],
   "source": [
    "## online, update weights after each example\n",
    "### learning rate = 0.0001\n",
    "### randomly initialize w1, w2 and b\n",
    "lr = 0.0001\n",
    "w1 = random.random() * 3\n",
    "print \"w1:\", w1\n",
    "w2 = random.random() * 3\n",
    "print \"w2:\", w2\n",
    "b = random.random() * 3\n",
    "print \"b:\", b\n",
    "\n",
    "### update weights\n",
    "### early stop: when error on validation set is greater than last time\n"
   ]
  },
  {
   "cell_type": "code",
   "execution_count": 3,
   "metadata": {
    "collapsed": true
   },
   "outputs": [],
   "source": [
    "## batch, update weights after an entire training set"
   ]
  },
  {
   "cell_type": "code",
   "execution_count": null,
   "metadata": {
    "collapsed": true
   },
   "outputs": [],
   "source": [
    "## minibatch, update weights after each minibatch"
   ]
  }
 ],
 "metadata": {
  "kernelspec": {
   "display_name": "Python 2",
   "language": "python",
   "name": "python2"
  },
  "language_info": {
   "codemirror_mode": {
    "name": "ipython",
    "version": 2
   },
   "file_extension": ".py",
   "mimetype": "text/x-python",
   "name": "python",
   "nbconvert_exporter": "python",
   "pygments_lexer": "ipython2",
   "version": "2.7.13"
  }
 },
 "nbformat": 4,
 "nbformat_minor": 2
}
