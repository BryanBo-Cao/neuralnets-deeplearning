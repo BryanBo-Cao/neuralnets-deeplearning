{
 "cells": [
  {
   "cell_type": "code",
   "execution_count": 1,
   "metadata": {},
   "outputs": [],
   "source": [
    "import numpy as np"
   ]
  },
  {
   "cell_type": "code",
   "execution_count": 2,
   "metadata": {},
   "outputs": [],
   "source": [
    "data = np.loadtxt('assign1_data.txt')\n",
    "#print data"
   ]
  },
  {
   "cell_type": "code",
   "execution_count": 3,
   "metadata": {},
   "outputs": [],
   "source": [
    "x1 = data[:, 0]\n",
    "#print \"x1:\", x1\n",
    "\n",
    "x2 = data[:, 1]\n",
    "#print \"x2:\", x2\n",
    "\n",
    "y = data[:, 2]\n",
    "#print \"y:\", y\n",
    "\n",
    "z = data[:, 3]\n",
    "#print \"z:\", z"
   ]
  },
  {
   "cell_type": "code",
   "execution_count": 4,
   "metadata": {},
   "outputs": [
    {
     "name": "stdout",
     "output_type": "stream",
     "text": [
      "w1: -1.50040034722\n",
      "w2:  3.71016742759\n",
      "b:  -1.02907821007\n"
     ]
    }
   ],
   "source": [
    "x1_mean = np.mean(x1)\n",
    "x2_mean = np.mean(x2)\n",
    "y_mean = np.mean(y)\n",
    "#print \"x1_mean:\", x1_mean\n",
    "#print \"x2_mean:\", x2_mean\n",
    "#print \"y_mean\", y_mean\n",
    "\n",
    "dx1 = x1 - x1_mean\n",
    "dx2 = x2 - x2_mean\n",
    "dy = y - y_mean\n",
    "#print \"dx1:\", dx1\n",
    "#print \"dx2:\", dx2\n",
    "#print \"dy:\", dy\n",
    "\n",
    "w1 = sum(dx1 * dy) / sum(dx1 ** 2)\n",
    "print \"w1:\", w1\n",
    "\n",
    "w2 = sum(dx2 * dy) / sum(dx2 ** 2)\n",
    "print \"w2: \", w2\n",
    "\n",
    "b = y_mean - w1 * x1_mean - w2 * x2_mean\n",
    "print \"b: \", b"
   ]
  },
  {
   "cell_type": "code",
   "execution_count": null,
   "metadata": {
    "collapsed": true
   },
   "outputs": [],
   "source": []
  }
 ],
 "metadata": {
  "kernelspec": {
   "display_name": "Python 2",
   "language": "python",
   "name": "python2"
  },
  "language_info": {
   "codemirror_mode": {
    "name": "ipython",
    "version": 2
   },
   "file_extension": ".py",
   "mimetype": "text/x-python",
   "name": "python",
   "nbconvert_exporter": "python",
   "pygments_lexer": "ipython2",
   "version": "2.7.13"
  }
 },
 "nbformat": 4,
 "nbformat_minor": 2
}
