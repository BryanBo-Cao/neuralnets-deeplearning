{
 "cells": [
  {
   "cell_type": "code",
   "execution_count": 1,
   "metadata": {},
   "outputs": [],
   "source": [
    "import numpy as np"
   ]
  },
  {
   "cell_type": "code",
   "execution_count": 2,
   "metadata": {},
   "outputs": [],
   "source": [
    "data = np.loadtxt('assign1_data.txt')\n",
    "#print data"
   ]
  },
  {
   "cell_type": "code",
   "execution_count": 3,
   "metadata": {},
   "outputs": [
    {
     "name": "stdout",
     "output_type": "stream",
     "text": [
      "y: [ 0.1825  0.8882 -1.9521 -1.9328  1.2246 -0.0631 -0.4817  2.8156 -0.1065\n",
      " -0.7846  1.3196  1.6524 -0.8102 -1.207  -0.706  -1.0808  1.0344  0.5287\n",
      "  0.7296  1.4522  1.8071  1.2273 -2.2342 -0.5109  0.1414 -1.1836  1.6718\n",
      " -2.4272  0.3789 -0.5279  0.1456  0.865   1.8152  0.3213  0.5224  0.2151\n",
      " -0.301   0.1898  0.5442  0.7943 -0.7167 -1.3663  1.2253 -0.6352 -0.489\n",
      "  0.7535  0.8667 -1.3357 -1.9428  1.6247  1.1808  0.0064 -1.4507  0.1981\n",
      " -2.4442 -0.2013  0.8336  0.4427 -0.8201  2.6714  0.7176 -0.3397 -1.4517\n",
      "  1.1939  0.1771 -1.3286  1.1001  1.3824  0.4988 -1.0278  1.547  -0.633\n",
      " -1.0044  0.518  -1.5689 -1.6504  1.5839  0.8372 -0.3673  2.5511 -1.4429\n",
      " -1.7349 -1.4869  0.3693  0.7778 -1.3098 -0.1203 -0.9736  2.4602 -0.0488\n",
      " -1.0768  1.4595  1.0999  0.6295  1.0837  0.1586  0.8348  1.02   -1.3642\n",
      " -0.0373]\n"
     ]
    }
   ],
   "source": [
    "x1 = data[:, 0]\n",
    "#print \"x1:\", x1\n",
    "\n",
    "x2 = data[:, 1]\n",
    "#print \"x2:\", x2\n",
    "\n",
    "y = data[:, 2]\n",
    "print \"y:\", y\n",
    "\n",
    "z = data[:, 3]\n",
    "#print \"z:\", z"
   ]
  },
  {
   "cell_type": "code",
   "execution_count": 4,
   "metadata": {},
   "outputs": [
    {
     "name": "stdout",
     "output_type": "stream",
     "text": [
      "w1: -1.50040034722\n",
      "w2:  3.71016742759\n",
      "b:  -1.02907821007\n"
     ]
    }
   ],
   "source": [
    "x1_mean = np.mean(x1)\n",
    "x2_mean = np.mean(x2)\n",
    "y_mean = np.mean(y)\n",
    "#print \"x1_mean:\", x1_mean\n",
    "#print \"x2_mean:\", x2_mean\n",
    "#print \"y_mean\", y_mean\n",
    "\n",
    "dx1 = x1 - x1_mean\n",
    "dx2 = x2 - x2_mean\n",
    "dy = y - y_mean\n",
    "#print \"dx1:\", dx1\n",
    "#print \"dx2:\", dx2\n",
    "#print \"dy:\", dy\n",
    "\n",
    "w1 = sum(dx1 * dy) / sum(dx1 ** 2)\n",
    "print \"w1:\", w1\n",
    "\n",
    "w2 = sum(dx2 * dy) / sum(dx2 ** 2)\n",
    "print \"w2: \", w2\n",
    "\n",
    "b = y_mean - w1 * x1_mean - w2 * x2_mean\n",
    "print \"b: \", b"
   ]
  },
  {
   "cell_type": "code",
   "execution_count": null,
   "metadata": {
    "collapsed": true
   },
   "outputs": [],
   "source": []
  }
 ],
 "metadata": {
  "kernelspec": {
   "display_name": "Python 2",
   "language": "python",
   "name": "python2"
  },
  "language_info": {
   "codemirror_mode": {
    "name": "ipython",
    "version": 2
   },
   "file_extension": ".py",
   "mimetype": "text/x-python",
   "name": "python",
   "nbconvert_exporter": "python",
   "pygments_lexer": "ipython2",
   "version": "2.7.13"
  }
 },
 "nbformat": 4,
 "nbformat_minor": 2
}
