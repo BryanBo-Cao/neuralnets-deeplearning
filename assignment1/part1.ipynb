{
 "cells": [
  {
   "cell_type": "code",
   "execution_count": 1,
   "metadata": {
    "collapsed": true
   },
   "outputs": [],
   "source": [
    "import numpy as np"
   ]
  },
  {
   "cell_type": "code",
   "execution_count": 2,
   "metadata": {
    "collapsed": true
   },
   "outputs": [],
   "source": [
    "data = np.loadtxt('assign1_data.txt')\n",
    "#print data"
   ]
  },
  {
   "cell_type": "code",
   "execution_count": 5,
   "metadata": {},
   "outputs": [
    {
     "name": "stdout",
     "output_type": "stream",
     "text": [
      "x1: [ 0.1227  0.3914  0.7725  0.8342  0.5084  0.9983  0.6643  0.0954  0.6949\n",
      "  0.6075  0.3717  0.0193  0.9314  0.2206  0.0903  0.5466  0.4331  0.5293\n",
      "  0.8955  0.0701  0.0771  0.1972  0.6405  0.3203  0.103   0.5605  0.4288\n",
      "  0.7101  0.6575  0.9498  0.555   0.0947  0.4293  0.31    0.7297  0.1973\n",
      "  0.1571  0.2272  0.2099  0.3972  0.0033  0.6441  0.5549  0.9193  0.5341\n",
      "  0.1555  0.1839  0.9949  0.7918  0.4088  0.2247  0.3901  0.4309  0.0732\n",
      "  0.8077  0.0854  0.8955  0.8794  0.1094  0.0726  0.4377  0.889   0.5791\n",
      "  0.9721  0.5719  0.3156  0.8065  0.4777  0.6264  0.2117  0.042   0.0916\n",
      "  0.6035  0.6354  0.4102  0.695   0.2153  0.0768  0.2356  0.1591  0.7171\n",
      "  0.9988  0.3936  0.0201  0.6295  0.1771  0.5888  0.5302  0.3434  0.7154\n",
      "  0.3506  0.5432  0.4687  0.013   0.1311  0.697   0.3996  0.2208  0.1119\n",
      "  0.4317]\n",
      "x2: [ 0.299   0.6392  0.0826  0.0823  0.8025  0.7404  0.3861  0.986   0.605\n",
      "  0.3618  0.761   0.7192  0.5181  0.1091  0.1085  0.2028  0.7049  0.688\n",
      "  0.8477  0.6176  0.7883  0.6273  0.1157  0.2305  0.314   0.3131  0.9205\n",
      "  0.0582  0.6994  0.5013  0.5152  0.4509  0.8343  0.473   0.7288  0.4028\n",
      "  0.116   0.3902  0.5191  0.7047  0.0438  0.228   0.8297  0.473   0.3764\n",
      "  0.4256  0.5615  0.4739  0.1968  0.8426  0.5714  0.3748  0.0957  0.3781\n",
      "  0.0761  0.1927  0.9469  0.8077  0.1245  0.9662  0.603   0.6766  0.2427\n",
      "  0.9348  0.5331  0.0088  0.9705  0.8802  0.6473  0.0892  0.6419  0.0732\n",
      "  0.2997  0.6253  0.0288  0.1586  0.7286  0.5323  0.1967  0.9183  0.2153\n",
      "  0.3529  0.1582  0.3701  0.7371  0.03    0.5609  0.2182  0.9182  0.5181\n",
      "  0.1568  0.8303  0.7515  0.3437  0.6214  0.6114  0.609   0.596   0.0293\n",
      "  0.3873]\n"
     ]
    }
   ],
   "source": [
    "x1 = data[:, 0]\n",
    "print \"x1:\", x1\n",
    "\n",
    "x2 = data[:, 1]\n",
    "print \"x2:\", x2\n",
    "\n",
    "y = data[:, 2]\n",
    "#print \"y:\", y\n",
    "\n",
    "z = data[:, 3]\n",
    "#print \"z:\", z"
   ]
  },
  {
   "cell_type": "code",
   "execution_count": 28,
   "metadata": {},
   "outputs": [
    {
     "name": "stdout",
     "output_type": "stream",
     "text": [
      "y_mean 0.075919\n",
      "w1: -1.50040034722\n",
      "w2:  3.71016742759\n",
      "b:  -1.02907821007\n"
     ]
    }
   ],
   "source": [
    "x1_mean = np.mean(x1)\n",
    "x2_mean = np.mean(x2)\n",
    "y_mean = np.mean(y)\n",
    "#print \"x1_mean:\", x1_mean\n",
    "#print \"x2_mean:\", x2_mean\n",
    "print \"y_mean\", y_mean\n",
    "\n",
    "dx1 = x1 - x1_mean\n",
    "dx2 = x2 - x2_mean\n",
    "dy = y - y_mean\n",
    "#print \"dx1:\", dx1\n",
    "#print \"dx2:\", dx2\n",
    "#print \"dy:\", dy\n",
    "\n",
    "w1 = sum(dx1 * dy) / sum(dx1 ** 2)\n",
    "print \"w1:\", w1\n",
    "\n",
    "w2 = sum(dx2 * dy) / sum(dx2 ** 2)\n",
    "print \"w2: \", w2\n",
    "\n",
    "b = y_mean - w1 * x1_mean - w2 * x2_mean\n",
    "print \"b: \", b"
   ]
  },
  {
   "cell_type": "code",
   "execution_count": 29,
   "metadata": {},
   "outputs": [
    {
     "name": "stdout",
     "output_type": "stream",
     "text": [
      "w1:  -2.81585508262\n",
      "w2:  3.11806208574\n"
     ]
    }
   ],
   "source": [
    "w1 = (sum(x2 ** 2) * sum(x1 * y) - sum(x1 * x2) * sum(x2 * y)) / (sum(x1 ** 2) * sum(x2 ** 2) - sum(x1 * x2) ** 2)\n",
    "w2 = (sum(x1 ** 2) * sum(x2 * y) - sum(x1 * x2) * sum(x1 * y)) / (sum(x1 ** 2) * sum(x2 ** 2) - sum(x1 * x2) ** 2)\n",
    "print \"w1: \", w1\n",
    "print \"w2: \", w2"
   ]
  },
  {
   "cell_type": "code",
   "execution_count": 31,
   "metadata": {},
   "outputs": [],
   "source": [
    "# reference: https://jonathantemplin.com/files/regression/ersh8320f07/ersh8320f07_06.pdf\n",
    "sum_y = sum(y)\n",
    "sum_x1 = sum(x1)\n",
    "sum_x2 = sum(x2)\n",
    "sum_y_2 = sum(y ** 2)\n",
    "\n",
    "N = float(len(y))\n",
    "sum_mini_y_2 = sum(y ** 2) - sum(y) ** 2 / N\n",
    "sum_mini_x1_2 = sum(x1 ** 2) - sum(x1) ** 2 / N\n",
    "sum_mini_x2_2 = sum(x2 ** 2) - sum(x2) ** 2 / N\n",
    "sum_mini_x1_y = sum(x1 * y) - sum(x1) * sum(y) / N\n",
    "sum_mini_x2_y = sum(x2 * y) - sum(x2) * sum(y) / N\n",
    "sum_mini_x1_x2 = sum(x1 * x2) - sum(x1) * sum(x2) / N\n",
    "\n",
    "w1 = (sum_mini_x2_2 * sum_mini_x1_y - sum_mini_x1_x2 * sum_mini_x2_y) / (sum_mini_x1_2 * sum_mini_x2_2 - sum_mini_x1_x2 ** 2)\n",
    "w2 = (sum_mini_x1_2 * sum_mini_x2_y - sum_mini_x1_x2 * sum_mini_x1_y) / (sum_mini_x2_2 * sum_mini_x1_2 - sum_mini_x1_x2 ** 2)\n",
    "b = y_mean - w1 * x1_mean - w2 * x2_mean"
   ]
  },
  {
   "cell_type": "code",
   "execution_count": 32,
   "metadata": {},
   "outputs": [
    {
     "name": "stdout",
     "output_type": "stream",
     "text": [
      "w1: -2.04424259514\n",
      "w2: 3.99686016866\n",
      "b: -0.924290811868\n"
     ]
    }
   ],
   "source": [
    "print \"w1:\", w1\n",
    "print \"w2:\", w2\n",
    "print \"b:\", b"
   ]
  },
  {
   "cell_type": "code",
   "execution_count": null,
   "metadata": {
    "collapsed": true
   },
   "outputs": [],
   "source": []
  }
 ],
 "metadata": {
  "kernelspec": {
   "display_name": "Python 2",
   "language": "python",
   "name": "python2"
  },
  "language_info": {
   "codemirror_mode": {
    "name": "ipython",
    "version": 2
   },
   "file_extension": ".py",
   "mimetype": "text/x-python",
   "name": "python",
   "nbconvert_exporter": "python",
   "pygments_lexer": "ipython2",
   "version": "2.7.13"
  }
 },
 "nbformat": 4,
 "nbformat_minor": 2
}
