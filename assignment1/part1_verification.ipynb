{
 "cells": [
  {
   "cell_type": "code",
   "execution_count": 1,
   "metadata": {
    "collapsed": true
   },
   "outputs": [],
   "source": [
    "import numpy as np"
   ]
  },
  {
   "cell_type": "code",
   "execution_count": 2,
   "metadata": {
    "collapsed": true
   },
   "outputs": [],
   "source": [
    "data = np.loadtxt('assign1_data.txt')\n",
    "#print data"
   ]
  },
  {
   "cell_type": "code",
   "execution_count": 3,
   "metadata": {},
   "outputs": [
    {
     "data": {
      "text/plain": [
       "array([ 0.1227,  0.3914,  0.7725,  0.8342,  0.5084,  0.9983,  0.6643,\n",
       "        0.0954,  0.6949,  0.6075,  0.3717,  0.0193,  0.9314,  0.2206,\n",
       "        0.0903,  0.5466,  0.4331,  0.5293,  0.8955,  0.0701,  0.0771,\n",
       "        0.1972,  0.6405,  0.3203,  0.103 ,  0.5605,  0.4288,  0.7101,\n",
       "        0.6575,  0.9498,  0.555 ,  0.0947,  0.4293,  0.31  ,  0.7297,\n",
       "        0.1973,  0.1571,  0.2272,  0.2099,  0.3972,  0.0033,  0.6441,\n",
       "        0.5549,  0.9193,  0.5341,  0.1555,  0.1839,  0.9949,  0.7918,\n",
       "        0.4088,  0.2247,  0.3901,  0.4309,  0.0732,  0.8077,  0.0854,\n",
       "        0.8955,  0.8794,  0.1094,  0.0726,  0.4377,  0.889 ,  0.5791,\n",
       "        0.9721,  0.5719,  0.3156,  0.8065,  0.4777,  0.6264,  0.2117,\n",
       "        0.042 ,  0.0916,  0.6035,  0.6354,  0.4102,  0.695 ,  0.2153,\n",
       "        0.0768,  0.2356,  0.1591,  0.7171,  0.9988,  0.3936,  0.0201,\n",
       "        0.6295,  0.1771,  0.5888,  0.5302,  0.3434,  0.7154,  0.3506,\n",
       "        0.5432,  0.4687,  0.013 ,  0.1311,  0.697 ,  0.3996,  0.2208,\n",
       "        0.1119,  0.4317])"
      ]
     },
     "execution_count": 3,
     "metadata": {},
     "output_type": "execute_result"
    }
   ],
   "source": [
    "x1 = data[:, 0]\n",
    "#print \"x1:\", x1\n",
    "\n",
    "x2 = data[:, 1]\n",
    "#print \"x2:\", x2\n",
    "\n",
    "y = data[:, 2]\n",
    "#print \"y:\", y\n",
    "\n",
    "z = data[:, 3]\n",
    "#print \"z:\", z\n",
    "x1"
   ]
  },
  {
   "cell_type": "code",
   "execution_count": 9,
   "metadata": {
    "collapsed": true
   },
   "outputs": [],
   "source": [
    "x = np.array((x1, x2)).T"
   ]
  },
  {
   "cell_type": "code",
   "execution_count": 10,
   "metadata": {},
   "outputs": [
    {
     "data": {
      "text/plain": [
       "(100, 2)"
      ]
     },
     "execution_count": 10,
     "metadata": {},
     "output_type": "execute_result"
    }
   ],
   "source": [
    "x.shape"
   ]
  },
  {
   "cell_type": "code",
   "execution_count": 11,
   "metadata": {
    "collapsed": true
   },
   "outputs": [],
   "source": [
    "from sklearn.linear_model import LinearRegression"
   ]
  },
  {
   "cell_type": "code",
   "execution_count": 12,
   "metadata": {
    "collapsed": true
   },
   "outputs": [],
   "source": [
    "l = LinearRegression()"
   ]
  },
  {
   "cell_type": "code",
   "execution_count": 13,
   "metadata": {},
   "outputs": [
    {
     "name": "stderr",
     "output_type": "stream",
     "text": [
      "/usr/local/lib/python2.7/site-packages/scipy/linalg/basic.py:1018: RuntimeWarning: internal gelsd driver lwork query error, required iwork dimension not returned. This is likely the result of LAPACK bug 0038, fixed in LAPACK 3.2.2 (released July 21, 2010). Falling back to 'gelss' driver.\n",
      "  warnings.warn(mesg, RuntimeWarning)\n"
     ]
    },
    {
     "data": {
      "text/plain": [
       "LinearRegression(copy_X=True, fit_intercept=True, n_jobs=1, normalize=False)"
      ]
     },
     "execution_count": 13,
     "metadata": {},
     "output_type": "execute_result"
    }
   ],
   "source": [
    "l.fit(x, y)"
   ]
  },
  {
   "cell_type": "code",
   "execution_count": 14,
   "metadata": {},
   "outputs": [
    {
     "data": {
      "text/plain": [
       "-0.92429081186758777"
      ]
     },
     "execution_count": 14,
     "metadata": {},
     "output_type": "execute_result"
    }
   ],
   "source": [
    "l.intercept_"
   ]
  },
  {
   "cell_type": "code",
   "execution_count": 15,
   "metadata": {},
   "outputs": [
    {
     "data": {
      "text/plain": [
       "array([-2.0442426 ,  3.99686017])"
      ]
     },
     "execution_count": 15,
     "metadata": {},
     "output_type": "execute_result"
    }
   ],
   "source": [
    "l.coef_"
   ]
  },
  {
   "cell_type": "code",
   "execution_count": null,
   "metadata": {
    "collapsed": true
   },
   "outputs": [],
   "source": []
  }
 ],
 "metadata": {
  "kernelspec": {
   "display_name": "Python 2",
   "language": "python",
   "name": "python2"
  },
  "language_info": {
   "codemirror_mode": {
    "name": "ipython",
    "version": 2
   },
   "file_extension": ".py",
   "mimetype": "text/x-python",
   "name": "python",
   "nbconvert_exporter": "python",
   "pygments_lexer": "ipython2",
   "version": "2.7.13"
  }
 },
 "nbformat": 4,
 "nbformat_minor": 2
}
